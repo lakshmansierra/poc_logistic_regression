{
  "cells": [
    {
      "cell_type": "markdown",
      "metadata": {
        "colab_type": "text",
        "id": "37puETfgRzzg"
      },
      "source": [
        "# Logistic Regression on cluster_1_updated_data\n"
      ]
    },
    {
      "cell_type": "markdown",
      "metadata": {
        "colab_type": "text",
        "id": "EoRP98MpR-qj"
      },
      "source": [
        "## Importing the libraries"
      ]
    },
    {
      "cell_type": "code",
      "execution_count": 81,
      "metadata": {
        "colab": {},
        "colab_type": "code",
        "id": "N-qiINBQSK2g"
      },
      "outputs": [],
      "source": [
        "import os\n",
        "import numpy as np\n",
        "import matplotlib.pyplot as plt\n",
        "import pandas as pd\n",
        "from datetime import datetime"
      ]
    },
    {
      "cell_type": "markdown",
      "metadata": {
        "colab_type": "text",
        "id": "RopL7tUZSQkT"
      },
      "source": [
        "## Importing the dataset"
      ]
    },
    {
      "cell_type": "code",
      "execution_count": 82,
      "metadata": {},
      "outputs": [],
      "source": [
        "# pyspark_df = spark.table(\"sd_bdc_demo.k_cluster_logistic_regression.2_5_am_workday_cluster_1_updated_data\")\n",
        "# pyspark_df.display()\n",
        "# df = pyspark_df.toPandas()"
      ]
    },
    {
      "cell_type": "code",
      "execution_count": 83,
      "metadata": {
        "colab": {},
        "colab_type": "code",
        "id": "WwEPNDWySTKm"
      },
      "outputs": [],
      "source": [
        "df = pd.read_csv(\"2_5_am_workday_cluster_1_updated_data/2_5_am_workday_cluster_1_updated_data.csv\")\n"
      ]
    },
    {
      "cell_type": "code",
      "execution_count": 84,
      "metadata": {},
      "outputs": [
        {
          "name": "stdout",
          "output_type": "stream",
          "text": [
            "<class 'pandas.core.frame.DataFrame'>\n"
          ]
        }
      ],
      "source": [
        "print(type(df))"
      ]
    },
    {
      "cell_type": "code",
      "execution_count": 85,
      "metadata": {},
      "outputs": [
        {
          "name": "stdout",
          "output_type": "stream",
          "text": [
            "Index(['Current_Role', 'Zip_Code', 'Employee_ID', 'Employee_Annual_Salary',\n",
            "       'Monthly_Medical_contribution', 'Monthly_Dental_Contribution',\n",
            "       'Monthly_Vision_Contribution', 'Bonus', 'Years_Of_Service',\n",
            "       'Department', 'Gender', 'Employee_HR_rate', 'Hours_per_week',\n",
            "       'Years_Since_Last_Promotion', 'age', 'left'],\n",
            "      dtype='object')\n"
          ]
        }
      ],
      "source": [
        "print(df.columns)"
      ]
    },
    {
      "cell_type": "code",
      "execution_count": 86,
      "metadata": {},
      "outputs": [
        {
          "name": "stdout",
          "output_type": "stream",
          "text": [
            "             Current_Role  Zip_Code  Employee_ID  Employee_Annual_Salary  \\\n",
            "0         Design Director     78701           72                  215200   \n",
            "1         Design Director     78702           73                  217600   \n",
            "2         Design Director     78702           75                  218200   \n",
            "3          Director of HR      2108           76                  220000   \n",
            "4  Director of Operations     98106           77                  211000   \n",
            "\n",
            "   Monthly_Medical_contribution  Monthly_Dental_Contribution  \\\n",
            "0                           180                           45   \n",
            "1                           180                           45   \n",
            "2                           180                           45   \n",
            "3                           180                           45   \n",
            "4                           180                           45   \n",
            "\n",
            "   Monthly_Vision_Contribution  Bonus  Years_Of_Service       Department  \\\n",
            "0                           23  48635               9.2           Design   \n",
            "1                           23  49613               9.6           Design   \n",
            "2                           23  49859               9.7           Design   \n",
            "3                           23  50600              11.5  Human Resources   \n",
            "4                           23  46948               8.5       Operations   \n",
            "\n",
            "   Gender  Employee_HR_rate  Hours_per_week  Years_Since_Last_Promotion  age  \\\n",
            "0  Female                69              40                    3.066393   34   \n",
            "1  Female               150              40                    5.388090   33   \n",
            "2  Female               110              40                    4.821355   38   \n",
            "3    Male                76              40                    5.481177   33   \n",
            "4    Male                64              40                    5.240246   36   \n",
            "\n",
            "   left  \n",
            "0     0  \n",
            "1     1  \n",
            "2     0  \n",
            "3     1  \n",
            "4     1  \n"
          ]
        }
      ],
      "source": [
        "print(df.head())"
      ]
    },
    {
      "cell_type": "code",
      "execution_count": 87,
      "metadata": {},
      "outputs": [
        {
          "name": "stdout",
          "output_type": "stream",
          "text": [
            "(16, 16)\n"
          ]
        }
      ],
      "source": [
        "print(df.shape)"
      ]
    },
    {
      "cell_type": "markdown",
      "metadata": {
        "colab_type": "text",
        "id": "CriG6VzVSjcK"
      },
      "source": [
        "## Encoding categorical data"
      ]
    },
    {
      "cell_type": "markdown",
      "metadata": {
        "colab_type": "text",
        "id": "AhSpdQWeSsFh"
      },
      "source": [
        "### Encoding the Independent Variable"
      ]
    },
    {
      "cell_type": "code",
      "execution_count": 88,
      "metadata": {},
      "outputs": [],
      "source": [
        "df_encoded = pd.get_dummies(df, columns=['Current_Role', 'Department', 'Gender'], drop_first=False).astype(int)\n"
      ]
    },
    {
      "cell_type": "code",
      "execution_count": 89,
      "metadata": {},
      "outputs": [
        {
          "name": "stdout",
          "output_type": "stream",
          "text": [
            "   Zip_Code  Employee_ID  Employee_Annual_Salary  \\\n",
            "0     78701           72                  215200   \n",
            "1     78702           73                  217600   \n",
            "2     78702           75                  218200   \n",
            "3      2108           76                  220000   \n",
            "4     98106           77                  211000   \n",
            "\n",
            "   Monthly_Medical_contribution  Monthly_Dental_Contribution  \\\n",
            "0                           180                           45   \n",
            "1                           180                           45   \n",
            "2                           180                           45   \n",
            "3                           180                           45   \n",
            "4                           180                           45   \n",
            "\n",
            "   Monthly_Vision_Contribution  Bonus  Years_Of_Service  Employee_HR_rate  \\\n",
            "0                           23  48635                 9                69   \n",
            "1                           23  49613                 9               150   \n",
            "2                           23  49859                 9               110   \n",
            "3                           23  50600                11                76   \n",
            "4                           23  46948                 8                64   \n",
            "\n",
            "   Hours_per_week  ...  Current_Role_Sales Director  \\\n",
            "0              40  ...                            0   \n",
            "1              40  ...                            0   \n",
            "2              40  ...                            0   \n",
            "3              40  ...                            0   \n",
            "4              40  ...                            0   \n",
            "\n",
            "   Current_Role_Technical Director  Department_Design  Department_Engineering  \\\n",
            "0                                0                  1                       0   \n",
            "1                                0                  1                       0   \n",
            "2                                0                  1                       0   \n",
            "3                                0                  0                       0   \n",
            "4                                0                  0                       0   \n",
            "\n",
            "   Department_Human Resources  Department_Operations  Department_Product  \\\n",
            "0                           0                      0                   0   \n",
            "1                           0                      0                   0   \n",
            "2                           0                      0                   0   \n",
            "3                           1                      0                   0   \n",
            "4                           0                      1                   0   \n",
            "\n",
            "   Department_Sales  Gender_Female  Gender_Male  \n",
            "0                 0              1            0  \n",
            "1                 0              1            0  \n",
            "2                 0              1            0  \n",
            "3                 0              0            1  \n",
            "4                 0              0            1  \n",
            "\n",
            "[5 rows x 34 columns]\n"
          ]
        }
      ],
      "source": [
        "print(df_encoded.head())"
      ]
    },
    {
      "cell_type": "code",
      "execution_count": 90,
      "metadata": {},
      "outputs": [
        {
          "name": "stdout",
          "output_type": "stream",
          "text": [
            "(16, 34)\n"
          ]
        }
      ],
      "source": [
        "print(df_encoded.shape)"
      ]
    },
    {
      "cell_type": "markdown",
      "metadata": {},
      "source": [
        "## Split two Data Frame for Independent Features & Dependent Columns"
      ]
    },
    {
      "cell_type": "code",
      "execution_count": 91,
      "metadata": {},
      "outputs": [],
      "source": [
        "df_independent = df_encoded.drop(columns=['left'])\n",
        "X = df_independent\n",
        "df_dependent = df_encoded[['left']]\n",
        "y = df_dependent"
      ]
    },
    {
      "cell_type": "code",
      "execution_count": 92,
      "metadata": {},
      "outputs": [
        {
          "name": "stdout",
          "output_type": "stream",
          "text": [
            "   Zip_Code  Employee_ID  Employee_Annual_Salary  \\\n",
            "0     78701           72                  215200   \n",
            "1     78702           73                  217600   \n",
            "2     78702           75                  218200   \n",
            "3      2108           76                  220000   \n",
            "4     98106           77                  211000   \n",
            "\n",
            "   Monthly_Medical_contribution  Monthly_Dental_Contribution  \\\n",
            "0                           180                           45   \n",
            "1                           180                           45   \n",
            "2                           180                           45   \n",
            "3                           180                           45   \n",
            "4                           180                           45   \n",
            "\n",
            "   Monthly_Vision_Contribution  Bonus  Years_Of_Service  Employee_HR_rate  \\\n",
            "0                           23  48635                 9                69   \n",
            "1                           23  49613                 9               150   \n",
            "2                           23  49859                 9               110   \n",
            "3                           23  50600                11                76   \n",
            "4                           23  46948                 8                64   \n",
            "\n",
            "   Hours_per_week  ...  Current_Role_Sales Director  \\\n",
            "0              40  ...                            0   \n",
            "1              40  ...                            0   \n",
            "2              40  ...                            0   \n",
            "3              40  ...                            0   \n",
            "4              40  ...                            0   \n",
            "\n",
            "   Current_Role_Technical Director  Department_Design  Department_Engineering  \\\n",
            "0                                0                  1                       0   \n",
            "1                                0                  1                       0   \n",
            "2                                0                  1                       0   \n",
            "3                                0                  0                       0   \n",
            "4                                0                  0                       0   \n",
            "\n",
            "   Department_Human Resources  Department_Operations  Department_Product  \\\n",
            "0                           0                      0                   0   \n",
            "1                           0                      0                   0   \n",
            "2                           0                      0                   0   \n",
            "3                           1                      0                   0   \n",
            "4                           0                      1                   0   \n",
            "\n",
            "   Department_Sales  Gender_Female  Gender_Male  \n",
            "0                 0              1            0  \n",
            "1                 0              1            0  \n",
            "2                 0              1            0  \n",
            "3                 0              0            1  \n",
            "4                 0              0            1  \n",
            "\n",
            "[5 rows x 33 columns]\n"
          ]
        }
      ],
      "source": [
        "print(df_independent.head())\n"
      ]
    },
    {
      "cell_type": "code",
      "execution_count": 93,
      "metadata": {},
      "outputs": [
        {
          "name": "stdout",
          "output_type": "stream",
          "text": [
            "(16, 33)\n"
          ]
        }
      ],
      "source": [
        "print(df_independent.shape)"
      ]
    },
    {
      "cell_type": "code",
      "execution_count": 94,
      "metadata": {},
      "outputs": [
        {
          "name": "stdout",
          "output_type": "stream",
          "text": [
            "   left\n",
            "0     0\n",
            "1     1\n",
            "2     0\n",
            "3     1\n",
            "4     1\n"
          ]
        }
      ],
      "source": [
        "print(df_dependent.head())"
      ]
    },
    {
      "cell_type": "code",
      "execution_count": 95,
      "metadata": {},
      "outputs": [
        {
          "name": "stdout",
          "output_type": "stream",
          "text": [
            "(16, 1)\n"
          ]
        }
      ],
      "source": [
        "print(df_dependent.shape)"
      ]
    },
    {
      "cell_type": "markdown",
      "metadata": {
        "colab_type": "text",
        "id": "qb_vcgm3qZKW"
      },
      "source": [
        "## Splitting the dataset into the Training set and Test set"
      ]
    },
    {
      "cell_type": "code",
      "execution_count": 96,
      "metadata": {},
      "outputs": [],
      "source": [
        "from sklearn.model_selection import train_test_split\n",
        "X_train, X_test, y_train, y_test = train_test_split(X, y, test_size = 0.2, random_state = 1)"
      ]
    },
    {
      "cell_type": "code",
      "execution_count": 97,
      "metadata": {
        "colab": {
          "base_uri": "https://localhost:8080/",
          "height": 154
        },
        "colab_type": "code",
        "id": "GuwQhFdKrYTM",
        "outputId": "de1e527f-c229-4daf-e7c5-ea9d2485148d"
      },
      "outputs": [
        {
          "name": "stdout",
          "output_type": "stream",
          "text": [
            "    Zip_Code  Employee_ID  Employee_Annual_Salary  \\\n",
            "6      94104           79                  155100   \n",
            "10     78704          117                  179500   \n",
            "4      98106           77                  211000   \n",
            "1      78702           73                  217600   \n",
            "14     90010          126                  209800   \n",
            "\n",
            "    Monthly_Medical_contribution  Monthly_Dental_Contribution  \\\n",
            "6                            155                           40   \n",
            "10                           155                           40   \n",
            "4                            180                           45   \n",
            "1                            180                           45   \n",
            "14                           180                           45   \n",
            "\n",
            "    Monthly_Vision_Contribution  Bonus  Years_Of_Service  Employee_HR_rate  \\\n",
            "6                            21  24661                 7                71   \n",
            "10                           21  34015                 7                62   \n",
            "4                            23  46948                 8                64   \n",
            "1                            23  49613                 9               150   \n",
            "14                           23  46471                 8                77   \n",
            "\n",
            "    Hours_per_week  ...  Current_Role_Sales Director  \\\n",
            "6               40  ...                            0   \n",
            "10              40  ...                            0   \n",
            "4               40  ...                            0   \n",
            "1               40  ...                            0   \n",
            "14              40  ...                            1   \n",
            "\n",
            "    Current_Role_Technical Director  Department_Design  \\\n",
            "6                                 0                  0   \n",
            "10                                0                  1   \n",
            "4                                 0                  0   \n",
            "1                                 0                  1   \n",
            "14                                0                  0   \n",
            "\n",
            "    Department_Engineering  Department_Human Resources  Department_Operations  \\\n",
            "6                        1                           0                      0   \n",
            "10                       0                           0                      0   \n",
            "4                        0                           0                      1   \n",
            "1                        0                           0                      0   \n",
            "14                       0                           0                      0   \n",
            "\n",
            "    Department_Product  Department_Sales  Gender_Female  Gender_Male  \n",
            "6                    0                 0              1            0  \n",
            "10                   0                 0              0            1  \n",
            "4                    0                 0              0            1  \n",
            "1                    0                 0              1            0  \n",
            "14                   0                 1              1            0  \n",
            "\n",
            "[5 rows x 33 columns]\n"
          ]
        }
      ],
      "source": [
        "print(X_train.head())"
      ]
    },
    {
      "cell_type": "code",
      "execution_count": 98,
      "metadata": {},
      "outputs": [
        {
          "name": "stdout",
          "output_type": "stream",
          "text": [
            "(12, 33)\n"
          ]
        }
      ],
      "source": [
        "print(X_train.shape)"
      ]
    },
    {
      "cell_type": "code",
      "execution_count": 99,
      "metadata": {
        "colab": {
          "base_uri": "https://localhost:8080/",
          "height": 51
        },
        "colab_type": "code",
        "id": "TUrX_Tvcrbi4",
        "outputId": "9a041a9b-2642-4828-fa2f-a431d7d77631"
      },
      "outputs": [
        {
          "name": "stdout",
          "output_type": "stream",
          "text": [
            "    Zip_Code  Employee_ID  Employee_Annual_Salary  \\\n",
            "3       2108           76                  220000   \n",
            "13     10010          121                  209200   \n",
            "7      10010          103                  153750   \n",
            "2      78702           75                  218200   \n",
            "\n",
            "    Monthly_Medical_contribution  Monthly_Dental_Contribution  \\\n",
            "3                            180                           45   \n",
            "13                           180                           45   \n",
            "7                            155                           40   \n",
            "2                            180                           45   \n",
            "\n",
            "    Monthly_Vision_Contribution  Bonus  Years_Of_Service  Employee_HR_rate  \\\n",
            "3                            23  50600                11                76   \n",
            "13                           23  46233                 8               128   \n",
            "7                            21  18066                 7               108   \n",
            "2                            23  49859                 9               110   \n",
            "\n",
            "    Hours_per_week  ...  Current_Role_Sales Director  \\\n",
            "3               40  ...                            0   \n",
            "13              40  ...                            0   \n",
            "7               40  ...                            0   \n",
            "2               40  ...                            0   \n",
            "\n",
            "    Current_Role_Technical Director  Department_Design  \\\n",
            "3                                 0                  0   \n",
            "13                                0                  0   \n",
            "7                                 0                  0   \n",
            "2                                 0                  1   \n",
            "\n",
            "    Department_Engineering  Department_Human Resources  Department_Operations  \\\n",
            "3                        0                           1                      0   \n",
            "13                       0                           0                      0   \n",
            "7                        0                           0                      0   \n",
            "2                        0                           0                      0   \n",
            "\n",
            "    Department_Product  Department_Sales  Gender_Female  Gender_Male  \n",
            "3                    0                 0              0            1  \n",
            "13                   1                 0              1            0  \n",
            "7                    1                 0              1            0  \n",
            "2                    0                 0              1            0  \n",
            "\n",
            "[4 rows x 33 columns]\n"
          ]
        }
      ],
      "source": [
        "print(X_test.head())"
      ]
    },
    {
      "cell_type": "code",
      "execution_count": 100,
      "metadata": {},
      "outputs": [
        {
          "name": "stdout",
          "output_type": "stream",
          "text": [
            "(4, 33)\n"
          ]
        }
      ],
      "source": [
        "print(X_test.shape)"
      ]
    },
    {
      "cell_type": "code",
      "execution_count": 101,
      "metadata": {
        "colab": {
          "base_uri": "https://localhost:8080/",
          "height": 34
        },
        "colab_type": "code",
        "id": "pSMHiIsWreQY",
        "outputId": "5afe91e0-9244-4bf5-ec1b-e3e092b85c08"
      },
      "outputs": [
        {
          "name": "stdout",
          "output_type": "stream",
          "text": [
            "    left\n",
            "6      0\n",
            "10     0\n",
            "4      1\n",
            "1      1\n",
            "14     0\n"
          ]
        }
      ],
      "source": [
        "print(y_train.head())"
      ]
    },
    {
      "cell_type": "code",
      "execution_count": 102,
      "metadata": {},
      "outputs": [
        {
          "name": "stdout",
          "output_type": "stream",
          "text": [
            "(12, 1)\n"
          ]
        }
      ],
      "source": [
        "print(y_train.shape)"
      ]
    },
    {
      "cell_type": "code",
      "execution_count": 103,
      "metadata": {
        "colab": {
          "base_uri": "https://localhost:8080/",
          "height": 34
        },
        "colab_type": "code",
        "id": "I_tW7H56rgtW",
        "outputId": "2a93f141-2a99-4a69-eec5-c82a3bb8d36b"
      },
      "outputs": [
        {
          "name": "stdout",
          "output_type": "stream",
          "text": [
            "    left\n",
            "3      1\n",
            "13     0\n",
            "7      0\n",
            "2      0\n"
          ]
        }
      ],
      "source": [
        "print(y_test.head())"
      ]
    },
    {
      "cell_type": "code",
      "execution_count": 104,
      "metadata": {},
      "outputs": [
        {
          "name": "stdout",
          "output_type": "stream",
          "text": [
            "(4, 1)\n"
          ]
        }
      ],
      "source": [
        "print(y_test.shape)"
      ]
    },
    {
      "cell_type": "markdown",
      "metadata": {},
      "source": [
        "## Feature Scaling"
      ]
    },
    {
      "cell_type": "code",
      "execution_count": 105,
      "metadata": {},
      "outputs": [],
      "source": [
        "from sklearn.preprocessing import StandardScaler\n",
        "sc = StandardScaler()\n",
        "\n",
        "# List of columns to scale\n",
        "columns_to_scale = [\n",
        "    'Employee_Annual_Salary', 'Monthly_Medical_contribution',\n",
        "    'Monthly_Dental_Contribution', 'Monthly_Vision_Contribution', 'Bonus',\n",
        "    'Years_Of_Service', 'Employee_HR_rate', 'Hours_per_week',\n",
        "    'Years_Since_Last_Promotion', 'age'\n",
        "]\n",
        "\n",
        "# Fit sc on training data and transform both training and test sets\n",
        "X_train_scaled = X_train.copy()\n",
        "X_test_scaled = X_test.copy()\n",
        "\n",
        "X_train_scaled[columns_to_scale] = sc.fit_transform(X_train_scaled[columns_to_scale])\n",
        "X_test_scaled[columns_to_scale] = sc.transform(X_test_scaled[columns_to_scale])\n"
      ]
    },
    {
      "cell_type": "code",
      "execution_count": 106,
      "metadata": {
        "colab": {
          "base_uri": "https://localhost:8080/",
          "height": 154
        },
        "colab_type": "code",
        "id": "DWPET8ZdlMnu",
        "outputId": "dea86927-5124-4e2a-e974-2804df9a913c"
      },
      "outputs": [
        {
          "name": "stdout",
          "output_type": "stream",
          "text": [
            "    Zip_Code  Employee_ID  Employee_Annual_Salary  \\\n",
            "6      94104           79               -2.249036   \n",
            "10     78704          117               -0.963872   \n",
            "4      98106           77                0.695252   \n",
            "1      78702           73                1.042878   \n",
            "14     90010          126                0.632047   \n",
            "0      78701           72                0.916469   \n",
            "15     94103          149                1.169288   \n",
            "9      98102          116               -0.410831   \n",
            "8      98106          115               -0.463501   \n",
            "12     98102          119               -0.410831   \n",
            "11     10010          118               -0.779525   \n",
            "5      10010           78                0.821662   \n",
            "\n",
            "    Monthly_Medical_contribution  Monthly_Dental_Contribution  \\\n",
            "6                           -1.0                         -1.0   \n",
            "10                          -1.0                         -1.0   \n",
            "4                            1.0                          1.0   \n",
            "1                            1.0                          1.0   \n",
            "14                           1.0                          1.0   \n",
            "0                            1.0                          1.0   \n",
            "15                           1.0                          1.0   \n",
            "9                           -1.0                         -1.0   \n",
            "8                           -1.0                         -1.0   \n",
            "12                          -1.0                         -1.0   \n",
            "11                          -1.0                         -1.0   \n",
            "5                            1.0                          1.0   \n",
            "\n",
            "    Monthly_Vision_Contribution     Bonus  Years_Of_Service  Employee_HR_rate  \\\n",
            "6                          -1.0 -1.994517         -1.526117         -0.914334   \n",
            "10                         -1.0 -0.854358         -1.526117         -1.203918   \n",
            "4                           1.0  0.722046         -0.562254         -1.139566   \n",
            "1                           1.0  1.046883          0.401610          1.627568   \n",
            "14                          1.0  0.663904         -0.562254         -0.721278   \n",
            "0                           1.0  0.927674          0.401610         -0.978686   \n",
            "15                          1.0  1.167188          1.365473          0.662289   \n",
            "9                          -1.0 -0.368626          1.365473          1.305808   \n",
            "8                          -1.0 -0.416041          0.401610         -0.496046   \n",
            "12                         -1.0 -0.368626          1.365473          0.018769   \n",
            "11                         -1.0 -1.364589         -0.562254          0.597937   \n",
            "5                           1.0  0.839060         -0.562254          1.241456   \n",
            "\n",
            "    Hours_per_week  ...  Current_Role_Sales Director  \\\n",
            "6              0.0  ...                            0   \n",
            "10             0.0  ...                            0   \n",
            "4              0.0  ...                            0   \n",
            "1              0.0  ...                            0   \n",
            "14             0.0  ...                            1   \n",
            "0              0.0  ...                            0   \n",
            "15             0.0  ...                            0   \n",
            "9              0.0  ...                            0   \n",
            "8              0.0  ...                            0   \n",
            "12             0.0  ...                            0   \n",
            "11             0.0  ...                            0   \n",
            "5              0.0  ...                            0   \n",
            "\n",
            "    Current_Role_Technical Director  Department_Design  \\\n",
            "6                                 0                  0   \n",
            "10                                0                  1   \n",
            "4                                 0                  0   \n",
            "1                                 0                  1   \n",
            "14                                0                  0   \n",
            "0                                 0                  1   \n",
            "15                                1                  0   \n",
            "9                                 0                  0   \n",
            "8                                 0                  0   \n",
            "12                                0                  0   \n",
            "11                                0                  0   \n",
            "5                                 0                  0   \n",
            "\n",
            "    Department_Engineering  Department_Human Resources  Department_Operations  \\\n",
            "6                        1                           0                      0   \n",
            "10                       0                           0                      0   \n",
            "4                        0                           0                      1   \n",
            "1                        0                           0                      0   \n",
            "14                       0                           0                      0   \n",
            "0                        0                           0                      0   \n",
            "15                       1                           0                      0   \n",
            "9                        1                           0                      0   \n",
            "8                        1                           0                      0   \n",
            "12                       1                           0                      0   \n",
            "11                       0                           0                      0   \n",
            "5                        0                           0                      0   \n",
            "\n",
            "    Department_Product  Department_Sales  Gender_Female  Gender_Male  \n",
            "6                    0                 0              1            0  \n",
            "10                   0                 0              0            1  \n",
            "4                    0                 0              0            1  \n",
            "1                    0                 0              1            0  \n",
            "14                   0                 1              1            0  \n",
            "0                    0                 0              1            0  \n",
            "15                   0                 0              1            0  \n",
            "9                    0                 0              1            0  \n",
            "8                    0                 0              0            1  \n",
            "12                   0                 0              1            0  \n",
            "11                   1                 0              1            0  \n",
            "5                    1                 0              1            0  \n",
            "\n",
            "[12 rows x 33 columns]\n"
          ]
        }
      ],
      "source": [
        "print(X_train_scaled)"
      ]
    },
    {
      "cell_type": "code",
      "execution_count": 107,
      "metadata": {
        "colab": {
          "base_uri": "https://localhost:8080/",
          "height": 51
        },
        "colab_type": "code",
        "id": "sTXykB_QlRjE",
        "outputId": "b68f0cfc-d07c-48cb-80d0-6800028c41f9"
      },
      "outputs": [
        {
          "name": "stdout",
          "output_type": "stream",
          "text": [
            "    Zip_Code  Employee_ID  Employee_Annual_Salary  \\\n",
            "3       2108           76                1.169288   \n",
            "13     10010          121                0.600445   \n",
            "7      10010          103               -2.320141   \n",
            "2      78702           75                1.074481   \n",
            "\n",
            "    Monthly_Medical_contribution  Monthly_Dental_Contribution  \\\n",
            "3                            1.0                          1.0   \n",
            "13                           1.0                          1.0   \n",
            "7                           -1.0                         -1.0   \n",
            "2                            1.0                          1.0   \n",
            "\n",
            "    Monthly_Vision_Contribution     Bonus  Years_Of_Service  Employee_HR_rate  \\\n",
            "3                           1.0  1.167188          2.329336         -0.753454   \n",
            "13                          1.0  0.634895         -0.562254          0.919697   \n",
            "7                          -1.0 -2.798381         -1.526117          0.276177   \n",
            "2                           1.0  1.076868          0.401610          0.340529   \n",
            "\n",
            "    Hours_per_week  ...  Current_Role_Sales Director  \\\n",
            "3              0.0  ...                            0   \n",
            "13             0.0  ...                            0   \n",
            "7              0.0  ...                            0   \n",
            "2              0.0  ...                            0   \n",
            "\n",
            "    Current_Role_Technical Director  Department_Design  \\\n",
            "3                                 0                  0   \n",
            "13                                0                  0   \n",
            "7                                 0                  0   \n",
            "2                                 0                  1   \n",
            "\n",
            "    Department_Engineering  Department_Human Resources  Department_Operations  \\\n",
            "3                        0                           1                      0   \n",
            "13                       0                           0                      0   \n",
            "7                        0                           0                      0   \n",
            "2                        0                           0                      0   \n",
            "\n",
            "    Department_Product  Department_Sales  Gender_Female  Gender_Male  \n",
            "3                    0                 0              0            1  \n",
            "13                   1                 0              1            0  \n",
            "7                    1                 0              1            0  \n",
            "2                    0                 0              1            0  \n",
            "\n",
            "[4 rows x 33 columns]\n"
          ]
        }
      ],
      "source": [
        "print(X_test_scaled)"
      ]
    },
    {
      "cell_type": "markdown",
      "metadata": {},
      "source": [
        "### Removing `Employee ID` & `Zip Code` in `X_train_scaled` & `X_test_scaled`"
      ]
    },
    {
      "cell_type": "code",
      "execution_count": 108,
      "metadata": {},
      "outputs": [
        {
          "name": "stdout",
          "output_type": "stream",
          "text": [
            "<class 'pandas.core.frame.DataFrame'>\n"
          ]
        }
      ],
      "source": [
        "print(type(X_train_scaled))"
      ]
    },
    {
      "cell_type": "code",
      "execution_count": 109,
      "metadata": {},
      "outputs": [
        {
          "name": "stdout",
          "output_type": "stream",
          "text": [
            "    Employee_Annual_Salary  Monthly_Medical_contribution  \\\n",
            "6                -2.249036                          -1.0   \n",
            "10               -0.963872                          -1.0   \n",
            "4                 0.695252                           1.0   \n",
            "1                 1.042878                           1.0   \n",
            "14                0.632047                           1.0   \n",
            "0                 0.916469                           1.0   \n",
            "15                1.169288                           1.0   \n",
            "9                -0.410831                          -1.0   \n",
            "8                -0.463501                          -1.0   \n",
            "12               -0.410831                          -1.0   \n",
            "11               -0.779525                          -1.0   \n",
            "5                 0.821662                           1.0   \n",
            "\n",
            "    Monthly_Dental_Contribution  Monthly_Vision_Contribution     Bonus  \\\n",
            "6                          -1.0                         -1.0 -1.994517   \n",
            "10                         -1.0                         -1.0 -0.854358   \n",
            "4                           1.0                          1.0  0.722046   \n",
            "1                           1.0                          1.0  1.046883   \n",
            "14                          1.0                          1.0  0.663904   \n",
            "0                           1.0                          1.0  0.927674   \n",
            "15                          1.0                          1.0  1.167188   \n",
            "9                          -1.0                         -1.0 -0.368626   \n",
            "8                          -1.0                         -1.0 -0.416041   \n",
            "12                         -1.0                         -1.0 -0.368626   \n",
            "11                         -1.0                         -1.0 -1.364589   \n",
            "5                           1.0                          1.0  0.839060   \n",
            "\n",
            "    Years_Of_Service  Employee_HR_rate  Hours_per_week  \\\n",
            "6          -1.526117         -0.914334             0.0   \n",
            "10         -1.526117         -1.203918             0.0   \n",
            "4          -0.562254         -1.139566             0.0   \n",
            "1           0.401610          1.627568             0.0   \n",
            "14         -0.562254         -0.721278             0.0   \n",
            "0           0.401610         -0.978686             0.0   \n",
            "15          1.365473          0.662289             0.0   \n",
            "9           1.365473          1.305808             0.0   \n",
            "8           0.401610         -0.496046             0.0   \n",
            "12          1.365473          0.018769             0.0   \n",
            "11         -0.562254          0.597937             0.0   \n",
            "5          -0.562254          1.241456             0.0   \n",
            "\n",
            "    Years_Since_Last_Promotion       age  ...  Current_Role_Sales Director  \\\n",
            "6                    -0.686803 -0.588317  ...                            0   \n",
            "10                   -0.686803 -0.959886  ...                            0   \n",
            "4                     0.961524  0.154820  ...                            0   \n",
            "1                     0.961524 -0.959886  ...                            0   \n",
            "14                   -0.686803 -1.703023  ...                            1   \n",
            "0                    -0.686803 -0.588317  ...                            0   \n",
            "15                    0.961524  1.641095  ...                            0   \n",
            "9                     0.961524 -0.588317  ...                            0   \n",
            "8                    -2.335130  1.269526  ...                            0   \n",
            "12                    0.961524  0.897958  ...                            0   \n",
            "11                    0.137361  0.526389  ...                            0   \n",
            "5                     0.137361  0.897958  ...                            0   \n",
            "\n",
            "    Current_Role_Technical Director  Department_Design  \\\n",
            "6                                 0                  0   \n",
            "10                                0                  1   \n",
            "4                                 0                  0   \n",
            "1                                 0                  1   \n",
            "14                                0                  0   \n",
            "0                                 0                  1   \n",
            "15                                1                  0   \n",
            "9                                 0                  0   \n",
            "8                                 0                  0   \n",
            "12                                0                  0   \n",
            "11                                0                  0   \n",
            "5                                 0                  0   \n",
            "\n",
            "    Department_Engineering  Department_Human Resources  Department_Operations  \\\n",
            "6                        1                           0                      0   \n",
            "10                       0                           0                      0   \n",
            "4                        0                           0                      1   \n",
            "1                        0                           0                      0   \n",
            "14                       0                           0                      0   \n",
            "0                        0                           0                      0   \n",
            "15                       1                           0                      0   \n",
            "9                        1                           0                      0   \n",
            "8                        1                           0                      0   \n",
            "12                       1                           0                      0   \n",
            "11                       0                           0                      0   \n",
            "5                        0                           0                      0   \n",
            "\n",
            "    Department_Product  Department_Sales  Gender_Female  Gender_Male  \n",
            "6                    0                 0              1            0  \n",
            "10                   0                 0              0            1  \n",
            "4                    0                 0              0            1  \n",
            "1                    0                 0              1            0  \n",
            "14                   0                 1              1            0  \n",
            "0                    0                 0              1            0  \n",
            "15                   0                 0              1            0  \n",
            "9                    0                 0              1            0  \n",
            "8                    0                 0              0            1  \n",
            "12                   0                 0              1            0  \n",
            "11                   1                 0              1            0  \n",
            "5                    1                 0              1            0  \n",
            "\n",
            "[12 rows x 31 columns]\n"
          ]
        }
      ],
      "source": [
        "X_train_scaled_new = X_train_scaled.drop(columns=['Employee_ID', 'Zip_Code'])\n",
        "print(X_train_scaled_new)"
      ]
    },
    {
      "cell_type": "code",
      "execution_count": 110,
      "metadata": {},
      "outputs": [
        {
          "name": "stdout",
          "output_type": "stream",
          "text": [
            "<class 'pandas.core.frame.DataFrame'>\n"
          ]
        }
      ],
      "source": [
        "print(type(X_test_scaled))"
      ]
    },
    {
      "cell_type": "code",
      "execution_count": 111,
      "metadata": {},
      "outputs": [
        {
          "name": "stdout",
          "output_type": "stream",
          "text": [
            "    Employee_Annual_Salary  Monthly_Medical_contribution  \\\n",
            "3                 1.169288                           1.0   \n",
            "13                0.600445                           1.0   \n",
            "7                -2.320141                          -1.0   \n",
            "2                 1.074481                           1.0   \n",
            "\n",
            "    Monthly_Dental_Contribution  Monthly_Vision_Contribution     Bonus  \\\n",
            "3                           1.0                          1.0  1.167188   \n",
            "13                          1.0                          1.0  0.634895   \n",
            "7                          -1.0                         -1.0 -2.798381   \n",
            "2                           1.0                          1.0  1.076868   \n",
            "\n",
            "    Years_Of_Service  Employee_HR_rate  Hours_per_week  \\\n",
            "3           2.329336         -0.753454             0.0   \n",
            "13         -0.562254          0.919697             0.0   \n",
            "7          -1.526117          0.276177             0.0   \n",
            "2           0.401610          0.340529             0.0   \n",
            "\n",
            "    Years_Since_Last_Promotion       age  ...  Current_Role_Sales Director  \\\n",
            "3                     0.961524 -0.959886  ...                            0   \n",
            "13                    0.137361  0.897958  ...                            0   \n",
            "7                     0.137361 -0.588317  ...                            0   \n",
            "2                     0.137361  0.897958  ...                            0   \n",
            "\n",
            "    Current_Role_Technical Director  Department_Design  \\\n",
            "3                                 0                  0   \n",
            "13                                0                  0   \n",
            "7                                 0                  0   \n",
            "2                                 0                  1   \n",
            "\n",
            "    Department_Engineering  Department_Human Resources  Department_Operations  \\\n",
            "3                        0                           1                      0   \n",
            "13                       0                           0                      0   \n",
            "7                        0                           0                      0   \n",
            "2                        0                           0                      0   \n",
            "\n",
            "    Department_Product  Department_Sales  Gender_Female  Gender_Male  \n",
            "3                    0                 0              0            1  \n",
            "13                   1                 0              1            0  \n",
            "7                    1                 0              1            0  \n",
            "2                    0                 0              1            0  \n",
            "\n",
            "[4 rows x 31 columns]\n"
          ]
        }
      ],
      "source": [
        "X_test_scaled_new = X_test_scaled.drop(columns=['Employee_ID', 'Zip_Code'])\n",
        "print(X_test_scaled_new)"
      ]
    },
    {
      "cell_type": "markdown",
      "metadata": {},
      "source": [
        "## Training the Model"
      ]
    },
    {
      "cell_type": "code",
      "execution_count": 112,
      "metadata": {},
      "outputs": [],
      "source": [
        "from sklearn.linear_model import LogisticRegression\n",
        "model = LogisticRegression()"
      ]
    },
    {
      "cell_type": "code",
      "execution_count": 113,
      "metadata": {},
      "outputs": [
        {
          "name": "stdout",
          "output_type": "stream",
          "text": [
            "06/19/2025 19:33\n"
          ]
        },
        {
          "data": {
            "text/html": [
              "<style>#sk-container-id-2 {\n",
              "  /* Definition of color scheme common for light and dark mode */\n",
              "  --sklearn-color-text: #000;\n",
              "  --sklearn-color-text-muted: #666;\n",
              "  --sklearn-color-line: gray;\n",
              "  /* Definition of color scheme for unfitted estimators */\n",
              "  --sklearn-color-unfitted-level-0: #fff5e6;\n",
              "  --sklearn-color-unfitted-level-1: #f6e4d2;\n",
              "  --sklearn-color-unfitted-level-2: #ffe0b3;\n",
              "  --sklearn-color-unfitted-level-3: chocolate;\n",
              "  /* Definition of color scheme for fitted estimators */\n",
              "  --sklearn-color-fitted-level-0: #f0f8ff;\n",
              "  --sklearn-color-fitted-level-1: #d4ebff;\n",
              "  --sklearn-color-fitted-level-2: #b3dbfd;\n",
              "  --sklearn-color-fitted-level-3: cornflowerblue;\n",
              "\n",
              "  /* Specific color for light theme */\n",
              "  --sklearn-color-text-on-default-background: var(--sg-text-color, var(--theme-code-foreground, var(--jp-content-font-color1, black)));\n",
              "  --sklearn-color-background: var(--sg-background-color, var(--theme-background, var(--jp-layout-color0, white)));\n",
              "  --sklearn-color-border-box: var(--sg-text-color, var(--theme-code-foreground, var(--jp-content-font-color1, black)));\n",
              "  --sklearn-color-icon: #696969;\n",
              "\n",
              "  @media (prefers-color-scheme: dark) {\n",
              "    /* Redefinition of color scheme for dark theme */\n",
              "    --sklearn-color-text-on-default-background: var(--sg-text-color, var(--theme-code-foreground, var(--jp-content-font-color1, white)));\n",
              "    --sklearn-color-background: var(--sg-background-color, var(--theme-background, var(--jp-layout-color0, #111)));\n",
              "    --sklearn-color-border-box: var(--sg-text-color, var(--theme-code-foreground, var(--jp-content-font-color1, white)));\n",
              "    --sklearn-color-icon: #878787;\n",
              "  }\n",
              "}\n",
              "\n",
              "#sk-container-id-2 {\n",
              "  color: var(--sklearn-color-text);\n",
              "}\n",
              "\n",
              "#sk-container-id-2 pre {\n",
              "  padding: 0;\n",
              "}\n",
              "\n",
              "#sk-container-id-2 input.sk-hidden--visually {\n",
              "  border: 0;\n",
              "  clip: rect(1px 1px 1px 1px);\n",
              "  clip: rect(1px, 1px, 1px, 1px);\n",
              "  height: 1px;\n",
              "  margin: -1px;\n",
              "  overflow: hidden;\n",
              "  padding: 0;\n",
              "  position: absolute;\n",
              "  width: 1px;\n",
              "}\n",
              "\n",
              "#sk-container-id-2 div.sk-dashed-wrapped {\n",
              "  border: 1px dashed var(--sklearn-color-line);\n",
              "  margin: 0 0.4em 0.5em 0.4em;\n",
              "  box-sizing: border-box;\n",
              "  padding-bottom: 0.4em;\n",
              "  background-color: var(--sklearn-color-background);\n",
              "}\n",
              "\n",
              "#sk-container-id-2 div.sk-container {\n",
              "  /* jupyter's `normalize.less` sets `[hidden] { display: none; }`\n",
              "     but bootstrap.min.css set `[hidden] { display: none !important; }`\n",
              "     so we also need the `!important` here to be able to override the\n",
              "     default hidden behavior on the sphinx rendered scikit-learn.org.\n",
              "     See: https://github.com/scikit-learn/scikit-learn/issues/21755 */\n",
              "  display: inline-block !important;\n",
              "  position: relative;\n",
              "}\n",
              "\n",
              "#sk-container-id-2 div.sk-text-repr-fallback {\n",
              "  display: none;\n",
              "}\n",
              "\n",
              "div.sk-parallel-item,\n",
              "div.sk-serial,\n",
              "div.sk-item {\n",
              "  /* draw centered vertical line to link estimators */\n",
              "  background-image: linear-gradient(var(--sklearn-color-text-on-default-background), var(--sklearn-color-text-on-default-background));\n",
              "  background-size: 2px 100%;\n",
              "  background-repeat: no-repeat;\n",
              "  background-position: center center;\n",
              "}\n",
              "\n",
              "/* Parallel-specific style estimator block */\n",
              "\n",
              "#sk-container-id-2 div.sk-parallel-item::after {\n",
              "  content: \"\";\n",
              "  width: 100%;\n",
              "  border-bottom: 2px solid var(--sklearn-color-text-on-default-background);\n",
              "  flex-grow: 1;\n",
              "}\n",
              "\n",
              "#sk-container-id-2 div.sk-parallel {\n",
              "  display: flex;\n",
              "  align-items: stretch;\n",
              "  justify-content: center;\n",
              "  background-color: var(--sklearn-color-background);\n",
              "  position: relative;\n",
              "}\n",
              "\n",
              "#sk-container-id-2 div.sk-parallel-item {\n",
              "  display: flex;\n",
              "  flex-direction: column;\n",
              "}\n",
              "\n",
              "#sk-container-id-2 div.sk-parallel-item:first-child::after {\n",
              "  align-self: flex-end;\n",
              "  width: 50%;\n",
              "}\n",
              "\n",
              "#sk-container-id-2 div.sk-parallel-item:last-child::after {\n",
              "  align-self: flex-start;\n",
              "  width: 50%;\n",
              "}\n",
              "\n",
              "#sk-container-id-2 div.sk-parallel-item:only-child::after {\n",
              "  width: 0;\n",
              "}\n",
              "\n",
              "/* Serial-specific style estimator block */\n",
              "\n",
              "#sk-container-id-2 div.sk-serial {\n",
              "  display: flex;\n",
              "  flex-direction: column;\n",
              "  align-items: center;\n",
              "  background-color: var(--sklearn-color-background);\n",
              "  padding-right: 1em;\n",
              "  padding-left: 1em;\n",
              "}\n",
              "\n",
              "\n",
              "/* Toggleable style: style used for estimator/Pipeline/ColumnTransformer box that is\n",
              "clickable and can be expanded/collapsed.\n",
              "- Pipeline and ColumnTransformer use this feature and define the default style\n",
              "- Estimators will overwrite some part of the style using the `sk-estimator` class\n",
              "*/\n",
              "\n",
              "/* Pipeline and ColumnTransformer style (default) */\n",
              "\n",
              "#sk-container-id-2 div.sk-toggleable {\n",
              "  /* Default theme specific background. It is overwritten whether we have a\n",
              "  specific estimator or a Pipeline/ColumnTransformer */\n",
              "  background-color: var(--sklearn-color-background);\n",
              "}\n",
              "\n",
              "/* Toggleable label */\n",
              "#sk-container-id-2 label.sk-toggleable__label {\n",
              "  cursor: pointer;\n",
              "  display: flex;\n",
              "  width: 100%;\n",
              "  margin-bottom: 0;\n",
              "  padding: 0.5em;\n",
              "  box-sizing: border-box;\n",
              "  text-align: center;\n",
              "  align-items: start;\n",
              "  justify-content: space-between;\n",
              "  gap: 0.5em;\n",
              "}\n",
              "\n",
              "#sk-container-id-2 label.sk-toggleable__label .caption {\n",
              "  font-size: 0.6rem;\n",
              "  font-weight: lighter;\n",
              "  color: var(--sklearn-color-text-muted);\n",
              "}\n",
              "\n",
              "#sk-container-id-2 label.sk-toggleable__label-arrow:before {\n",
              "  /* Arrow on the left of the label */\n",
              "  content: \"▸\";\n",
              "  float: left;\n",
              "  margin-right: 0.25em;\n",
              "  color: var(--sklearn-color-icon);\n",
              "}\n",
              "\n",
              "#sk-container-id-2 label.sk-toggleable__label-arrow:hover:before {\n",
              "  color: var(--sklearn-color-text);\n",
              "}\n",
              "\n",
              "/* Toggleable content - dropdown */\n",
              "\n",
              "#sk-container-id-2 div.sk-toggleable__content {\n",
              "  max-height: 0;\n",
              "  max-width: 0;\n",
              "  overflow: hidden;\n",
              "  text-align: left;\n",
              "  /* unfitted */\n",
              "  background-color: var(--sklearn-color-unfitted-level-0);\n",
              "}\n",
              "\n",
              "#sk-container-id-2 div.sk-toggleable__content.fitted {\n",
              "  /* fitted */\n",
              "  background-color: var(--sklearn-color-fitted-level-0);\n",
              "}\n",
              "\n",
              "#sk-container-id-2 div.sk-toggleable__content pre {\n",
              "  margin: 0.2em;\n",
              "  border-radius: 0.25em;\n",
              "  color: var(--sklearn-color-text);\n",
              "  /* unfitted */\n",
              "  background-color: var(--sklearn-color-unfitted-level-0);\n",
              "}\n",
              "\n",
              "#sk-container-id-2 div.sk-toggleable__content.fitted pre {\n",
              "  /* unfitted */\n",
              "  background-color: var(--sklearn-color-fitted-level-0);\n",
              "}\n",
              "\n",
              "#sk-container-id-2 input.sk-toggleable__control:checked~div.sk-toggleable__content {\n",
              "  /* Expand drop-down */\n",
              "  max-height: 200px;\n",
              "  max-width: 100%;\n",
              "  overflow: auto;\n",
              "}\n",
              "\n",
              "#sk-container-id-2 input.sk-toggleable__control:checked~label.sk-toggleable__label-arrow:before {\n",
              "  content: \"▾\";\n",
              "}\n",
              "\n",
              "/* Pipeline/ColumnTransformer-specific style */\n",
              "\n",
              "#sk-container-id-2 div.sk-label input.sk-toggleable__control:checked~label.sk-toggleable__label {\n",
              "  color: var(--sklearn-color-text);\n",
              "  background-color: var(--sklearn-color-unfitted-level-2);\n",
              "}\n",
              "\n",
              "#sk-container-id-2 div.sk-label.fitted input.sk-toggleable__control:checked~label.sk-toggleable__label {\n",
              "  background-color: var(--sklearn-color-fitted-level-2);\n",
              "}\n",
              "\n",
              "/* Estimator-specific style */\n",
              "\n",
              "/* Colorize estimator box */\n",
              "#sk-container-id-2 div.sk-estimator input.sk-toggleable__control:checked~label.sk-toggleable__label {\n",
              "  /* unfitted */\n",
              "  background-color: var(--sklearn-color-unfitted-level-2);\n",
              "}\n",
              "\n",
              "#sk-container-id-2 div.sk-estimator.fitted input.sk-toggleable__control:checked~label.sk-toggleable__label {\n",
              "  /* fitted */\n",
              "  background-color: var(--sklearn-color-fitted-level-2);\n",
              "}\n",
              "\n",
              "#sk-container-id-2 div.sk-label label.sk-toggleable__label,\n",
              "#sk-container-id-2 div.sk-label label {\n",
              "  /* The background is the default theme color */\n",
              "  color: var(--sklearn-color-text-on-default-background);\n",
              "}\n",
              "\n",
              "/* On hover, darken the color of the background */\n",
              "#sk-container-id-2 div.sk-label:hover label.sk-toggleable__label {\n",
              "  color: var(--sklearn-color-text);\n",
              "  background-color: var(--sklearn-color-unfitted-level-2);\n",
              "}\n",
              "\n",
              "/* Label box, darken color on hover, fitted */\n",
              "#sk-container-id-2 div.sk-label.fitted:hover label.sk-toggleable__label.fitted {\n",
              "  color: var(--sklearn-color-text);\n",
              "  background-color: var(--sklearn-color-fitted-level-2);\n",
              "}\n",
              "\n",
              "/* Estimator label */\n",
              "\n",
              "#sk-container-id-2 div.sk-label label {\n",
              "  font-family: monospace;\n",
              "  font-weight: bold;\n",
              "  display: inline-block;\n",
              "  line-height: 1.2em;\n",
              "}\n",
              "\n",
              "#sk-container-id-2 div.sk-label-container {\n",
              "  text-align: center;\n",
              "}\n",
              "\n",
              "/* Estimator-specific */\n",
              "#sk-container-id-2 div.sk-estimator {\n",
              "  font-family: monospace;\n",
              "  border: 1px dotted var(--sklearn-color-border-box);\n",
              "  border-radius: 0.25em;\n",
              "  box-sizing: border-box;\n",
              "  margin-bottom: 0.5em;\n",
              "  /* unfitted */\n",
              "  background-color: var(--sklearn-color-unfitted-level-0);\n",
              "}\n",
              "\n",
              "#sk-container-id-2 div.sk-estimator.fitted {\n",
              "  /* fitted */\n",
              "  background-color: var(--sklearn-color-fitted-level-0);\n",
              "}\n",
              "\n",
              "/* on hover */\n",
              "#sk-container-id-2 div.sk-estimator:hover {\n",
              "  /* unfitted */\n",
              "  background-color: var(--sklearn-color-unfitted-level-2);\n",
              "}\n",
              "\n",
              "#sk-container-id-2 div.sk-estimator.fitted:hover {\n",
              "  /* fitted */\n",
              "  background-color: var(--sklearn-color-fitted-level-2);\n",
              "}\n",
              "\n",
              "/* Specification for estimator info (e.g. \"i\" and \"?\") */\n",
              "\n",
              "/* Common style for \"i\" and \"?\" */\n",
              "\n",
              ".sk-estimator-doc-link,\n",
              "a:link.sk-estimator-doc-link,\n",
              "a:visited.sk-estimator-doc-link {\n",
              "  float: right;\n",
              "  font-size: smaller;\n",
              "  line-height: 1em;\n",
              "  font-family: monospace;\n",
              "  background-color: var(--sklearn-color-background);\n",
              "  border-radius: 1em;\n",
              "  height: 1em;\n",
              "  width: 1em;\n",
              "  text-decoration: none !important;\n",
              "  margin-left: 0.5em;\n",
              "  text-align: center;\n",
              "  /* unfitted */\n",
              "  border: var(--sklearn-color-unfitted-level-1) 1pt solid;\n",
              "  color: var(--sklearn-color-unfitted-level-1);\n",
              "}\n",
              "\n",
              ".sk-estimator-doc-link.fitted,\n",
              "a:link.sk-estimator-doc-link.fitted,\n",
              "a:visited.sk-estimator-doc-link.fitted {\n",
              "  /* fitted */\n",
              "  border: var(--sklearn-color-fitted-level-1) 1pt solid;\n",
              "  color: var(--sklearn-color-fitted-level-1);\n",
              "}\n",
              "\n",
              "/* On hover */\n",
              "div.sk-estimator:hover .sk-estimator-doc-link:hover,\n",
              ".sk-estimator-doc-link:hover,\n",
              "div.sk-label-container:hover .sk-estimator-doc-link:hover,\n",
              ".sk-estimator-doc-link:hover {\n",
              "  /* unfitted */\n",
              "  background-color: var(--sklearn-color-unfitted-level-3);\n",
              "  color: var(--sklearn-color-background);\n",
              "  text-decoration: none;\n",
              "}\n",
              "\n",
              "div.sk-estimator.fitted:hover .sk-estimator-doc-link.fitted:hover,\n",
              ".sk-estimator-doc-link.fitted:hover,\n",
              "div.sk-label-container:hover .sk-estimator-doc-link.fitted:hover,\n",
              ".sk-estimator-doc-link.fitted:hover {\n",
              "  /* fitted */\n",
              "  background-color: var(--sklearn-color-fitted-level-3);\n",
              "  color: var(--sklearn-color-background);\n",
              "  text-decoration: none;\n",
              "}\n",
              "\n",
              "/* Span, style for the box shown on hovering the info icon */\n",
              ".sk-estimator-doc-link span {\n",
              "  display: none;\n",
              "  z-index: 9999;\n",
              "  position: relative;\n",
              "  font-weight: normal;\n",
              "  right: .2ex;\n",
              "  padding: .5ex;\n",
              "  margin: .5ex;\n",
              "  width: min-content;\n",
              "  min-width: 20ex;\n",
              "  max-width: 50ex;\n",
              "  color: var(--sklearn-color-text);\n",
              "  box-shadow: 2pt 2pt 4pt #999;\n",
              "  /* unfitted */\n",
              "  background: var(--sklearn-color-unfitted-level-0);\n",
              "  border: .5pt solid var(--sklearn-color-unfitted-level-3);\n",
              "}\n",
              "\n",
              ".sk-estimator-doc-link.fitted span {\n",
              "  /* fitted */\n",
              "  background: var(--sklearn-color-fitted-level-0);\n",
              "  border: var(--sklearn-color-fitted-level-3);\n",
              "}\n",
              "\n",
              ".sk-estimator-doc-link:hover span {\n",
              "  display: block;\n",
              "}\n",
              "\n",
              "/* \"?\"-specific style due to the `<a>` HTML tag */\n",
              "\n",
              "#sk-container-id-2 a.estimator_doc_link {\n",
              "  float: right;\n",
              "  font-size: 1rem;\n",
              "  line-height: 1em;\n",
              "  font-family: monospace;\n",
              "  background-color: var(--sklearn-color-background);\n",
              "  border-radius: 1rem;\n",
              "  height: 1rem;\n",
              "  width: 1rem;\n",
              "  text-decoration: none;\n",
              "  /* unfitted */\n",
              "  color: var(--sklearn-color-unfitted-level-1);\n",
              "  border: var(--sklearn-color-unfitted-level-1) 1pt solid;\n",
              "}\n",
              "\n",
              "#sk-container-id-2 a.estimator_doc_link.fitted {\n",
              "  /* fitted */\n",
              "  border: var(--sklearn-color-fitted-level-1) 1pt solid;\n",
              "  color: var(--sklearn-color-fitted-level-1);\n",
              "}\n",
              "\n",
              "/* On hover */\n",
              "#sk-container-id-2 a.estimator_doc_link:hover {\n",
              "  /* unfitted */\n",
              "  background-color: var(--sklearn-color-unfitted-level-3);\n",
              "  color: var(--sklearn-color-background);\n",
              "  text-decoration: none;\n",
              "}\n",
              "\n",
              "#sk-container-id-2 a.estimator_doc_link.fitted:hover {\n",
              "  /* fitted */\n",
              "  background-color: var(--sklearn-color-fitted-level-3);\n",
              "}\n",
              "</style><div id=\"sk-container-id-2\" class=\"sk-top-container\"><div class=\"sk-text-repr-fallback\"><pre>LogisticRegression()</pre><b>In a Jupyter environment, please rerun this cell to show the HTML representation or trust the notebook. <br />On GitHub, the HTML representation is unable to render, please try loading this page with nbviewer.org.</b></div><div class=\"sk-container\" hidden><div class=\"sk-item\"><div class=\"sk-estimator fitted sk-toggleable\"><input class=\"sk-toggleable__control sk-hidden--visually\" id=\"sk-estimator-id-2\" type=\"checkbox\" checked><label for=\"sk-estimator-id-2\" class=\"sk-toggleable__label fitted sk-toggleable__label-arrow\"><div><div>LogisticRegression</div></div><div><a class=\"sk-estimator-doc-link fitted\" rel=\"noreferrer\" target=\"_blank\" href=\"https://scikit-learn.org/1.6/modules/generated/sklearn.linear_model.LogisticRegression.html\">?<span>Documentation for LogisticRegression</span></a><span class=\"sk-estimator-doc-link fitted\">i<span>Fitted</span></span></div></label><div class=\"sk-toggleable__content fitted\"><pre>LogisticRegression()</pre></div> </div></div></div></div>"
            ],
            "text/plain": [
              "LogisticRegression()"
            ]
          },
          "execution_count": 113,
          "metadata": {},
          "output_type": "execute_result"
        }
      ],
      "source": [
        "training_timestamp = datetime.now().strftime(\"%m/%d/%Y %H:%M\")\n",
        "print(training_timestamp)\n",
        "model.fit(X_train_scaled_new, y_train.values.ravel())"
      ]
    },
    {
      "cell_type": "markdown",
      "metadata": {},
      "source": [
        "## Prediction"
      ]
    },
    {
      "cell_type": "code",
      "execution_count": 114,
      "metadata": {},
      "outputs": [],
      "source": [
        "y_pred = model.predict(X_test_scaled_new)"
      ]
    },
    {
      "cell_type": "code",
      "execution_count": 115,
      "metadata": {},
      "outputs": [
        {
          "name": "stdout",
          "output_type": "stream",
          "text": [
            "[1 0 0 1]\n"
          ]
        }
      ],
      "source": [
        "print(y_pred)"
      ]
    },
    {
      "cell_type": "markdown",
      "metadata": {},
      "source": [
        "### Saving the output as new table"
      ]
    },
    {
      "cell_type": "code",
      "execution_count": 116,
      "metadata": {},
      "outputs": [],
      "source": [
        "# Get Employee_IDs from X_test\n",
        "employee_ids = X_test_scaled['Employee_ID'].values"
      ]
    },
    {
      "cell_type": "code",
      "execution_count": 117,
      "metadata": {},
      "outputs": [
        {
          "name": "stdout",
          "output_type": "stream",
          "text": [
            "employee_ids shape: (4,)\n",
            "y_test shape: (4, 1)\n",
            "y_pred shape: (4,)\n"
          ]
        }
      ],
      "source": [
        "print(\"employee_ids shape:\", employee_ids.shape)\n",
        "print(\"y_test shape:\", y_test.shape)\n",
        "print(\"y_pred shape:\", y_pred.shape)\n"
      ]
    },
    {
      "cell_type": "code",
      "execution_count": 118,
      "metadata": {},
      "outputs": [
        {
          "name": "stdout",
          "output_type": "stream",
          "text": [
            "    left\n",
            "3      1\n",
            "13     0\n",
            "7      0\n",
            "2      0\n"
          ]
        }
      ],
      "source": [
        "print(y_test)"
      ]
    },
    {
      "cell_type": "code",
      "execution_count": 119,
      "metadata": {},
      "outputs": [],
      "source": [
        "# Flatten y_test to 1D\n",
        "y_test = y_test.values.ravel()"
      ]
    },
    {
      "cell_type": "code",
      "execution_count": 120,
      "metadata": {},
      "outputs": [
        {
          "name": "stdout",
          "output_type": "stream",
          "text": [
            "employee_ids shape: (4,)\n",
            "y_test shape: (4,)\n",
            "y_pred shape: (4,)\n"
          ]
        }
      ],
      "source": [
        "print(\"employee_ids shape:\", employee_ids.shape)\n",
        "print(\"y_test shape:\", y_test.shape)\n",
        "print(\"y_pred shape:\", y_pred.shape)"
      ]
    },
    {
      "cell_type": "code",
      "execution_count": 121,
      "metadata": {},
      "outputs": [
        {
          "name": "stdout",
          "output_type": "stream",
          "text": [
            "[1 0 0 0]\n"
          ]
        }
      ],
      "source": [
        "print(y_test)"
      ]
    },
    {
      "cell_type": "markdown",
      "metadata": {},
      "source": [
        "### get top 3 features"
      ]
    },
    {
      "cell_type": "code",
      "execution_count": 122,
      "metadata": {},
      "outputs": [],
      "source": [
        "top_indices = np.argsort(model.coef_[0])[::-1][:3]\n"
      ]
    },
    {
      "cell_type": "code",
      "execution_count": 123,
      "metadata": {},
      "outputs": [
        {
          "name": "stdout",
          "output_type": "stream",
          "text": [
            "[ 8  5 26]\n"
          ]
        }
      ],
      "source": [
        "print(top_indices)"
      ]
    },
    {
      "cell_type": "code",
      "execution_count": 124,
      "metadata": {},
      "outputs": [],
      "source": [
        "top_features = X_train_scaled_new.columns[top_indices].tolist()"
      ]
    },
    {
      "cell_type": "code",
      "execution_count": 125,
      "metadata": {},
      "outputs": [],
      "source": [
        "results_df = pd.DataFrame({\n",
        "    'Employee_ID': employee_ids,\n",
        "    'Actual': y_test,\n",
        "    'Predicted': y_pred,\n",
        "    'Cluster_label': 1,\n",
        "    'primary_attrition_feature': top_features[0],\n",
        "    'secondary_attrition_feature': top_features[1],\n",
        "    'tertiary_attrition_feature': top_features[2]\n",
        "})\n",
        "\n",
        "\n"
      ]
    },
    {
      "cell_type": "code",
      "execution_count": 126,
      "metadata": {},
      "outputs": [],
      "source": [
        "# Create the folder if it doesn't exist\n",
        "os.makedirs(\"5_5_am_workday_log_reg_prediction_on_cluster_1_data\", exist_ok=True)\n",
        "\n",
        "# Save the Excel file inside the folder\n",
        "results_df.to_csv(\"5_5_am_workday_log_reg_prediction_on_cluster_1_data/5_5_am_workday_log_reg_prediction_on_cluster_1_data.csv\", index=False)\n"
      ]
    },
    {
      "cell_type": "code",
      "execution_count": 127,
      "metadata": {},
      "outputs": [],
      "source": [
        "# spark_df = spark.createDataFrame(results_df)\n",
        "# spark_df.write.mode(\"overwrite\").saveAsTable(\"sd_bdc_demo.k_cluster_logistic_regression.5_5_am_workday_log_reg_prediction_on_cluster_1_data\")"
      ]
    },
    {
      "cell_type": "markdown",
      "metadata": {},
      "source": [
        "## Accuracy"
      ]
    },
    {
      "cell_type": "code",
      "execution_count": 128,
      "metadata": {},
      "outputs": [
        {
          "data": {
            "text/plain": [
              "0.75"
            ]
          },
          "execution_count": 128,
          "metadata": {},
          "output_type": "execute_result"
        }
      ],
      "source": [
        "model.score(X_test_scaled_new,y_test)"
      ]
    },
    {
      "cell_type": "code",
      "execution_count": 129,
      "metadata": {},
      "outputs": [
        {
          "name": "stdout",
          "output_type": "stream",
          "text": [
            "Confusion Matrix:\n",
            " [[2 1]\n",
            " [0 1]]\n",
            "Accuracy: 0.75\n",
            "Precision: 0.5\n",
            "Recall: 1.0\n",
            "F1 Score: 0.6666666666666666\n"
          ]
        }
      ],
      "source": [
        "from sklearn.metrics import accuracy_score, precision_score, recall_score, f1_score, confusion_matrix\n",
        "\n",
        "print(\"Confusion Matrix:\\n\", confusion_matrix(y_test, y_pred))\n",
        "print(\"Accuracy:\", accuracy_score(y_test, y_pred))\n",
        "print(\"Precision:\", precision_score(y_test, y_pred))\n",
        "print(\"Recall:\", recall_score(y_test, y_pred))\n",
        "print(\"F1 Score:\", f1_score(y_test, y_pred))\n"
      ]
    },
    {
      "cell_type": "markdown",
      "metadata": {},
      "source": [
        "### saving the metrics"
      ]
    },
    {
      "cell_type": "code",
      "execution_count": 130,
      "metadata": {},
      "outputs": [],
      "source": [
        "Accuracy = accuracy_score(y_test, y_pred)\n",
        "Precision = precision_score(y_test, y_pred)\n",
        "Recall = recall_score(y_test, y_pred) \n",
        "F1_Score = f1_score(y_test, y_pred)\n",
        "\n",
        "# Create a DataFrame\n",
        "# metrics_df = pd.DataFrame({\n",
        "#     \"Metric\": [\"Accuracy\", \"Precision\", \"Recall\", \"F1_Score\"],\n",
        "#     \"Value\": [Accuracy, Precision, Recall, F1_Score]\n",
        "# })\n"
      ]
    },
    {
      "cell_type": "code",
      "execution_count": 131,
      "metadata": {},
      "outputs": [],
      "source": [
        "# Model Run Id\n",
        "model_type_abbr = \"lr\"\n",
        "project_name = \"attrition_prediction\"\n",
        "timestamp_str = datetime.now().strftime(\"%Y%m%d_%H%M%S\")\n",
        "model_run_id = f\"{model_type_abbr}_{project_name}_{timestamp_str}\"\n",
        "\n",
        "# Model Type\n",
        "model_type = \"logistic regression\"\n",
        "\n",
        "# model version \n",
        "version_file = \"3_6_am_workday_log_reg_metrics_data.csv\"\n",
        "if os.path.exists(version_file):\n",
        "    versions_df = pd.read_csv(version_file)\n",
        "    max_version = versions_df[versions_df[\"model_type\"] == model_type][\"model_version\"].max()\n",
        "    model_version = int(max_version) + 1\n",
        "else:\n",
        "    model_version = 1\n",
        "\n",
        "# training_timestamp\n",
        "training_timestamp = training_timestamp\n",
        "\n",
        "# dataset size\n",
        "dataset_size = X_test_scaled_new.shape[0]\n",
        "\n",
        "# feature count\n",
        "feature_count = X_test_scaled_new.shape[1] \n",
        "\n",
        "# ==== Create metrics DataFrame ====\n",
        "metrics_df = pd.DataFrame([{\n",
        "    \"model_run_id\": model_run_id,\n",
        "    \"model_type\": model_type,\n",
        "    \"model_version\": model_version,\n",
        "    \"training_timestamp\": training_timestamp,\n",
        "    \"dataset_size\": dataset_size,\n",
        "    \"feature_count\": feature_count,\n",
        "    \"classification_accuracy\": Accuracy,\n",
        "    \"Precision\": Precision,\n",
        "    \"Recall\": Recall,\n",
        "    \"F1_Score\": F1_Score\n",
        "}])\n",
        "\n",
        "\n"
      ]
    },
    {
      "cell_type": "code",
      "execution_count": 132,
      "metadata": {},
      "outputs": [],
      "source": [
        "# Directory & file path\n",
        "folder = \"5_6_am_workday_log_reg_metrics_data\"\n",
        "os.makedirs(folder, exist_ok=True)\n",
        "\n",
        "# Full path to the CSV file\n",
        "version_file = os.path.join(folder, \"5_6_am_workday_log_reg_metrics_data.csv\")\n",
        "\n",
        "# Append the full metrics row to the CSV log (create file if it doesn't exist)\n",
        "metrics_df.to_csv(\n",
        "    version_file,\n",
        "    mode='a',\n",
        "    header=not os.path.exists(version_file),\n",
        "    index=False\n",
        ")"
      ]
    },
    {
      "cell_type": "code",
      "execution_count": 133,
      "metadata": {},
      "outputs": [],
      "source": [
        "# # Create the folder if it doesn't exist\n",
        "# os.makedirs(\"5_6_am_workday_log_reg_metrics_data\", exist_ok=True)\n",
        "\n",
        "# # Save the Excel file inside the folder\n",
        "# metrics_df.to_csv(\"5_6_am_workday_log_reg_metrics_data/5_6_am_workday_log_reg_metrics_data.csv\", index=False)\n"
      ]
    },
    {
      "cell_type": "code",
      "execution_count": 134,
      "metadata": {},
      "outputs": [],
      "source": [
        "# spark_df = spark.createDataFrame(metrics_df)\n",
        "# spark_df.write.mode(\"overwrite\").saveAsTable(\"sd_bdc_demo.k_cluster_logistic_regression.5_6_am_workday_log_reg_metrics_data\")"
      ]
    },
    {
      "cell_type": "markdown",
      "metadata": {},
      "source": [
        "## Bias & Weights"
      ]
    },
    {
      "cell_type": "code",
      "execution_count": 135,
      "metadata": {},
      "outputs": [
        {
          "name": "stdout",
          "output_type": "stream",
          "text": [
            "[[ 0.16603365 -0.0132156  -0.0132156  -0.0132156   0.24339353  0.71466824\n",
            "   0.23390572  0.          1.18908022  0.02795965 -0.0140812   0.\n",
            "   0.28634735 -0.26132578 -0.03033514  0.          0.0709957  -0.04561407\n",
            "  -0.14171672  0.15317962  0.         -0.10309106  0.08544447 -0.05969528\n",
            "   0.27928466  0.          0.28634735 -0.4030425  -0.10309106 -0.18069019\n",
            "   0.18049337]]\n",
            "[-0.57116721]\n"
          ]
        }
      ],
      "source": [
        "print(model.coef_)       # β₁, β₂, ..., βn\n",
        "print(model.intercept_)  # β₀"
      ]
    },
    {
      "cell_type": "code",
      "execution_count": 136,
      "metadata": {},
      "outputs": [
        {
          "data": {
            "text/plain": [
              "31"
            ]
          },
          "execution_count": 136,
          "metadata": {},
          "output_type": "execute_result"
        }
      ],
      "source": [
        "len(model.coef_.ravel())"
      ]
    },
    {
      "cell_type": "code",
      "execution_count": 137,
      "metadata": {},
      "outputs": [
        {
          "data": {
            "text/plain": [
              "np.float64(1.1890802173916384)"
            ]
          },
          "execution_count": 137,
          "metadata": {},
          "output_type": "execute_result"
        }
      ],
      "source": [
        "max(model.coef_.ravel())"
      ]
    },
    {
      "cell_type": "code",
      "execution_count": 138,
      "metadata": {},
      "outputs": [
        {
          "name": "stdout",
          "output_type": "stream",
          "text": [
            "Employee_Annual_Salary                      0.166034\n",
            "Monthly_Medical_contribution               -0.013216\n",
            "Monthly_Dental_Contribution                -0.013216\n",
            "Monthly_Vision_Contribution                -0.013216\n",
            "Bonus                                       0.243394\n",
            "Years_Of_Service                            0.714668\n",
            "Employee_HR_rate                            0.233906\n",
            "Hours_per_week                              0.000000\n",
            "Years_Since_Last_Promotion                  1.189080\n",
            "age                                         0.027960\n",
            "Current_Role_Design Director               -0.014081\n",
            "Current_Role_Director of HR                 0.000000\n",
            "Current_Role_Director of Operations         0.286347\n",
            "Current_Role_Director of Product           -0.261326\n",
            "Current_Role_Engineering Manager           -0.030335\n",
            "Current_Role_Lead Product Manager           0.000000\n",
            "Current_Role_Principal Engineer             0.070996\n",
            "Current_Role_Principal Product Designer    -0.045614\n",
            "Current_Role_Principal Product Manager     -0.141717\n",
            "Current_Role_Principal Software Engineer    0.153180\n",
            "Current_Role_Product Director               0.000000\n",
            "Current_Role_Sales Director                -0.103091\n",
            "Current_Role_Technical Director             0.085444\n",
            "Department_Design                          -0.059695\n",
            "Department_Engineering                      0.279285\n",
            "Department_Human Resources                  0.000000\n",
            "Department_Operations                       0.286347\n",
            "Department_Product                         -0.403042\n",
            "Department_Sales                           -0.103091\n",
            "Gender_Female                              -0.180690\n",
            "Gender_Male                                 0.180493\n",
            "dtype: float64\n"
          ]
        }
      ],
      "source": [
        "feature_weights = pd.Series(model.coef_[0], index=X_train_scaled_new.columns)\n",
        "print(feature_weights)\n"
      ]
    },
    {
      "cell_type": "markdown",
      "metadata": {},
      "source": [
        "### Saving All Feature & Weights"
      ]
    },
    {
      "cell_type": "code",
      "execution_count": 139,
      "metadata": {},
      "outputs": [
        {
          "name": "stdout",
          "output_type": "stream",
          "text": [
            "                                     Feature    Weight\n",
            "0                     Employee_Annual_Salary  0.166034\n",
            "1               Monthly_Medical_contribution -0.013216\n",
            "2                Monthly_Dental_Contribution -0.013216\n",
            "3                Monthly_Vision_Contribution -0.013216\n",
            "4                                      Bonus  0.243394\n",
            "5                           Years_Of_Service  0.714668\n",
            "6                           Employee_HR_rate  0.233906\n",
            "7                             Hours_per_week  0.000000\n",
            "8                 Years_Since_Last_Promotion  1.189080\n",
            "9                                        age  0.027960\n",
            "10              Current_Role_Design Director -0.014081\n",
            "11               Current_Role_Director of HR  0.000000\n",
            "12       Current_Role_Director of Operations  0.286347\n",
            "13          Current_Role_Director of Product -0.261326\n",
            "14          Current_Role_Engineering Manager -0.030335\n",
            "15         Current_Role_Lead Product Manager  0.000000\n",
            "16           Current_Role_Principal Engineer  0.070996\n",
            "17   Current_Role_Principal Product Designer -0.045614\n",
            "18    Current_Role_Principal Product Manager -0.141717\n",
            "19  Current_Role_Principal Software Engineer  0.153180\n",
            "20             Current_Role_Product Director  0.000000\n",
            "21               Current_Role_Sales Director -0.103091\n",
            "22           Current_Role_Technical Director  0.085444\n",
            "23                         Department_Design -0.059695\n",
            "24                    Department_Engineering  0.279285\n",
            "25                Department_Human Resources  0.000000\n",
            "26                     Department_Operations  0.286347\n",
            "27                        Department_Product -0.403042\n",
            "28                          Department_Sales -0.103091\n",
            "29                             Gender_Female -0.180690\n",
            "30                               Gender_Male  0.180493\n"
          ]
        }
      ],
      "source": [
        "weights_df = pd.DataFrame({\n",
        "    'Feature': X_train_scaled_new.columns,\n",
        "    'Weight': model.coef_[0] \n",
        "})\n",
        "\n",
        "print(weights_df)"
      ]
    },
    {
      "cell_type": "code",
      "execution_count": 140,
      "metadata": {},
      "outputs": [],
      "source": [
        "# Create the folder if it doesn't exist\n",
        "os.makedirs(\"5_1_am_workday_all_feature_vs_weights_on_cluster_1_data\", exist_ok=True)\n",
        "\n",
        "# Save the Excel file inside the folder\n",
        "weights_df.to_csv(\"5_1_am_workday_all_feature_vs_weights_on_cluster_1_data/5_1_am_workday_all_feature_vs_weights_on_cluster_1_data.csv\", index=False)"
      ]
    },
    {
      "cell_type": "code",
      "execution_count": 141,
      "metadata": {},
      "outputs": [],
      "source": [
        "# spark_df = spark.createDataFrame(weights_df)\n",
        "# spark_df.write.mode(\"overwrite\").saveAsTable(\"sd_bdc_demo.k_cluster_logistic_regression.5_1_am_workday_all_feature_vs_weights_on_cluster_1_data\")"
      ]
    },
    {
      "cell_type": "markdown",
      "metadata": {},
      "source": [
        "### Saving Current_Role & Weights"
      ]
    },
    {
      "cell_type": "code",
      "execution_count": 142,
      "metadata": {},
      "outputs": [],
      "source": [
        "# pyspark_df = spark.table(\"sd_bdc_demo.k_cluster_logistic_regression.5_1_am_workday_all_feature_vs_weights_on_cluster_1_data\")\n",
        "# pyspark_df.display()\n",
        "# all_feature_df = pyspark_df.toPandas()"
      ]
    },
    {
      "cell_type": "code",
      "execution_count": 143,
      "metadata": {},
      "outputs": [],
      "source": [
        "all_feature_df = pd.read_csv(\"5_1_am_workday_all_feature_vs_weights_on_cluster_1_data/5_1_am_workday_all_feature_vs_weights_on_cluster_1_data.csv\")"
      ]
    },
    {
      "cell_type": "code",
      "execution_count": 144,
      "metadata": {},
      "outputs": [
        {
          "name": "stdout",
          "output_type": "stream",
          "text": [
            "                        Feature    Weight\n",
            "0        Employee_Annual_Salary  0.166034\n",
            "1  Monthly_Medical_contribution -0.013216\n",
            "2   Monthly_Dental_Contribution -0.013216\n",
            "3   Monthly_Vision_Contribution -0.013216\n",
            "4                         Bonus  0.243394\n"
          ]
        }
      ],
      "source": [
        "print(all_feature_df.head())"
      ]
    },
    {
      "cell_type": "code",
      "execution_count": 145,
      "metadata": {},
      "outputs": [
        {
          "name": "stdout",
          "output_type": "stream",
          "text": [
            "                                     Feature    Weight\n",
            "10              Current_Role_Design Director -0.014081\n",
            "11               Current_Role_Director of HR  0.000000\n",
            "12       Current_Role_Director of Operations  0.286347\n",
            "13          Current_Role_Director of Product -0.261326\n",
            "14          Current_Role_Engineering Manager -0.030335\n",
            "15         Current_Role_Lead Product Manager  0.000000\n",
            "16           Current_Role_Principal Engineer  0.070996\n",
            "17   Current_Role_Principal Product Designer -0.045614\n",
            "18    Current_Role_Principal Product Manager -0.141717\n",
            "19  Current_Role_Principal Software Engineer  0.153180\n",
            "20             Current_Role_Product Director  0.000000\n",
            "21               Current_Role_Sales Director -0.103091\n",
            "22           Current_Role_Technical Director  0.085444\n"
          ]
        }
      ],
      "source": [
        "all_feature_df_Current_Role = all_feature_df[all_feature_df['Feature'].str.startswith('Current_Role_')]\n",
        "print(all_feature_df_Current_Role)\n"
      ]
    },
    {
      "cell_type": "code",
      "execution_count": 146,
      "metadata": {},
      "outputs": [],
      "source": [
        "Current_Role_df = all_feature_df_Current_Role.copy()"
      ]
    },
    {
      "cell_type": "code",
      "execution_count": 147,
      "metadata": {},
      "outputs": [],
      "source": [
        "Current_Role_df['Feature'] = Current_Role_df['Feature'].str.removeprefix('Current_Role_')\n"
      ]
    },
    {
      "cell_type": "code",
      "execution_count": 148,
      "metadata": {},
      "outputs": [
        {
          "name": "stdout",
          "output_type": "stream",
          "text": [
            "                        Feature    Weight\n",
            "10              Design Director -0.014081\n",
            "11               Director of HR  0.000000\n",
            "12       Director of Operations  0.286347\n",
            "13          Director of Product -0.261326\n",
            "14          Engineering Manager -0.030335\n",
            "15         Lead Product Manager  0.000000\n",
            "16           Principal Engineer  0.070996\n",
            "17   Principal Product Designer -0.045614\n",
            "18    Principal Product Manager -0.141717\n",
            "19  Principal Software Engineer  0.153180\n",
            "20             Product Director  0.000000\n",
            "21               Sales Director -0.103091\n",
            "22           Technical Director  0.085444\n"
          ]
        }
      ],
      "source": [
        "print(Current_Role_df)"
      ]
    },
    {
      "cell_type": "code",
      "execution_count": 149,
      "metadata": {},
      "outputs": [],
      "source": [
        "# Create the folder if it doesn't exist\n",
        "os.makedirs(\"5_2_am_workday_current_role_vs_weights_on_cluster_1_data\", exist_ok=True)\n",
        "\n",
        "# Save the Excel file inside the folder\n",
        "Current_Role_df.to_csv(\"5_2_am_workday_current_role_vs_weights_on_cluster_1_data/5_2_am_workday_current_role_vs_weights_on_cluster_1_data.csv\", index=False)"
      ]
    },
    {
      "cell_type": "code",
      "execution_count": 150,
      "metadata": {},
      "outputs": [],
      "source": [
        "# spark_df = spark.createDataFrame(Current_Role_df)\n",
        "# spark_df.write.mode(\"overwrite\").saveAsTable(\"sd_bdc_demo.k_cluster_logistic_regression.5_2_am_workday_current_role_vs_weights_on_cluster_1_data\")"
      ]
    },
    {
      "cell_type": "markdown",
      "metadata": {},
      "source": [
        "### Saving Department & Weights"
      ]
    },
    {
      "cell_type": "code",
      "execution_count": 151,
      "metadata": {},
      "outputs": [
        {
          "name": "stdout",
          "output_type": "stream",
          "text": [
            "                       Feature    Weight\n",
            "23           Department_Design -0.059695\n",
            "24      Department_Engineering  0.279285\n",
            "25  Department_Human Resources  0.000000\n",
            "26       Department_Operations  0.286347\n",
            "27          Department_Product -0.403042\n",
            "28            Department_Sales -0.103091\n"
          ]
        }
      ],
      "source": [
        "all_feature_df_Department = all_feature_df[all_feature_df['Feature'].str.startswith('Department_')]\n",
        "print(all_feature_df_Department)\n"
      ]
    },
    {
      "cell_type": "code",
      "execution_count": 152,
      "metadata": {},
      "outputs": [],
      "source": [
        "Department_df = all_feature_df_Department.copy()"
      ]
    },
    {
      "cell_type": "code",
      "execution_count": 153,
      "metadata": {},
      "outputs": [],
      "source": [
        "Department_df['Feature'] = Department_df['Feature'].str.removeprefix('Department_')"
      ]
    },
    {
      "cell_type": "code",
      "execution_count": 154,
      "metadata": {},
      "outputs": [],
      "source": [
        "# Create the folder if it doesn't exist\n",
        "os.makedirs(\"5_3_am_workday_department_vs_weights_on_cluster_1_data\", exist_ok=True)\n",
        "\n",
        "# Save the Excel file inside the folder\n",
        "Department_df.to_csv(\"5_3_am_workday_department_vs_weights_on_cluster_1_data/5_3_am_workday_department_vs_weights_on_cluster_1_data.csv\", index=False)"
      ]
    },
    {
      "cell_type": "code",
      "execution_count": 155,
      "metadata": {},
      "outputs": [],
      "source": [
        "# spark_df = spark.createDataFrame(Department_df)\n",
        "# spark_df.write.mode(\"overwrite\").saveAsTable(\"sd_bdc_demo.k_cluster_logistic_regression.5_3_am_workday_department_vs_weights_on_cluster_1_data\")"
      ]
    },
    {
      "cell_type": "markdown",
      "metadata": {},
      "source": [
        "### Saving Gender & Weights"
      ]
    },
    {
      "cell_type": "code",
      "execution_count": 156,
      "metadata": {},
      "outputs": [
        {
          "name": "stdout",
          "output_type": "stream",
          "text": [
            "          Feature    Weight\n",
            "29  Gender_Female -0.180690\n",
            "30    Gender_Male  0.180493\n"
          ]
        }
      ],
      "source": [
        "all_feature_df_Gender = all_feature_df[all_feature_df['Feature'].str.startswith('Gender_')]\n",
        "print(all_feature_df_Gender)\n"
      ]
    },
    {
      "cell_type": "code",
      "execution_count": 157,
      "metadata": {},
      "outputs": [],
      "source": [
        "Gender_df = all_feature_df_Gender.copy()"
      ]
    },
    {
      "cell_type": "code",
      "execution_count": 158,
      "metadata": {},
      "outputs": [],
      "source": [
        "Gender_df['Feature'] = Gender_df['Feature'].str.removeprefix('Gender_')"
      ]
    },
    {
      "cell_type": "code",
      "execution_count": 159,
      "metadata": {},
      "outputs": [],
      "source": [
        "# Create the folder if it doesn't exist\n",
        "os.makedirs(\"5_4_am_workday_gender_vs_weights_on_cluster_1_data\", exist_ok=True)\n",
        "\n",
        "# Save the Excel file inside the folder\n",
        "Gender_df.to_csv(\"5_4_am_workday_gender_vs_weights_on_cluster_1_data/5_4_am_workday_gender_vs_weights_on_cluster_1_data.csv\", index=False)"
      ]
    },
    {
      "cell_type": "code",
      "execution_count": 160,
      "metadata": {},
      "outputs": [],
      "source": [
        "# spark_df = spark.createDataFrame(Gender_df)\n",
        "# spark_df.write.mode(\"overwrite\").saveAsTable(\"sd_bdc_demo.k_cluster_logistic_regression.5_4_am_workday_gender_vs_weights_on_cluster_1_data\")"
      ]
    }
  ],
  "metadata": {
    "colab": {
      "collapsed_sections": [],
      "name": "data_preprocessing_tools.ipynb",
      "provenance": [],
      "toc_visible": true
    },
    "kernelspec": {
      "display_name": ".venv",
      "language": "python",
      "name": "python3"
    },
    "language_info": {
      "codemirror_mode": {
        "name": "ipython",
        "version": 3
      },
      "file_extension": ".py",
      "mimetype": "text/x-python",
      "name": "python",
      "nbconvert_exporter": "python",
      "pygments_lexer": "ipython3",
      "version": "3.13.3"
    }
  },
  "nbformat": 4,
  "nbformat_minor": 0
}
