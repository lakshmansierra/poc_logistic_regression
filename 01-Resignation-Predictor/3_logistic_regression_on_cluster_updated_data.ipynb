{
  "cells": [
    {
      "cell_type": "markdown",
      "metadata": {
        "colab_type": "text",
        "id": "37puETfgRzzg"
      },
      "source": [
        "# Logistic Regression on cluster_updated_data"
      ]
    },
    {
      "cell_type": "markdown",
      "metadata": {
        "colab_type": "text",
        "id": "EoRP98MpR-qj"
      },
      "source": [
        "## Importing the libraries"
      ]
    },
    {
      "cell_type": "code",
      "execution_count": 427,
      "metadata": {
        "colab": {},
        "colab_type": "code",
        "id": "N-qiINBQSK2g"
      },
      "outputs": [],
      "source": [
        "import os\n",
        "import numpy as np\n",
        "import matplotlib.pyplot as plt\n",
        "import pandas as pd\n",
        "from datetime import datetime"
      ]
    },
    {
      "cell_type": "markdown",
      "metadata": {
        "colab_type": "text",
        "id": "RopL7tUZSQkT"
      },
      "source": [
        "## Importing the dataset"
      ]
    },
    {
      "cell_type": "code",
      "execution_count": 428,
      "metadata": {},
      "outputs": [],
      "source": [
        "# pyspark_df = spark.table(\"sd_bdc_demo.k_cluster_logistic_regression.2_9_am_workday_cluster_updated_data\")\n",
        "# pyspark_df.display()\n",
        "# df = pyspark_df.toPandas()"
      ]
    },
    {
      "cell_type": "code",
      "execution_count": 429,
      "metadata": {
        "colab": {},
        "colab_type": "code",
        "id": "WwEPNDWySTKm"
      },
      "outputs": [],
      "source": [
        "df = pd.read_csv(\"2_9_am_workday_cluster_updated_data/2_9_am_workday_cluster_updated_data.csv\")\n"
      ]
    },
    {
      "cell_type": "code",
      "execution_count": 430,
      "metadata": {},
      "outputs": [
        {
          "name": "stdout",
          "output_type": "stream",
          "text": [
            "<class 'pandas.core.frame.DataFrame'>\n"
          ]
        }
      ],
      "source": [
        "print(type(df))"
      ]
    },
    {
      "cell_type": "code",
      "execution_count": 431,
      "metadata": {},
      "outputs": [
        {
          "name": "stdout",
          "output_type": "stream",
          "text": [
            "Index(['Current_Role', 'Zip_Code', 'Employee_ID', 'Employee_Annual_Salary',\n",
            "       'Monthly_Medical_contribution', 'Monthly_Dental_Contribution',\n",
            "       'Monthly_Vision_Contribution', 'Bonus', 'Years_Of_Service',\n",
            "       'Department', 'Gender', 'Employee_HR_rate', 'Hours_per_week',\n",
            "       'Years_Since_Last_Promotion', 'age', 'left', 'Cluster_label'],\n",
            "      dtype='object')\n"
          ]
        }
      ],
      "source": [
        "print(df.columns)"
      ]
    },
    {
      "cell_type": "code",
      "execution_count": 432,
      "metadata": {},
      "outputs": [
        {
          "name": "stdout",
          "output_type": "stream",
          "text": [
            "                Current_Role  Zip_Code  Employee_ID  Employee_Annual_Salary  \\\n",
            "0   Senior Software Engineer     94103           57                  130800   \n",
            "1   Associate Data Scientist     94111           58                   74250   \n",
            "2  Associate Product Manager     10009           59                  125850   \n",
            "3           Business Analyst     60605           60                   84750   \n",
            "4    Chief Operating Officer      2101           61                  300000   \n",
            "\n",
            "   Monthly_Medical_contribution  Monthly_Dental_Contribution  \\\n",
            "0                           130                           35   \n",
            "1                           105                           30   \n",
            "2                           130                           35   \n",
            "3                           105                           30   \n",
            "4                           230                           55   \n",
            "\n",
            "   Monthly_Vision_Contribution  Bonus  Years_Of_Service    Department  \\\n",
            "0                           19  13865               5.2   Engineering   \n",
            "1                           17   4344               1.7  Data Science   \n",
            "2                           19  15920               1.3       Product   \n",
            "3                           17   5890               3.9       Finance   \n",
            "4                           27  90000              15.2     Executive   \n",
            "\n",
            "       Gender  Employee_HR_rate  Hours_per_week  Years_Since_Last_Promotion  \\\n",
            "0        Male                60              40                    2.814511   \n",
            "1  Non-Binary               117              40                    1.577002   \n",
            "2  Non-Binary               147              40                    1.259411   \n",
            "3      Female               153              40                    2.310746   \n",
            "4      Female                79              40                    5.796030   \n",
            "\n",
            "   age  left  Cluster_label  \n",
            "0   34     0              0  \n",
            "1   29     0              4  \n",
            "2   31     0              4  \n",
            "3   31     0              4  \n",
            "4   41     1              2  \n"
          ]
        }
      ],
      "source": [
        "print(df.head())"
      ]
    },
    {
      "cell_type": "code",
      "execution_count": 433,
      "metadata": {},
      "outputs": [
        {
          "name": "stdout",
          "output_type": "stream",
          "text": [
            "(100, 17)\n"
          ]
        }
      ],
      "source": [
        "print(df.shape)"
      ]
    },
    {
      "cell_type": "markdown",
      "metadata": {
        "colab_type": "text",
        "id": "CriG6VzVSjcK"
      },
      "source": [
        "## Encoding categorical data"
      ]
    },
    {
      "cell_type": "markdown",
      "metadata": {
        "colab_type": "text",
        "id": "AhSpdQWeSsFh"
      },
      "source": [
        "### Encoding the Independent Variable"
      ]
    },
    {
      "cell_type": "code",
      "execution_count": 434,
      "metadata": {},
      "outputs": [],
      "source": [
        "df_encoded = pd.get_dummies(df, columns=['Current_Role', 'Department', 'Gender'], drop_first=False).astype(int)\n"
      ]
    },
    {
      "cell_type": "code",
      "execution_count": 435,
      "metadata": {},
      "outputs": [
        {
          "name": "stdout",
          "output_type": "stream",
          "text": [
            "   Zip_Code  Employee_ID  Employee_Annual_Salary  \\\n",
            "0     94103           57                  130800   \n",
            "1     94111           58                   74250   \n",
            "2     10009           59                  125850   \n",
            "3     60605           60                   84750   \n",
            "4      2101           61                  300000   \n",
            "\n",
            "   Monthly_Medical_contribution  Monthly_Dental_Contribution  \\\n",
            "0                           130                           35   \n",
            "1                           105                           30   \n",
            "2                           130                           35   \n",
            "3                           105                           30   \n",
            "4                           230                           55   \n",
            "\n",
            "   Monthly_Vision_Contribution  Bonus  Years_Of_Service  Employee_HR_rate  \\\n",
            "0                           19  13865                 5                60   \n",
            "1                           17   4344                 1               117   \n",
            "2                           19  15920                 1               147   \n",
            "3                           17   5890                 3               153   \n",
            "4                           27  90000                15                79   \n",
            "\n",
            "   Hours_per_week  ...  Department_Finance  Department_Human Resources  \\\n",
            "0              40  ...                   0                           0   \n",
            "1              40  ...                   0                           0   \n",
            "2              40  ...                   0                           0   \n",
            "3              40  ...                   1                           0   \n",
            "4              40  ...                   0                           0   \n",
            "\n",
            "   Department_IT  Department_Marketing  Department_Operations  \\\n",
            "0              0                     0                      0   \n",
            "1              0                     0                      0   \n",
            "2              0                     0                      0   \n",
            "3              0                     0                      0   \n",
            "4              0                     0                      0   \n",
            "\n",
            "   Department_Product  Department_Sales  Gender_Female  Gender_Male  \\\n",
            "0                   0                 0              0            1   \n",
            "1                   0                 0              0            0   \n",
            "2                   1                 0              0            0   \n",
            "3                   0                 0              1            0   \n",
            "4                   0                 0              1            0   \n",
            "\n",
            "   Gender_Non-Binary  \n",
            "0                  0  \n",
            "1                  1  \n",
            "2                  1  \n",
            "3                  0  \n",
            "4                  0  \n",
            "\n",
            "[5 rows x 106 columns]\n"
          ]
        }
      ],
      "source": [
        "print(df_encoded.head())"
      ]
    },
    {
      "cell_type": "code",
      "execution_count": 436,
      "metadata": {},
      "outputs": [
        {
          "name": "stdout",
          "output_type": "stream",
          "text": [
            "(100, 106)\n"
          ]
        }
      ],
      "source": [
        "print(df_encoded.shape)"
      ]
    },
    {
      "cell_type": "markdown",
      "metadata": {},
      "source": [
        "## Split two Data Frame for Independent Features & Dependent Columns"
      ]
    },
    {
      "cell_type": "code",
      "execution_count": 437,
      "metadata": {},
      "outputs": [],
      "source": [
        "df_independent = df_encoded.drop(columns=['left'])\n",
        "X = df_independent\n",
        "df_dependent = df_encoded[['left']]\n",
        "y = df_dependent"
      ]
    },
    {
      "cell_type": "code",
      "execution_count": 438,
      "metadata": {},
      "outputs": [
        {
          "name": "stdout",
          "output_type": "stream",
          "text": [
            "   Zip_Code  Employee_ID  Employee_Annual_Salary  \\\n",
            "0     94103           57                  130800   \n",
            "1     94111           58                   74250   \n",
            "2     10009           59                  125850   \n",
            "3     60605           60                   84750   \n",
            "4      2101           61                  300000   \n",
            "\n",
            "   Monthly_Medical_contribution  Monthly_Dental_Contribution  \\\n",
            "0                           130                           35   \n",
            "1                           105                           30   \n",
            "2                           130                           35   \n",
            "3                           105                           30   \n",
            "4                           230                           55   \n",
            "\n",
            "   Monthly_Vision_Contribution  Bonus  Years_Of_Service  Employee_HR_rate  \\\n",
            "0                           19  13865                 5                60   \n",
            "1                           17   4344                 1               117   \n",
            "2                           19  15920                 1               147   \n",
            "3                           17   5890                 3               153   \n",
            "4                           27  90000                15                79   \n",
            "\n",
            "   Hours_per_week  ...  Department_Finance  Department_Human Resources  \\\n",
            "0              40  ...                   0                           0   \n",
            "1              40  ...                   0                           0   \n",
            "2              40  ...                   0                           0   \n",
            "3              40  ...                   1                           0   \n",
            "4              40  ...                   0                           0   \n",
            "\n",
            "   Department_IT  Department_Marketing  Department_Operations  \\\n",
            "0              0                     0                      0   \n",
            "1              0                     0                      0   \n",
            "2              0                     0                      0   \n",
            "3              0                     0                      0   \n",
            "4              0                     0                      0   \n",
            "\n",
            "   Department_Product  Department_Sales  Gender_Female  Gender_Male  \\\n",
            "0                   0                 0              0            1   \n",
            "1                   0                 0              0            0   \n",
            "2                   1                 0              0            0   \n",
            "3                   0                 0              1            0   \n",
            "4                   0                 0              1            0   \n",
            "\n",
            "   Gender_Non-Binary  \n",
            "0                  0  \n",
            "1                  1  \n",
            "2                  1  \n",
            "3                  0  \n",
            "4                  0  \n",
            "\n",
            "[5 rows x 105 columns]\n"
          ]
        }
      ],
      "source": [
        "print(df_independent.head())\n"
      ]
    },
    {
      "cell_type": "code",
      "execution_count": 439,
      "metadata": {},
      "outputs": [
        {
          "name": "stdout",
          "output_type": "stream",
          "text": [
            "(100, 105)\n"
          ]
        }
      ],
      "source": [
        "print(df_independent.shape)"
      ]
    },
    {
      "cell_type": "code",
      "execution_count": 440,
      "metadata": {},
      "outputs": [
        {
          "name": "stdout",
          "output_type": "stream",
          "text": [
            "   left\n",
            "0     0\n",
            "1     0\n",
            "2     0\n",
            "3     0\n",
            "4     1\n"
          ]
        }
      ],
      "source": [
        "print(df_dependent.head())"
      ]
    },
    {
      "cell_type": "code",
      "execution_count": 441,
      "metadata": {},
      "outputs": [
        {
          "name": "stdout",
          "output_type": "stream",
          "text": [
            "(100, 1)\n"
          ]
        }
      ],
      "source": [
        "print(df_dependent.shape)"
      ]
    },
    {
      "cell_type": "markdown",
      "metadata": {
        "colab_type": "text",
        "id": "qb_vcgm3qZKW"
      },
      "source": [
        "## Splitting the dataset into the Training set and Test set"
      ]
    },
    {
      "cell_type": "code",
      "execution_count": 442,
      "metadata": {},
      "outputs": [],
      "source": [
        "from sklearn.model_selection import train_test_split\n",
        "X_train, X_test, y_train, y_test = train_test_split(X, y, test_size = 0.2, random_state = 1)"
      ]
    },
    {
      "cell_type": "code",
      "execution_count": 443,
      "metadata": {
        "colab": {
          "base_uri": "https://localhost:8080/",
          "height": 154
        },
        "colab_type": "code",
        "id": "GuwQhFdKrYTM",
        "outputId": "de1e527f-c229-4daf-e7c5-ea9d2485148d"
      },
      "outputs": [
        {
          "name": "stdout",
          "output_type": "stream",
          "text": [
            "    Zip_Code  Employee_ID  Employee_Annual_Salary  \\\n",
            "2      10009           59                  125850   \n",
            "73     90011          130                  136000   \n",
            "97     78712          154                   88100   \n",
            "62     98102          119                  190000   \n",
            "19      2108           76                  220000   \n",
            "\n",
            "    Monthly_Medical_contribution  Monthly_Dental_Contribution  \\\n",
            "2                            130                           35   \n",
            "73                           130                           35   \n",
            "97                           105                           30   \n",
            "62                           155                           40   \n",
            "19                           180                           45   \n",
            "\n",
            "    Monthly_Vision_Contribution  Bonus  Years_Of_Service  Employee_HR_rate  \\\n",
            "2                            19  15920                 1               147   \n",
            "73                           19  15300                 6                68   \n",
            "97                           17   5594                 2                74   \n",
            "62                           21  38000                10               100   \n",
            "19                           23  50600                11                76   \n",
            "\n",
            "    Hours_per_week  ...  Department_Finance  Department_Human Resources  \\\n",
            "2               40  ...                   0                           0   \n",
            "73              40  ...                   0                           0   \n",
            "97              40  ...                   0                           0   \n",
            "62              40  ...                   0                           0   \n",
            "19              40  ...                   0                           1   \n",
            "\n",
            "    Department_IT  Department_Marketing  Department_Operations  \\\n",
            "2               0                     0                      0   \n",
            "73              0                     0                      0   \n",
            "97              0                     0                      0   \n",
            "62              0                     0                      0   \n",
            "19              0                     0                      0   \n",
            "\n",
            "    Department_Product  Department_Sales  Gender_Female  Gender_Male  \\\n",
            "2                    1                 0              0            0   \n",
            "73                   0                 1              0            1   \n",
            "97                   0                 0              0            1   \n",
            "62                   0                 0              1            0   \n",
            "19                   0                 0              0            1   \n",
            "\n",
            "    Gender_Non-Binary  \n",
            "2                   1  \n",
            "73                  0  \n",
            "97                  0  \n",
            "62                  0  \n",
            "19                  0  \n",
            "\n",
            "[5 rows x 105 columns]\n"
          ]
        }
      ],
      "source": [
        "print(X_train.head())"
      ]
    },
    {
      "cell_type": "code",
      "execution_count": 444,
      "metadata": {},
      "outputs": [
        {
          "name": "stdout",
          "output_type": "stream",
          "text": [
            "(80, 105)\n"
          ]
        }
      ],
      "source": [
        "print(X_train.shape)"
      ]
    },
    {
      "cell_type": "code",
      "execution_count": 445,
      "metadata": {
        "colab": {
          "base_uri": "https://localhost:8080/",
          "height": 51
        },
        "colab_type": "code",
        "id": "TUrX_Tvcrbi4",
        "outputId": "9a041a9b-2642-4828-fa2f-a431d7d77631"
      },
      "outputs": [
        {
          "name": "stdout",
          "output_type": "stream",
          "text": [
            "    Zip_Code  Employee_ID  Employee_Annual_Salary  \\\n",
            "80      2104          137                  139600   \n",
            "84     98102          141                  147200   \n",
            "33      2107           90                  141600   \n",
            "81     10004          138                  133200   \n",
            "93     94112          150                  149000   \n",
            "\n",
            "    Monthly_Medical_contribution  Monthly_Dental_Contribution  \\\n",
            "80                           130                           35   \n",
            "84                           130                           35   \n",
            "33                           130                           35   \n",
            "81                           130                           35   \n",
            "93                           130                           35   \n",
            "\n",
            "    Monthly_Vision_Contribution  Bonus  Years_Of_Service  Employee_HR_rate  \\\n",
            "80                           19  16333                 7                82   \n",
            "84                           19  18621                 9               130   \n",
            "33                           19  20390                 4               115   \n",
            "81                           19  14519                 5               122   \n",
            "93                           19  18253                 8               148   \n",
            "\n",
            "    Hours_per_week  ...  Department_Finance  Department_Human Resources  \\\n",
            "80              40  ...                   0                           1   \n",
            "84              40  ...                   0                           0   \n",
            "33              40  ...                   0                           1   \n",
            "81              40  ...                   0                           0   \n",
            "93              40  ...                   0                           0   \n",
            "\n",
            "    Department_IT  Department_Marketing  Department_Operations  \\\n",
            "80              0                     0                      0   \n",
            "84              0                     0                      0   \n",
            "33              0                     0                      0   \n",
            "81              0                     1                      0   \n",
            "93              0                     0                      0   \n",
            "\n",
            "    Department_Product  Department_Sales  Gender_Female  Gender_Male  \\\n",
            "80                   0                 0              0            1   \n",
            "84                   1                 0              1            0   \n",
            "33                   0                 0              1            0   \n",
            "81                   0                 0              0            0   \n",
            "93                   0                 0              1            0   \n",
            "\n",
            "    Gender_Non-Binary  \n",
            "80                  0  \n",
            "84                  0  \n",
            "33                  0  \n",
            "81                  1  \n",
            "93                  0  \n",
            "\n",
            "[5 rows x 105 columns]\n"
          ]
        }
      ],
      "source": [
        "print(X_test.head())"
      ]
    },
    {
      "cell_type": "code",
      "execution_count": 446,
      "metadata": {},
      "outputs": [
        {
          "name": "stdout",
          "output_type": "stream",
          "text": [
            "(20, 105)\n"
          ]
        }
      ],
      "source": [
        "print(X_test.shape)"
      ]
    },
    {
      "cell_type": "code",
      "execution_count": 447,
      "metadata": {
        "colab": {
          "base_uri": "https://localhost:8080/",
          "height": 34
        },
        "colab_type": "code",
        "id": "pSMHiIsWreQY",
        "outputId": "5afe91e0-9244-4bf5-ec1b-e3e092b85c08"
      },
      "outputs": [
        {
          "name": "stdout",
          "output_type": "stream",
          "text": [
            "    left\n",
            "2      0\n",
            "73     1\n",
            "97     0\n",
            "62     1\n",
            "19     1\n"
          ]
        }
      ],
      "source": [
        "print(y_train.head())"
      ]
    },
    {
      "cell_type": "code",
      "execution_count": 448,
      "metadata": {},
      "outputs": [
        {
          "name": "stdout",
          "output_type": "stream",
          "text": [
            "(80, 1)\n"
          ]
        }
      ],
      "source": [
        "print(y_train.shape)"
      ]
    },
    {
      "cell_type": "code",
      "execution_count": 449,
      "metadata": {
        "colab": {
          "base_uri": "https://localhost:8080/",
          "height": 34
        },
        "colab_type": "code",
        "id": "I_tW7H56rgtW",
        "outputId": "2a93f141-2a99-4a69-eec5-c82a3bb8d36b"
      },
      "outputs": [
        {
          "name": "stdout",
          "output_type": "stream",
          "text": [
            "    left\n",
            "80     0\n",
            "84     1\n",
            "33     0\n",
            "81     0\n",
            "93     0\n"
          ]
        }
      ],
      "source": [
        "print(y_test.head())"
      ]
    },
    {
      "cell_type": "code",
      "execution_count": 450,
      "metadata": {},
      "outputs": [
        {
          "name": "stdout",
          "output_type": "stream",
          "text": [
            "(20, 1)\n"
          ]
        }
      ],
      "source": [
        "print(y_test.shape)"
      ]
    },
    {
      "cell_type": "markdown",
      "metadata": {},
      "source": [
        "## Feature Scaling"
      ]
    },
    {
      "cell_type": "code",
      "execution_count": 451,
      "metadata": {},
      "outputs": [],
      "source": [
        "from sklearn.preprocessing import StandardScaler\n",
        "sc = StandardScaler()\n",
        "\n",
        "# List of columns to scale\n",
        "columns_to_scale = [\n",
        "    'Employee_Annual_Salary', 'Monthly_Medical_contribution',\n",
        "    'Monthly_Dental_Contribution', 'Monthly_Vision_Contribution', 'Bonus',\n",
        "    'Years_Of_Service', 'Employee_HR_rate', 'Hours_per_week',\n",
        "    'Years_Since_Last_Promotion', 'age'\n",
        "]\n",
        "\n",
        "# Fit sc on training data and transform both training and test sets\n",
        "X_train_scaled = X_train.copy()\n",
        "X_test_scaled = X_test.copy()\n",
        "\n",
        "X_train_scaled[columns_to_scale] = sc.fit_transform(X_train_scaled[columns_to_scale])\n",
        "X_test_scaled[columns_to_scale] = sc.transform(X_test_scaled[columns_to_scale])\n"
      ]
    },
    {
      "cell_type": "code",
      "execution_count": 452,
      "metadata": {
        "colab": {
          "base_uri": "https://localhost:8080/",
          "height": 154
        },
        "colab_type": "code",
        "id": "DWPET8ZdlMnu",
        "outputId": "dea86927-5124-4e2a-e974-2804df9a913c"
      },
      "outputs": [
        {
          "name": "stdout",
          "output_type": "stream",
          "text": [
            "    Zip_Code  Employee_ID  Employee_Annual_Salary  \\\n",
            "2      10009           59               -0.078349   \n",
            "73     90011          130                0.108960   \n",
            "97     78712          154               -0.774991   \n",
            "62     98102          119                1.105480   \n",
            "19      2108           76                1.659103   \n",
            "..       ...          ...                     ...   \n",
            "75     60604          132                0.027762   \n",
            "9      10002           66               -0.011914   \n",
            "72     90008          129                0.108960   \n",
            "12     94104           69               -0.910628   \n",
            "37     94110           94               -1.210507   \n",
            "\n",
            "    Monthly_Medical_contribution  Monthly_Dental_Contribution  \\\n",
            "2                       0.030762                     0.030762   \n",
            "73                      0.030762                     0.030762   \n",
            "97                     -0.789546                    -0.789546   \n",
            "62                      0.851069                     0.851069   \n",
            "19                      1.671377                     1.671377   \n",
            "..                           ...                          ...   \n",
            "75                      0.030762                     0.030762   \n",
            "9                       0.030762                     0.030762   \n",
            "72                      0.030762                     0.030762   \n",
            "12                     -0.789546                    -0.789546   \n",
            "37                     -0.789546                    -0.789546   \n",
            "\n",
            "    Monthly_Vision_Contribution     Bonus  Years_Of_Service  Employee_HR_rate  \\\n",
            "2                      0.030762 -0.132665         -1.374650          1.440401   \n",
            "73                     0.030762 -0.165009          0.261838         -1.410628   \n",
            "97                    -0.789546 -0.671348         -1.047352         -1.194094   \n",
            "62                     0.851069  1.019194          1.571029         -0.255781   \n",
            "19                     1.671377  1.676506          1.898326         -1.121916   \n",
            "..                          ...       ...               ...               ...   \n",
            "75                     0.030762 -0.228602         -0.065460          0.177287   \n",
            "9                      0.030762 -0.081906         -1.047352         -0.977560   \n",
            "72                     0.030762 -0.165009          0.261838          1.765202   \n",
            "12                    -0.789546 -0.704109         -1.047352         -0.219692   \n",
            "37                    -0.789546 -0.764623         -1.374650         -1.482806   \n",
            "\n",
            "    Hours_per_week  ...  Department_Finance  Department_Human Resources  \\\n",
            "2              0.0  ...                   0                           0   \n",
            "73             0.0  ...                   0                           0   \n",
            "97             0.0  ...                   0                           0   \n",
            "62             0.0  ...                   0                           0   \n",
            "19             0.0  ...                   0                           1   \n",
            "..             ...  ...                 ...                         ...   \n",
            "75             0.0  ...                   1                           0   \n",
            "9              0.0  ...                   0                           0   \n",
            "72             0.0  ...                   0                           0   \n",
            "12             0.0  ...                   0                           0   \n",
            "37             0.0  ...                   0                           0   \n",
            "\n",
            "    Department_IT  Department_Marketing  Department_Operations  \\\n",
            "2               0                     0                      0   \n",
            "73              0                     0                      0   \n",
            "97              0                     0                      0   \n",
            "62              0                     0                      0   \n",
            "19              0                     0                      0   \n",
            "..            ...                   ...                    ...   \n",
            "75              0                     0                      0   \n",
            "9               0                     0                      0   \n",
            "72              0                     0                      0   \n",
            "12              0                     0                      0   \n",
            "37              0                     0                      0   \n",
            "\n",
            "    Department_Product  Department_Sales  Gender_Female  Gender_Male  \\\n",
            "2                    1                 0              0            0   \n",
            "73                   0                 1              0            1   \n",
            "97                   0                 0              0            1   \n",
            "62                   0                 0              1            0   \n",
            "19                   0                 0              0            1   \n",
            "..                 ...               ...            ...          ...   \n",
            "75                   0                 0              0            0   \n",
            "9                    0                 0              0            1   \n",
            "72                   0                 1              0            1   \n",
            "12                   0                 0              0            1   \n",
            "37                   0                 0              0            1   \n",
            "\n",
            "    Gender_Non-Binary  \n",
            "2                   1  \n",
            "73                  0  \n",
            "97                  0  \n",
            "62                  0  \n",
            "19                  0  \n",
            "..                ...  \n",
            "75                  1  \n",
            "9                   0  \n",
            "72                  0  \n",
            "12                  0  \n",
            "37                  0  \n",
            "\n",
            "[80 rows x 105 columns]\n"
          ]
        }
      ],
      "source": [
        "print(X_train_scaled)"
      ]
    },
    {
      "cell_type": "code",
      "execution_count": 453,
      "metadata": {
        "colab": {
          "base_uri": "https://localhost:8080/",
          "height": 51
        },
        "colab_type": "code",
        "id": "sTXykB_QlRjE",
        "outputId": "b68f0cfc-d07c-48cb-80d0-6800028c41f9"
      },
      "outputs": [
        {
          "name": "stdout",
          "output_type": "stream",
          "text": [
            "    Zip_Code  Employee_ID  Employee_Annual_Salary  \\\n",
            "80      2104          137                0.175395   \n",
            "84     98102          141                0.315646   \n",
            "33      2107           90                0.212303   \n",
            "81     10004          138                0.057288   \n",
            "93     94112          150                0.348863   \n",
            "17     94112           74               -0.691947   \n",
            "36     94111           93               -0.961377   \n",
            "82     10004          139                0.027762   \n",
            "69     90010          126                1.470871   \n",
            "65     10010          122                0.319336   \n",
            "92     94103          149                1.659103   \n",
            "39     78731           96               -1.205894   \n",
            "56     98101          113               -0.850652   \n",
            "52     10003          109                0.120955   \n",
            "51     10005          108               -1.168063   \n",
            "32      2107           89               -1.127464   \n",
            "31      2107           88               -1.186517   \n",
            "44     94112          101                0.297191   \n",
            "78     60607          135                0.086815   \n",
            "10     10003           67               -0.677184   \n",
            "\n",
            "    Monthly_Medical_contribution  Monthly_Dental_Contribution  \\\n",
            "80                      0.030762                     0.030762   \n",
            "84                      0.030762                     0.030762   \n",
            "33                      0.030762                     0.030762   \n",
            "81                      0.030762                     0.030762   \n",
            "93                      0.030762                     0.030762   \n",
            "17                     -0.789546                    -0.789546   \n",
            "36                     -0.789546                    -0.789546   \n",
            "82                      0.030762                     0.030762   \n",
            "69                      1.671377                     1.671377   \n",
            "65                      0.030762                     0.030762   \n",
            "92                      1.671377                     1.671377   \n",
            "39                     -0.789546                    -0.789546   \n",
            "56                     -0.789546                    -0.789546   \n",
            "52                      0.030762                     0.030762   \n",
            "51                     -0.789546                    -0.789546   \n",
            "32                     -0.789546                    -0.789546   \n",
            "31                     -0.789546                    -0.789546   \n",
            "44                      0.030762                     0.030762   \n",
            "78                      0.030762                     0.030762   \n",
            "10                     -0.789546                    -0.789546   \n",
            "\n",
            "    Monthly_Vision_Contribution     Bonus  Years_Of_Service  Employee_HR_rate  \\\n",
            "80                     0.030762 -0.111120          0.589136         -0.905382   \n",
            "84                     0.030762  0.008239          1.243731          0.826889   \n",
            "33                     0.030762  0.100524         -0.392757          0.285554   \n",
            "81                     0.030762 -0.205752         -0.065460          0.538177   \n",
            "93                     0.030762 -0.010958          0.916433          1.476490   \n",
            "17                    -0.789546 -0.620171         -0.392757         -1.049738   \n",
            "36                    -0.789546 -0.735305         -1.374650          1.801291   \n",
            "82                     0.030762 -0.228602         -0.065460          1.620846   \n",
            "69                     1.671377  1.461106          0.916433         -1.085827   \n",
            "65                     0.030762 -0.036573          0.916433          1.837380   \n",
            "92                     1.671377  1.676506          1.571029          0.465999   \n",
            "39                    -0.789546 -0.762171         -1.374650          0.718622   \n",
            "56                    -0.789546 -0.665192         -0.720055          1.873469   \n",
            "52                     0.030762  0.024150         -0.720055         -1.663251   \n",
            "51                    -0.789546 -0.729671         -0.720055          1.296045   \n",
            "32                    -0.789546 -0.702179         -0.392757          1.368223   \n",
            "31                    -0.789546 -0.741774         -1.047352         -0.436226   \n",
            "44                     0.030762 -0.055562          0.589136         -0.327959   \n",
            "78                     0.030762 -0.182590          0.261838         -1.158005   \n",
            "10                    -0.789546 -0.651315         -1.047352          1.223867   \n",
            "\n",
            "    Hours_per_week  ...  Department_Finance  Department_Human Resources  \\\n",
            "80             0.0  ...                   0                           1   \n",
            "84             0.0  ...                   0                           0   \n",
            "33             0.0  ...                   0                           1   \n",
            "81             0.0  ...                   0                           0   \n",
            "93             0.0  ...                   0                           0   \n",
            "17             0.0  ...                   0                           0   \n",
            "36             0.0  ...                   0                           0   \n",
            "82             0.0  ...                   0                           0   \n",
            "69             0.0  ...                   0                           0   \n",
            "65             0.0  ...                   0                           0   \n",
            "92             0.0  ...                   0                           0   \n",
            "39             0.0  ...                   0                           0   \n",
            "56             0.0  ...                   0                           0   \n",
            "52             0.0  ...                   0                           0   \n",
            "51             0.0  ...                   0                           0   \n",
            "32             0.0  ...                   0                           1   \n",
            "31             0.0  ...                   0                           1   \n",
            "44             0.0  ...                   0                           0   \n",
            "78             0.0  ...                   1                           0   \n",
            "10             0.0  ...                   0                           0   \n",
            "\n",
            "    Department_IT  Department_Marketing  Department_Operations  \\\n",
            "80              0                     0                      0   \n",
            "84              0                     0                      0   \n",
            "33              0                     0                      0   \n",
            "81              0                     1                      0   \n",
            "93              0                     0                      0   \n",
            "17              0                     0                      0   \n",
            "36              0                     0                      0   \n",
            "82              0                     1                      0   \n",
            "69              0                     0                      0   \n",
            "65              0                     0                      0   \n",
            "92              0                     0                      0   \n",
            "39              0                     0                      0   \n",
            "56              0                     0                      1   \n",
            "52              0                     1                      0   \n",
            "51              0                     1                      0   \n",
            "32              0                     0                      0   \n",
            "31              0                     0                      0   \n",
            "44              0                     0                      0   \n",
            "78              0                     0                      0   \n",
            "10              0                     0                      0   \n",
            "\n",
            "    Department_Product  Department_Sales  Gender_Female  Gender_Male  \\\n",
            "80                   0                 0              0            1   \n",
            "84                   1                 0              1            0   \n",
            "33                   0                 0              1            0   \n",
            "81                   0                 0              0            0   \n",
            "93                   0                 0              1            0   \n",
            "17                   0                 0              0            1   \n",
            "36                   0                 0              0            0   \n",
            "82                   0                 0              0            0   \n",
            "69                   0                 1              1            0   \n",
            "65                   1                 0              1            0   \n",
            "92                   0                 0              1            0   \n",
            "39                   0                 0              0            0   \n",
            "56                   0                 0              0            1   \n",
            "52                   0                 0              1            0   \n",
            "51                   0                 0              1            0   \n",
            "32                   0                 0              1            0   \n",
            "31                   0                 0              1            0   \n",
            "44                   0                 0              1            0   \n",
            "78                   0                 0              1            0   \n",
            "10                   0                 0              0            1   \n",
            "\n",
            "    Gender_Non-Binary  \n",
            "80                  0  \n",
            "84                  0  \n",
            "33                  0  \n",
            "81                  1  \n",
            "93                  0  \n",
            "17                  0  \n",
            "36                  1  \n",
            "82                  1  \n",
            "69                  0  \n",
            "65                  0  \n",
            "92                  0  \n",
            "39                  1  \n",
            "56                  0  \n",
            "52                  0  \n",
            "51                  0  \n",
            "32                  0  \n",
            "31                  0  \n",
            "44                  0  \n",
            "78                  0  \n",
            "10                  0  \n",
            "\n",
            "[20 rows x 105 columns]\n"
          ]
        }
      ],
      "source": [
        "print(X_test_scaled)"
      ]
    },
    {
      "cell_type": "markdown",
      "metadata": {},
      "source": [
        "### Removing `Employee ID` & `Zip Code` in `X_train_scaled` & `X_test_scaled`"
      ]
    },
    {
      "cell_type": "code",
      "execution_count": 454,
      "metadata": {},
      "outputs": [
        {
          "name": "stdout",
          "output_type": "stream",
          "text": [
            "<class 'pandas.core.frame.DataFrame'>\n"
          ]
        }
      ],
      "source": [
        "print(type(X_train_scaled))"
      ]
    },
    {
      "cell_type": "code",
      "execution_count": 455,
      "metadata": {},
      "outputs": [
        {
          "name": "stdout",
          "output_type": "stream",
          "text": [
            "    Employee_Annual_Salary  Monthly_Medical_contribution  \\\n",
            "2                -0.078349                      0.030762   \n",
            "73                0.108960                      0.030762   \n",
            "97               -0.774991                     -0.789546   \n",
            "62                1.105480                      0.851069   \n",
            "19                1.659103                      1.671377   \n",
            "..                     ...                           ...   \n",
            "75                0.027762                      0.030762   \n",
            "9                -0.011914                      0.030762   \n",
            "72                0.108960                      0.030762   \n",
            "12               -0.910628                     -0.789546   \n",
            "37               -1.210507                     -0.789546   \n",
            "\n",
            "    Monthly_Dental_Contribution  Monthly_Vision_Contribution     Bonus  \\\n",
            "2                      0.030762                     0.030762 -0.132665   \n",
            "73                     0.030762                     0.030762 -0.165009   \n",
            "97                    -0.789546                    -0.789546 -0.671348   \n",
            "62                     0.851069                     0.851069  1.019194   \n",
            "19                     1.671377                     1.671377  1.676506   \n",
            "..                          ...                          ...       ...   \n",
            "75                     0.030762                     0.030762 -0.228602   \n",
            "9                      0.030762                     0.030762 -0.081906   \n",
            "72                     0.030762                     0.030762 -0.165009   \n",
            "12                    -0.789546                    -0.789546 -0.704109   \n",
            "37                    -0.789546                    -0.789546 -0.764623   \n",
            "\n",
            "    Years_Of_Service  Employee_HR_rate  Hours_per_week  \\\n",
            "2          -1.374650          1.440401             0.0   \n",
            "73          0.261838         -1.410628             0.0   \n",
            "97         -1.047352         -1.194094             0.0   \n",
            "62          1.571029         -0.255781             0.0   \n",
            "19          1.898326         -1.121916             0.0   \n",
            "..               ...               ...             ...   \n",
            "75         -0.065460          0.177287             0.0   \n",
            "9          -1.047352         -0.977560             0.0   \n",
            "72          0.261838          1.765202             0.0   \n",
            "12         -1.047352         -0.219692             0.0   \n",
            "37         -1.374650         -1.482806             0.0   \n",
            "\n",
            "    Years_Since_Last_Promotion       age  ...  Department_Finance  \\\n",
            "2                    -1.271094 -0.240621  ...                   0   \n",
            "73                    1.857752 -0.507978  ...                   0   \n",
            "97                   -0.488882 -0.240621  ...                   0   \n",
            "62                    1.857752  1.630876  ...                   0   \n",
            "19                    1.857752  0.294092  ...                   0   \n",
            "..                         ...       ...  ...                 ...   \n",
            "75                   -0.488882 -1.310048  ...                   1   \n",
            "9                    -1.271094 -0.775335  ...                   0   \n",
            "72                    0.293329  1.363519  ...                   0   \n",
            "12                   -1.271094 -0.240621  ...                   0   \n",
            "37                   -1.271094 -0.240621  ...                   0   \n",
            "\n",
            "    Department_Human Resources  Department_IT  Department_Marketing  \\\n",
            "2                            0              0                     0   \n",
            "73                           0              0                     0   \n",
            "97                           0              0                     0   \n",
            "62                           0              0                     0   \n",
            "19                           1              0                     0   \n",
            "..                         ...            ...                   ...   \n",
            "75                           0              0                     0   \n",
            "9                            0              0                     0   \n",
            "72                           0              0                     0   \n",
            "12                           0              0                     0   \n",
            "37                           0              0                     0   \n",
            "\n",
            "    Department_Operations  Department_Product  Department_Sales  \\\n",
            "2                       0                   1                 0   \n",
            "73                      0                   0                 1   \n",
            "97                      0                   0                 0   \n",
            "62                      0                   0                 0   \n",
            "19                      0                   0                 0   \n",
            "..                    ...                 ...               ...   \n",
            "75                      0                   0                 0   \n",
            "9                       0                   0                 0   \n",
            "72                      0                   0                 1   \n",
            "12                      0                   0                 0   \n",
            "37                      0                   0                 0   \n",
            "\n",
            "    Gender_Female  Gender_Male  Gender_Non-Binary  \n",
            "2               0            0                  1  \n",
            "73              0            1                  0  \n",
            "97              0            1                  0  \n",
            "62              1            0                  0  \n",
            "19              0            1                  0  \n",
            "..            ...          ...                ...  \n",
            "75              0            0                  1  \n",
            "9               0            1                  0  \n",
            "72              0            1                  0  \n",
            "12              0            1                  0  \n",
            "37              0            1                  0  \n",
            "\n",
            "[80 rows x 103 columns]\n"
          ]
        }
      ],
      "source": [
        "X_train_scaled_new = X_train_scaled.drop(columns=['Employee_ID', 'Zip_Code'])\n",
        "print(X_train_scaled_new)"
      ]
    },
    {
      "cell_type": "code",
      "execution_count": 456,
      "metadata": {},
      "outputs": [
        {
          "name": "stdout",
          "output_type": "stream",
          "text": [
            "2     4\n",
            "73    3\n",
            "97    0\n",
            "62    1\n",
            "19    1\n",
            "     ..\n",
            "75    3\n",
            "9     0\n",
            "72    3\n",
            "12    0\n",
            "37    0\n",
            "Name: Cluster_label, Length: 80, dtype: int64\n"
          ]
        }
      ],
      "source": [
        "print(X_train_scaled_new['Cluster_label'])"
      ]
    },
    {
      "cell_type": "code",
      "execution_count": 457,
      "metadata": {},
      "outputs": [
        {
          "name": "stdout",
          "output_type": "stream",
          "text": [
            "<class 'pandas.core.frame.DataFrame'>\n"
          ]
        }
      ],
      "source": [
        "print(type(X_test_scaled))"
      ]
    },
    {
      "cell_type": "code",
      "execution_count": 458,
      "metadata": {},
      "outputs": [
        {
          "name": "stdout",
          "output_type": "stream",
          "text": [
            "    Employee_Annual_Salary  Monthly_Medical_contribution  \\\n",
            "80                0.175395                      0.030762   \n",
            "84                0.315646                      0.030762   \n",
            "33                0.212303                      0.030762   \n",
            "81                0.057288                      0.030762   \n",
            "93                0.348863                      0.030762   \n",
            "17               -0.691947                     -0.789546   \n",
            "36               -0.961377                     -0.789546   \n",
            "82                0.027762                      0.030762   \n",
            "69                1.470871                      1.671377   \n",
            "65                0.319336                      0.030762   \n",
            "92                1.659103                      1.671377   \n",
            "39               -1.205894                     -0.789546   \n",
            "56               -0.850652                     -0.789546   \n",
            "52                0.120955                      0.030762   \n",
            "51               -1.168063                     -0.789546   \n",
            "32               -1.127464                     -0.789546   \n",
            "31               -1.186517                     -0.789546   \n",
            "44                0.297191                      0.030762   \n",
            "78                0.086815                      0.030762   \n",
            "10               -0.677184                     -0.789546   \n",
            "\n",
            "    Monthly_Dental_Contribution  Monthly_Vision_Contribution     Bonus  \\\n",
            "80                     0.030762                     0.030762 -0.111120   \n",
            "84                     0.030762                     0.030762  0.008239   \n",
            "33                     0.030762                     0.030762  0.100524   \n",
            "81                     0.030762                     0.030762 -0.205752   \n",
            "93                     0.030762                     0.030762 -0.010958   \n",
            "17                    -0.789546                    -0.789546 -0.620171   \n",
            "36                    -0.789546                    -0.789546 -0.735305   \n",
            "82                     0.030762                     0.030762 -0.228602   \n",
            "69                     1.671377                     1.671377  1.461106   \n",
            "65                     0.030762                     0.030762 -0.036573   \n",
            "92                     1.671377                     1.671377  1.676506   \n",
            "39                    -0.789546                    -0.789546 -0.762171   \n",
            "56                    -0.789546                    -0.789546 -0.665192   \n",
            "52                     0.030762                     0.030762  0.024150   \n",
            "51                    -0.789546                    -0.789546 -0.729671   \n",
            "32                    -0.789546                    -0.789546 -0.702179   \n",
            "31                    -0.789546                    -0.789546 -0.741774   \n",
            "44                     0.030762                     0.030762 -0.055562   \n",
            "78                     0.030762                     0.030762 -0.182590   \n",
            "10                    -0.789546                    -0.789546 -0.651315   \n",
            "\n",
            "    Years_Of_Service  Employee_HR_rate  Hours_per_week  \\\n",
            "80          0.589136         -0.905382             0.0   \n",
            "84          1.243731          0.826889             0.0   \n",
            "33         -0.392757          0.285554             0.0   \n",
            "81         -0.065460          0.538177             0.0   \n",
            "93          0.916433          1.476490             0.0   \n",
            "17         -0.392757         -1.049738             0.0   \n",
            "36         -1.374650          1.801291             0.0   \n",
            "82         -0.065460          1.620846             0.0   \n",
            "69          0.916433         -1.085827             0.0   \n",
            "65          0.916433          1.837380             0.0   \n",
            "92          1.571029          0.465999             0.0   \n",
            "39         -1.374650          0.718622             0.0   \n",
            "56         -0.720055          1.873469             0.0   \n",
            "52         -0.720055         -1.663251             0.0   \n",
            "51         -0.720055          1.296045             0.0   \n",
            "32         -0.392757          1.368223             0.0   \n",
            "31         -1.047352         -0.436226             0.0   \n",
            "44          0.589136         -0.327959             0.0   \n",
            "78          0.261838         -1.158005             0.0   \n",
            "10         -1.047352          1.223867             0.0   \n",
            "\n",
            "    Years_Since_Last_Promotion       age  ...  Department_Finance  \\\n",
            "80                    1.075541  1.096163  ...                   0   \n",
            "84                    1.857752  0.026736  ...                   0   \n",
            "33                    0.293329 -0.507978  ...                   0   \n",
            "81                    0.293329 -1.042691  ...                   0   \n",
            "93                    1.075541 -0.507978  ...                   0   \n",
            "17                   -1.271094 -1.042691  ...                   0   \n",
            "36                   -1.271094 -2.379475  ...                   0   \n",
            "82                   -0.488882  0.026736  ...                   0   \n",
            "69                    0.293329 -0.240621  ...                   0   \n",
            "65                    1.857752 -0.240621  ...                   0   \n",
            "92                    1.857752  2.165590  ...                   0   \n",
            "39                   -1.271094 -0.507978  ...                   0   \n",
            "56                   -0.488882 -1.310048  ...                   0   \n",
            "52                   -0.488882 -1.042691  ...                   0   \n",
            "51                   -1.271094 -0.507978  ...                   0   \n",
            "32                   -0.488882  0.026736  ...                   0   \n",
            "31                   -1.271094 -1.577405  ...                   0   \n",
            "44                    0.293329  0.294092  ...                   0   \n",
            "78                    1.075541  1.096163  ...                   1   \n",
            "10                   -1.271094 -1.310048  ...                   0   \n",
            "\n",
            "    Department_Human Resources  Department_IT  Department_Marketing  \\\n",
            "80                           1              0                     0   \n",
            "84                           0              0                     0   \n",
            "33                           1              0                     0   \n",
            "81                           0              0                     1   \n",
            "93                           0              0                     0   \n",
            "17                           0              0                     0   \n",
            "36                           0              0                     0   \n",
            "82                           0              0                     1   \n",
            "69                           0              0                     0   \n",
            "65                           0              0                     0   \n",
            "92                           0              0                     0   \n",
            "39                           0              0                     0   \n",
            "56                           0              0                     0   \n",
            "52                           0              0                     1   \n",
            "51                           0              0                     1   \n",
            "32                           1              0                     0   \n",
            "31                           1              0                     0   \n",
            "44                           0              0                     0   \n",
            "78                           0              0                     0   \n",
            "10                           0              0                     0   \n",
            "\n",
            "    Department_Operations  Department_Product  Department_Sales  \\\n",
            "80                      0                   0                 0   \n",
            "84                      0                   1                 0   \n",
            "33                      0                   0                 0   \n",
            "81                      0                   0                 0   \n",
            "93                      0                   0                 0   \n",
            "17                      0                   0                 0   \n",
            "36                      0                   0                 0   \n",
            "82                      0                   0                 0   \n",
            "69                      0                   0                 1   \n",
            "65                      0                   1                 0   \n",
            "92                      0                   0                 0   \n",
            "39                      0                   0                 0   \n",
            "56                      1                   0                 0   \n",
            "52                      0                   0                 0   \n",
            "51                      0                   0                 0   \n",
            "32                      0                   0                 0   \n",
            "31                      0                   0                 0   \n",
            "44                      0                   0                 0   \n",
            "78                      0                   0                 0   \n",
            "10                      0                   0                 0   \n",
            "\n",
            "    Gender_Female  Gender_Male  Gender_Non-Binary  \n",
            "80              0            1                  0  \n",
            "84              1            0                  0  \n",
            "33              1            0                  0  \n",
            "81              0            0                  1  \n",
            "93              1            0                  0  \n",
            "17              0            1                  0  \n",
            "36              0            0                  1  \n",
            "82              0            0                  1  \n",
            "69              1            0                  0  \n",
            "65              1            0                  0  \n",
            "92              1            0                  0  \n",
            "39              0            0                  1  \n",
            "56              0            1                  0  \n",
            "52              1            0                  0  \n",
            "51              1            0                  0  \n",
            "32              1            0                  0  \n",
            "31              1            0                  0  \n",
            "44              1            0                  0  \n",
            "78              1            0                  0  \n",
            "10              0            1                  0  \n",
            "\n",
            "[20 rows x 103 columns]\n"
          ]
        }
      ],
      "source": [
        "X_test_scaled_new = X_test_scaled.drop(columns=['Employee_ID', 'Zip_Code'])\n",
        "print(X_test_scaled_new)"
      ]
    },
    {
      "cell_type": "code",
      "execution_count": 459,
      "metadata": {},
      "outputs": [
        {
          "name": "stdout",
          "output_type": "stream",
          "text": [
            "80    3\n",
            "84    3\n",
            "33    3\n",
            "81    3\n",
            "93    3\n",
            "17    0\n",
            "36    4\n",
            "82    3\n",
            "69    1\n",
            "65    3\n",
            "92    1\n",
            "39    4\n",
            "56    4\n",
            "52    0\n",
            "51    4\n",
            "32    4\n",
            "31    4\n",
            "44    3\n",
            "78    3\n",
            "10    4\n",
            "Name: Cluster_label, dtype: int64\n"
          ]
        }
      ],
      "source": [
        "print(X_test_scaled_new['Cluster_label'])"
      ]
    },
    {
      "cell_type": "markdown",
      "metadata": {},
      "source": [
        "## Training the Model"
      ]
    },
    {
      "cell_type": "code",
      "execution_count": 460,
      "metadata": {},
      "outputs": [],
      "source": [
        "from sklearn.linear_model import LogisticRegression\n",
        "model = LogisticRegression()"
      ]
    },
    {
      "cell_type": "code",
      "execution_count": 461,
      "metadata": {},
      "outputs": [
        {
          "name": "stdout",
          "output_type": "stream",
          "text": [
            "06/19/2025 19:29\n"
          ]
        },
        {
          "data": {
            "text/html": [
              "<style>#sk-container-id-8 {\n",
              "  /* Definition of color scheme common for light and dark mode */\n",
              "  --sklearn-color-text: #000;\n",
              "  --sklearn-color-text-muted: #666;\n",
              "  --sklearn-color-line: gray;\n",
              "  /* Definition of color scheme for unfitted estimators */\n",
              "  --sklearn-color-unfitted-level-0: #fff5e6;\n",
              "  --sklearn-color-unfitted-level-1: #f6e4d2;\n",
              "  --sklearn-color-unfitted-level-2: #ffe0b3;\n",
              "  --sklearn-color-unfitted-level-3: chocolate;\n",
              "  /* Definition of color scheme for fitted estimators */\n",
              "  --sklearn-color-fitted-level-0: #f0f8ff;\n",
              "  --sklearn-color-fitted-level-1: #d4ebff;\n",
              "  --sklearn-color-fitted-level-2: #b3dbfd;\n",
              "  --sklearn-color-fitted-level-3: cornflowerblue;\n",
              "\n",
              "  /* Specific color for light theme */\n",
              "  --sklearn-color-text-on-default-background: var(--sg-text-color, var(--theme-code-foreground, var(--jp-content-font-color1, black)));\n",
              "  --sklearn-color-background: var(--sg-background-color, var(--theme-background, var(--jp-layout-color0, white)));\n",
              "  --sklearn-color-border-box: var(--sg-text-color, var(--theme-code-foreground, var(--jp-content-font-color1, black)));\n",
              "  --sklearn-color-icon: #696969;\n",
              "\n",
              "  @media (prefers-color-scheme: dark) {\n",
              "    /* Redefinition of color scheme for dark theme */\n",
              "    --sklearn-color-text-on-default-background: var(--sg-text-color, var(--theme-code-foreground, var(--jp-content-font-color1, white)));\n",
              "    --sklearn-color-background: var(--sg-background-color, var(--theme-background, var(--jp-layout-color0, #111)));\n",
              "    --sklearn-color-border-box: var(--sg-text-color, var(--theme-code-foreground, var(--jp-content-font-color1, white)));\n",
              "    --sklearn-color-icon: #878787;\n",
              "  }\n",
              "}\n",
              "\n",
              "#sk-container-id-8 {\n",
              "  color: var(--sklearn-color-text);\n",
              "}\n",
              "\n",
              "#sk-container-id-8 pre {\n",
              "  padding: 0;\n",
              "}\n",
              "\n",
              "#sk-container-id-8 input.sk-hidden--visually {\n",
              "  border: 0;\n",
              "  clip: rect(1px 1px 1px 1px);\n",
              "  clip: rect(1px, 1px, 1px, 1px);\n",
              "  height: 1px;\n",
              "  margin: -1px;\n",
              "  overflow: hidden;\n",
              "  padding: 0;\n",
              "  position: absolute;\n",
              "  width: 1px;\n",
              "}\n",
              "\n",
              "#sk-container-id-8 div.sk-dashed-wrapped {\n",
              "  border: 1px dashed var(--sklearn-color-line);\n",
              "  margin: 0 0.4em 0.5em 0.4em;\n",
              "  box-sizing: border-box;\n",
              "  padding-bottom: 0.4em;\n",
              "  background-color: var(--sklearn-color-background);\n",
              "}\n",
              "\n",
              "#sk-container-id-8 div.sk-container {\n",
              "  /* jupyter's `normalize.less` sets `[hidden] { display: none; }`\n",
              "     but bootstrap.min.css set `[hidden] { display: none !important; }`\n",
              "     so we also need the `!important` here to be able to override the\n",
              "     default hidden behavior on the sphinx rendered scikit-learn.org.\n",
              "     See: https://github.com/scikit-learn/scikit-learn/issues/21755 */\n",
              "  display: inline-block !important;\n",
              "  position: relative;\n",
              "}\n",
              "\n",
              "#sk-container-id-8 div.sk-text-repr-fallback {\n",
              "  display: none;\n",
              "}\n",
              "\n",
              "div.sk-parallel-item,\n",
              "div.sk-serial,\n",
              "div.sk-item {\n",
              "  /* draw centered vertical line to link estimators */\n",
              "  background-image: linear-gradient(var(--sklearn-color-text-on-default-background), var(--sklearn-color-text-on-default-background));\n",
              "  background-size: 2px 100%;\n",
              "  background-repeat: no-repeat;\n",
              "  background-position: center center;\n",
              "}\n",
              "\n",
              "/* Parallel-specific style estimator block */\n",
              "\n",
              "#sk-container-id-8 div.sk-parallel-item::after {\n",
              "  content: \"\";\n",
              "  width: 100%;\n",
              "  border-bottom: 2px solid var(--sklearn-color-text-on-default-background);\n",
              "  flex-grow: 1;\n",
              "}\n",
              "\n",
              "#sk-container-id-8 div.sk-parallel {\n",
              "  display: flex;\n",
              "  align-items: stretch;\n",
              "  justify-content: center;\n",
              "  background-color: var(--sklearn-color-background);\n",
              "  position: relative;\n",
              "}\n",
              "\n",
              "#sk-container-id-8 div.sk-parallel-item {\n",
              "  display: flex;\n",
              "  flex-direction: column;\n",
              "}\n",
              "\n",
              "#sk-container-id-8 div.sk-parallel-item:first-child::after {\n",
              "  align-self: flex-end;\n",
              "  width: 50%;\n",
              "}\n",
              "\n",
              "#sk-container-id-8 div.sk-parallel-item:last-child::after {\n",
              "  align-self: flex-start;\n",
              "  width: 50%;\n",
              "}\n",
              "\n",
              "#sk-container-id-8 div.sk-parallel-item:only-child::after {\n",
              "  width: 0;\n",
              "}\n",
              "\n",
              "/* Serial-specific style estimator block */\n",
              "\n",
              "#sk-container-id-8 div.sk-serial {\n",
              "  display: flex;\n",
              "  flex-direction: column;\n",
              "  align-items: center;\n",
              "  background-color: var(--sklearn-color-background);\n",
              "  padding-right: 1em;\n",
              "  padding-left: 1em;\n",
              "}\n",
              "\n",
              "\n",
              "/* Toggleable style: style used for estimator/Pipeline/ColumnTransformer box that is\n",
              "clickable and can be expanded/collapsed.\n",
              "- Pipeline and ColumnTransformer use this feature and define the default style\n",
              "- Estimators will overwrite some part of the style using the `sk-estimator` class\n",
              "*/\n",
              "\n",
              "/* Pipeline and ColumnTransformer style (default) */\n",
              "\n",
              "#sk-container-id-8 div.sk-toggleable {\n",
              "  /* Default theme specific background. It is overwritten whether we have a\n",
              "  specific estimator or a Pipeline/ColumnTransformer */\n",
              "  background-color: var(--sklearn-color-background);\n",
              "}\n",
              "\n",
              "/* Toggleable label */\n",
              "#sk-container-id-8 label.sk-toggleable__label {\n",
              "  cursor: pointer;\n",
              "  display: flex;\n",
              "  width: 100%;\n",
              "  margin-bottom: 0;\n",
              "  padding: 0.5em;\n",
              "  box-sizing: border-box;\n",
              "  text-align: center;\n",
              "  align-items: start;\n",
              "  justify-content: space-between;\n",
              "  gap: 0.5em;\n",
              "}\n",
              "\n",
              "#sk-container-id-8 label.sk-toggleable__label .caption {\n",
              "  font-size: 0.6rem;\n",
              "  font-weight: lighter;\n",
              "  color: var(--sklearn-color-text-muted);\n",
              "}\n",
              "\n",
              "#sk-container-id-8 label.sk-toggleable__label-arrow:before {\n",
              "  /* Arrow on the left of the label */\n",
              "  content: \"▸\";\n",
              "  float: left;\n",
              "  margin-right: 0.25em;\n",
              "  color: var(--sklearn-color-icon);\n",
              "}\n",
              "\n",
              "#sk-container-id-8 label.sk-toggleable__label-arrow:hover:before {\n",
              "  color: var(--sklearn-color-text);\n",
              "}\n",
              "\n",
              "/* Toggleable content - dropdown */\n",
              "\n",
              "#sk-container-id-8 div.sk-toggleable__content {\n",
              "  max-height: 0;\n",
              "  max-width: 0;\n",
              "  overflow: hidden;\n",
              "  text-align: left;\n",
              "  /* unfitted */\n",
              "  background-color: var(--sklearn-color-unfitted-level-0);\n",
              "}\n",
              "\n",
              "#sk-container-id-8 div.sk-toggleable__content.fitted {\n",
              "  /* fitted */\n",
              "  background-color: var(--sklearn-color-fitted-level-0);\n",
              "}\n",
              "\n",
              "#sk-container-id-8 div.sk-toggleable__content pre {\n",
              "  margin: 0.2em;\n",
              "  border-radius: 0.25em;\n",
              "  color: var(--sklearn-color-text);\n",
              "  /* unfitted */\n",
              "  background-color: var(--sklearn-color-unfitted-level-0);\n",
              "}\n",
              "\n",
              "#sk-container-id-8 div.sk-toggleable__content.fitted pre {\n",
              "  /* unfitted */\n",
              "  background-color: var(--sklearn-color-fitted-level-0);\n",
              "}\n",
              "\n",
              "#sk-container-id-8 input.sk-toggleable__control:checked~div.sk-toggleable__content {\n",
              "  /* Expand drop-down */\n",
              "  max-height: 200px;\n",
              "  max-width: 100%;\n",
              "  overflow: auto;\n",
              "}\n",
              "\n",
              "#sk-container-id-8 input.sk-toggleable__control:checked~label.sk-toggleable__label-arrow:before {\n",
              "  content: \"▾\";\n",
              "}\n",
              "\n",
              "/* Pipeline/ColumnTransformer-specific style */\n",
              "\n",
              "#sk-container-id-8 div.sk-label input.sk-toggleable__control:checked~label.sk-toggleable__label {\n",
              "  color: var(--sklearn-color-text);\n",
              "  background-color: var(--sklearn-color-unfitted-level-2);\n",
              "}\n",
              "\n",
              "#sk-container-id-8 div.sk-label.fitted input.sk-toggleable__control:checked~label.sk-toggleable__label {\n",
              "  background-color: var(--sklearn-color-fitted-level-2);\n",
              "}\n",
              "\n",
              "/* Estimator-specific style */\n",
              "\n",
              "/* Colorize estimator box */\n",
              "#sk-container-id-8 div.sk-estimator input.sk-toggleable__control:checked~label.sk-toggleable__label {\n",
              "  /* unfitted */\n",
              "  background-color: var(--sklearn-color-unfitted-level-2);\n",
              "}\n",
              "\n",
              "#sk-container-id-8 div.sk-estimator.fitted input.sk-toggleable__control:checked~label.sk-toggleable__label {\n",
              "  /* fitted */\n",
              "  background-color: var(--sklearn-color-fitted-level-2);\n",
              "}\n",
              "\n",
              "#sk-container-id-8 div.sk-label label.sk-toggleable__label,\n",
              "#sk-container-id-8 div.sk-label label {\n",
              "  /* The background is the default theme color */\n",
              "  color: var(--sklearn-color-text-on-default-background);\n",
              "}\n",
              "\n",
              "/* On hover, darken the color of the background */\n",
              "#sk-container-id-8 div.sk-label:hover label.sk-toggleable__label {\n",
              "  color: var(--sklearn-color-text);\n",
              "  background-color: var(--sklearn-color-unfitted-level-2);\n",
              "}\n",
              "\n",
              "/* Label box, darken color on hover, fitted */\n",
              "#sk-container-id-8 div.sk-label.fitted:hover label.sk-toggleable__label.fitted {\n",
              "  color: var(--sklearn-color-text);\n",
              "  background-color: var(--sklearn-color-fitted-level-2);\n",
              "}\n",
              "\n",
              "/* Estimator label */\n",
              "\n",
              "#sk-container-id-8 div.sk-label label {\n",
              "  font-family: monospace;\n",
              "  font-weight: bold;\n",
              "  display: inline-block;\n",
              "  line-height: 1.2em;\n",
              "}\n",
              "\n",
              "#sk-container-id-8 div.sk-label-container {\n",
              "  text-align: center;\n",
              "}\n",
              "\n",
              "/* Estimator-specific */\n",
              "#sk-container-id-8 div.sk-estimator {\n",
              "  font-family: monospace;\n",
              "  border: 1px dotted var(--sklearn-color-border-box);\n",
              "  border-radius: 0.25em;\n",
              "  box-sizing: border-box;\n",
              "  margin-bottom: 0.5em;\n",
              "  /* unfitted */\n",
              "  background-color: var(--sklearn-color-unfitted-level-0);\n",
              "}\n",
              "\n",
              "#sk-container-id-8 div.sk-estimator.fitted {\n",
              "  /* fitted */\n",
              "  background-color: var(--sklearn-color-fitted-level-0);\n",
              "}\n",
              "\n",
              "/* on hover */\n",
              "#sk-container-id-8 div.sk-estimator:hover {\n",
              "  /* unfitted */\n",
              "  background-color: var(--sklearn-color-unfitted-level-2);\n",
              "}\n",
              "\n",
              "#sk-container-id-8 div.sk-estimator.fitted:hover {\n",
              "  /* fitted */\n",
              "  background-color: var(--sklearn-color-fitted-level-2);\n",
              "}\n",
              "\n",
              "/* Specification for estimator info (e.g. \"i\" and \"?\") */\n",
              "\n",
              "/* Common style for \"i\" and \"?\" */\n",
              "\n",
              ".sk-estimator-doc-link,\n",
              "a:link.sk-estimator-doc-link,\n",
              "a:visited.sk-estimator-doc-link {\n",
              "  float: right;\n",
              "  font-size: smaller;\n",
              "  line-height: 1em;\n",
              "  font-family: monospace;\n",
              "  background-color: var(--sklearn-color-background);\n",
              "  border-radius: 1em;\n",
              "  height: 1em;\n",
              "  width: 1em;\n",
              "  text-decoration: none !important;\n",
              "  margin-left: 0.5em;\n",
              "  text-align: center;\n",
              "  /* unfitted */\n",
              "  border: var(--sklearn-color-unfitted-level-1) 1pt solid;\n",
              "  color: var(--sklearn-color-unfitted-level-1);\n",
              "}\n",
              "\n",
              ".sk-estimator-doc-link.fitted,\n",
              "a:link.sk-estimator-doc-link.fitted,\n",
              "a:visited.sk-estimator-doc-link.fitted {\n",
              "  /* fitted */\n",
              "  border: var(--sklearn-color-fitted-level-1) 1pt solid;\n",
              "  color: var(--sklearn-color-fitted-level-1);\n",
              "}\n",
              "\n",
              "/* On hover */\n",
              "div.sk-estimator:hover .sk-estimator-doc-link:hover,\n",
              ".sk-estimator-doc-link:hover,\n",
              "div.sk-label-container:hover .sk-estimator-doc-link:hover,\n",
              ".sk-estimator-doc-link:hover {\n",
              "  /* unfitted */\n",
              "  background-color: var(--sklearn-color-unfitted-level-3);\n",
              "  color: var(--sklearn-color-background);\n",
              "  text-decoration: none;\n",
              "}\n",
              "\n",
              "div.sk-estimator.fitted:hover .sk-estimator-doc-link.fitted:hover,\n",
              ".sk-estimator-doc-link.fitted:hover,\n",
              "div.sk-label-container:hover .sk-estimator-doc-link.fitted:hover,\n",
              ".sk-estimator-doc-link.fitted:hover {\n",
              "  /* fitted */\n",
              "  background-color: var(--sklearn-color-fitted-level-3);\n",
              "  color: var(--sklearn-color-background);\n",
              "  text-decoration: none;\n",
              "}\n",
              "\n",
              "/* Span, style for the box shown on hovering the info icon */\n",
              ".sk-estimator-doc-link span {\n",
              "  display: none;\n",
              "  z-index: 9999;\n",
              "  position: relative;\n",
              "  font-weight: normal;\n",
              "  right: .2ex;\n",
              "  padding: .5ex;\n",
              "  margin: .5ex;\n",
              "  width: min-content;\n",
              "  min-width: 20ex;\n",
              "  max-width: 50ex;\n",
              "  color: var(--sklearn-color-text);\n",
              "  box-shadow: 2pt 2pt 4pt #999;\n",
              "  /* unfitted */\n",
              "  background: var(--sklearn-color-unfitted-level-0);\n",
              "  border: .5pt solid var(--sklearn-color-unfitted-level-3);\n",
              "}\n",
              "\n",
              ".sk-estimator-doc-link.fitted span {\n",
              "  /* fitted */\n",
              "  background: var(--sklearn-color-fitted-level-0);\n",
              "  border: var(--sklearn-color-fitted-level-3);\n",
              "}\n",
              "\n",
              ".sk-estimator-doc-link:hover span {\n",
              "  display: block;\n",
              "}\n",
              "\n",
              "/* \"?\"-specific style due to the `<a>` HTML tag */\n",
              "\n",
              "#sk-container-id-8 a.estimator_doc_link {\n",
              "  float: right;\n",
              "  font-size: 1rem;\n",
              "  line-height: 1em;\n",
              "  font-family: monospace;\n",
              "  background-color: var(--sklearn-color-background);\n",
              "  border-radius: 1rem;\n",
              "  height: 1rem;\n",
              "  width: 1rem;\n",
              "  text-decoration: none;\n",
              "  /* unfitted */\n",
              "  color: var(--sklearn-color-unfitted-level-1);\n",
              "  border: var(--sklearn-color-unfitted-level-1) 1pt solid;\n",
              "}\n",
              "\n",
              "#sk-container-id-8 a.estimator_doc_link.fitted {\n",
              "  /* fitted */\n",
              "  border: var(--sklearn-color-fitted-level-1) 1pt solid;\n",
              "  color: var(--sklearn-color-fitted-level-1);\n",
              "}\n",
              "\n",
              "/* On hover */\n",
              "#sk-container-id-8 a.estimator_doc_link:hover {\n",
              "  /* unfitted */\n",
              "  background-color: var(--sklearn-color-unfitted-level-3);\n",
              "  color: var(--sklearn-color-background);\n",
              "  text-decoration: none;\n",
              "}\n",
              "\n",
              "#sk-container-id-8 a.estimator_doc_link.fitted:hover {\n",
              "  /* fitted */\n",
              "  background-color: var(--sklearn-color-fitted-level-3);\n",
              "}\n",
              "</style><div id=\"sk-container-id-8\" class=\"sk-top-container\"><div class=\"sk-text-repr-fallback\"><pre>LogisticRegression()</pre><b>In a Jupyter environment, please rerun this cell to show the HTML representation or trust the notebook. <br />On GitHub, the HTML representation is unable to render, please try loading this page with nbviewer.org.</b></div><div class=\"sk-container\" hidden><div class=\"sk-item\"><div class=\"sk-estimator fitted sk-toggleable\"><input class=\"sk-toggleable__control sk-hidden--visually\" id=\"sk-estimator-id-8\" type=\"checkbox\" checked><label for=\"sk-estimator-id-8\" class=\"sk-toggleable__label fitted sk-toggleable__label-arrow\"><div><div>LogisticRegression</div></div><div><a class=\"sk-estimator-doc-link fitted\" rel=\"noreferrer\" target=\"_blank\" href=\"https://scikit-learn.org/1.6/modules/generated/sklearn.linear_model.LogisticRegression.html\">?<span>Documentation for LogisticRegression</span></a><span class=\"sk-estimator-doc-link fitted\">i<span>Fitted</span></span></div></label><div class=\"sk-toggleable__content fitted\"><pre>LogisticRegression()</pre></div> </div></div></div></div>"
            ],
            "text/plain": [
              "LogisticRegression()"
            ]
          },
          "execution_count": 461,
          "metadata": {},
          "output_type": "execute_result"
        }
      ],
      "source": [
        "training_timestamp = datetime.now().strftime(\"%m/%d/%Y %H:%M\")\n",
        "print(training_timestamp)\n",
        "model.fit(X_train_scaled_new, y_train.values.ravel())"
      ]
    },
    {
      "cell_type": "markdown",
      "metadata": {},
      "source": [
        "## Prediction"
      ]
    },
    {
      "cell_type": "code",
      "execution_count": 462,
      "metadata": {},
      "outputs": [],
      "source": [
        "y_pred = model.predict(X_test_scaled_new)"
      ]
    },
    {
      "cell_type": "code",
      "execution_count": 463,
      "metadata": {},
      "outputs": [
        {
          "name": "stdout",
          "output_type": "stream",
          "text": [
            "[0 0 0 0 0 0 0 0 0 0 1 0 0 0 0 0 0 0 0 0]\n"
          ]
        }
      ],
      "source": [
        "print(y_pred)"
      ]
    },
    {
      "cell_type": "code",
      "execution_count": 464,
      "metadata": {},
      "outputs": [],
      "source": [
        "y_pred_prob = model.predict_proba(X_test_scaled_new)"
      ]
    },
    {
      "cell_type": "code",
      "execution_count": 465,
      "metadata": {},
      "outputs": [
        {
          "name": "stdout",
          "output_type": "stream",
          "text": [
            "[[8.99858290e-01 1.00141710e-01]\n",
            " [5.74086077e-01 4.25913923e-01]\n",
            " [9.79297253e-01 2.07027472e-02]\n",
            " [9.84271325e-01 1.57286750e-02]\n",
            " [8.44321166e-01 1.55678834e-01]\n",
            " [9.98582951e-01 1.41704944e-03]\n",
            " [9.99848079e-01 1.51921495e-04]\n",
            " [9.98566029e-01 1.43397122e-03]\n",
            " [8.90502346e-01 1.09497654e-01]\n",
            " [6.66353772e-01 3.33646228e-01]\n",
            " [3.47401373e-01 6.52598627e-01]\n",
            " [9.99898798e-01 1.01202075e-04]\n",
            " [9.98873435e-01 1.12656482e-03]\n",
            " [9.87704704e-01 1.22952957e-02]\n",
            " [9.99796000e-01 2.04000264e-04]\n",
            " [9.98612596e-01 1.38740445e-03]\n",
            " [9.99553289e-01 4.46711466e-04]\n",
            " [9.72538986e-01 2.74610143e-02]\n",
            " [8.04403440e-01 1.95596560e-01]\n",
            " [9.99843651e-01 1.56348771e-04]]\n"
          ]
        }
      ],
      "source": [
        "print(y_pred_prob)"
      ]
    },
    {
      "cell_type": "markdown",
      "metadata": {},
      "source": [
        "### Saving the output as new table"
      ]
    },
    {
      "cell_type": "code",
      "execution_count": 466,
      "metadata": {},
      "outputs": [],
      "source": [
        "# Get Employee_IDs from X_test\n",
        "employee_ids = X_test_scaled['Employee_ID'].values\n",
        "Cluster_label = X_test_scaled['Cluster_label'].values"
      ]
    },
    {
      "cell_type": "code",
      "execution_count": 467,
      "metadata": {},
      "outputs": [
        {
          "name": "stdout",
          "output_type": "stream",
          "text": [
            "employee_ids shape: (20,)\n",
            "y_test shape: (20, 1)\n",
            "y_pred shape: (20,)\n",
            "Cluster_label: (20,)\n"
          ]
        }
      ],
      "source": [
        "print(\"employee_ids shape:\", employee_ids.shape)\n",
        "print(\"y_test shape:\", y_test.shape)\n",
        "print(\"y_pred shape:\", y_pred.shape)\n",
        "print(\"Cluster_label:\", Cluster_label.shape)\n"
      ]
    },
    {
      "cell_type": "code",
      "execution_count": 468,
      "metadata": {},
      "outputs": [
        {
          "name": "stdout",
          "output_type": "stream",
          "text": [
            "    left\n",
            "80     0\n",
            "84     1\n",
            "33     0\n",
            "81     0\n",
            "93     0\n",
            "17     0\n",
            "36     0\n",
            "82     0\n",
            "69     0\n",
            "65     1\n",
            "92     1\n",
            "39     0\n",
            "56     0\n",
            "52     0\n",
            "51     0\n",
            "32     0\n",
            "31     0\n",
            "44     0\n",
            "78     0\n",
            "10     0\n"
          ]
        }
      ],
      "source": [
        "print(y_test)"
      ]
    },
    {
      "cell_type": "code",
      "execution_count": 469,
      "metadata": {},
      "outputs": [],
      "source": [
        "# Flatten y_test to 1D\n",
        "y_test = y_test.values.ravel()"
      ]
    },
    {
      "cell_type": "code",
      "execution_count": 470,
      "metadata": {},
      "outputs": [
        {
          "name": "stdout",
          "output_type": "stream",
          "text": [
            "employee_ids shape: (20,)\n",
            "y_test shape: (20,)\n",
            "y_pred shape: (20,)\n",
            "Cluster_label: (20,)\n"
          ]
        }
      ],
      "source": [
        "print(\"employee_ids shape:\", employee_ids.shape)\n",
        "print(\"y_test shape:\", y_test.shape)\n",
        "print(\"y_pred shape:\", y_pred.shape)\n",
        "print(\"Cluster_label:\", Cluster_label.shape)"
      ]
    },
    {
      "cell_type": "code",
      "execution_count": 471,
      "metadata": {},
      "outputs": [
        {
          "name": "stdout",
          "output_type": "stream",
          "text": [
            "[0 1 0 0 0 0 0 0 0 1 1 0 0 0 0 0 0 0 0 0]\n"
          ]
        }
      ],
      "source": [
        "print(y_test)"
      ]
    },
    {
      "cell_type": "markdown",
      "metadata": {},
      "source": [
        "### get top 3 features"
      ]
    },
    {
      "cell_type": "code",
      "execution_count": 472,
      "metadata": {},
      "outputs": [],
      "source": [
        "top_indices = np.argsort(model.coef_[0])[::-1][:3]\n"
      ]
    },
    {
      "cell_type": "code",
      "execution_count": 473,
      "metadata": {},
      "outputs": [
        {
          "name": "stdout",
          "output_type": "stream",
          "text": [
            "[ 8  5 64]\n"
          ]
        }
      ],
      "source": [
        "print(top_indices)"
      ]
    },
    {
      "cell_type": "code",
      "execution_count": 474,
      "metadata": {},
      "outputs": [],
      "source": [
        "top_features = X_train_scaled_new.columns[top_indices].tolist()"
      ]
    },
    {
      "cell_type": "code",
      "execution_count": 475,
      "metadata": {},
      "outputs": [],
      "source": [
        "results_df = pd.DataFrame({\n",
        "    'Employee_ID': employee_ids,\n",
        "    'Actual': y_test,\n",
        "    'Predicted': y_pred,\n",
        "    'Cluster_label': Cluster_label,\n",
        "    'primary_attrition_feature': top_features[0],\n",
        "    'secondary_attrition_feature': top_features[1],\n",
        "    'tertiary_attrition_feature': top_features[2]\n",
        "})\n",
        "\n"
      ]
    },
    {
      "cell_type": "code",
      "execution_count": 476,
      "metadata": {},
      "outputs": [],
      "source": [
        "# Create the folder if it doesn't exist\n",
        "os.makedirs(\"3_5_am_workday_log_reg_prediction_data\", exist_ok=True)\n",
        "\n",
        "# Save the Excel file inside the folder\n",
        "results_df.to_csv(\"3_5_am_workday_log_reg_prediction_data/3_5_am_workday_log_reg_prediction_data.csv\", index=False)\n"
      ]
    },
    {
      "cell_type": "code",
      "execution_count": 477,
      "metadata": {},
      "outputs": [],
      "source": [
        "# spark_df = spark.createDataFrame(results_df)\n",
        "# spark_df.write.mode(\"overwrite\").saveAsTable(\"sd_bdc_demo.k_cluster_logistic_regression.3_5_am_workday_log_reg_prediction_data\")"
      ]
    },
    {
      "cell_type": "markdown",
      "metadata": {},
      "source": [
        "## Accuracy"
      ]
    },
    {
      "cell_type": "code",
      "execution_count": 478,
      "metadata": {},
      "outputs": [
        {
          "data": {
            "text/plain": [
              "0.9"
            ]
          },
          "execution_count": 478,
          "metadata": {},
          "output_type": "execute_result"
        }
      ],
      "source": [
        "model.score(X_test_scaled_new,y_test)"
      ]
    },
    {
      "cell_type": "code",
      "execution_count": 479,
      "metadata": {},
      "outputs": [
        {
          "name": "stdout",
          "output_type": "stream",
          "text": [
            "Confusion Matrix:\n",
            " [[17  0]\n",
            " [ 2  1]]\n",
            "Accuracy: 0.9\n",
            "Precision: 1.0\n",
            "Recall: 0.3333333333333333\n",
            "F1 Score: 0.5\n"
          ]
        }
      ],
      "source": [
        "from sklearn.metrics import accuracy_score, precision_score, recall_score, f1_score, confusion_matrix\n",
        "\n",
        "print(\"Confusion Matrix:\\n\", confusion_matrix(y_test, y_pred))\n",
        "print(\"Accuracy:\", accuracy_score(y_test, y_pred))\n",
        "print(\"Precision:\", precision_score(y_test, y_pred))\n",
        "print(\"Recall:\", recall_score(y_test, y_pred))\n",
        "print(\"F1 Score:\", f1_score(y_test, y_pred))\n"
      ]
    },
    {
      "cell_type": "markdown",
      "metadata": {},
      "source": [
        "### saving the metrics"
      ]
    },
    {
      "cell_type": "code",
      "execution_count": 480,
      "metadata": {},
      "outputs": [],
      "source": [
        "Accuracy = accuracy_score(y_test, y_pred)\n",
        "Precision = precision_score(y_test, y_pred)\n",
        "Recall = recall_score(y_test, y_pred) \n",
        "F1_Score = f1_score(y_test, y_pred)\n",
        "\n",
        "# Create a DataFrame\n",
        "# metrics_df = pd.DataFrame({\n",
        "#     \"Metric\": [\"Accuracy\", \"Precision\", \"Recall\", \"F1_Score\"],\n",
        "#     \"Value\": [Accuracy, Precision, Recall, F1_Score]\n",
        "# })\n"
      ]
    },
    {
      "cell_type": "code",
      "execution_count": 481,
      "metadata": {},
      "outputs": [],
      "source": [
        "# Model Run Id\n",
        "model_type_abbr = \"lr\"\n",
        "project_name = \"attrition_prediction\"\n",
        "timestamp_str = datetime.now().strftime(\"%Y%m%d_%H%M%S\")\n",
        "model_run_id = f\"{model_type_abbr}_{project_name}_{timestamp_str}\"\n",
        "\n",
        "# Model Type\n",
        "model_type = \"logistic regression\"\n",
        "\n",
        "# model version \n",
        "version_file = \"3_6_am_workday_log_reg_metrics_data.csv\"\n",
        "if os.path.exists(version_file):\n",
        "    versions_df = pd.read_csv(version_file)\n",
        "    max_version = versions_df[versions_df[\"model_type\"] == model_type][\"model_version\"].max()\n",
        "    model_version = int(max_version) + 1\n",
        "else:\n",
        "    model_version = 1\n",
        "\n",
        "# training_timestamp\n",
        "training_timestamp = training_timestamp\n",
        "\n",
        "# dataset size\n",
        "dataset_size = X_test_scaled_new.shape[0]\n",
        "\n",
        "# feature count\n",
        "feature_count = X_test_scaled_new.shape[1] \n",
        "\n",
        "# ==== Create metrics DataFrame ====\n",
        "metrics_df = pd.DataFrame([{\n",
        "    \"model_run_id\": model_run_id,\n",
        "    \"model_type\": model_type,\n",
        "    \"model_version\": model_version,\n",
        "    \"training_timestamp\": training_timestamp,\n",
        "    \"dataset_size\": dataset_size,\n",
        "    \"feature_count\": feature_count,\n",
        "    \"classification_accuracy\": Accuracy,\n",
        "    \"Precision\": Precision,\n",
        "    \"Recall\": Recall,\n",
        "    \"F1_Score\": F1_Score\n",
        "}])\n",
        "\n",
        "\n"
      ]
    },
    {
      "cell_type": "code",
      "execution_count": 482,
      "metadata": {},
      "outputs": [],
      "source": [
        "# Directory & file path\n",
        "folder = \"3_6_am_workday_log_reg_metrics_data\"\n",
        "os.makedirs(folder, exist_ok=True)\n",
        "\n",
        "# Full path to the CSV file\n",
        "version_file = os.path.join(folder, \"3_6_am_workday_log_reg_metrics_data.csv\")\n",
        "\n",
        "# Append the full metrics row to the CSV log (create file if it doesn't exist)\n",
        "metrics_df.to_csv(\n",
        "    version_file,\n",
        "    mode='a',\n",
        "    header=not os.path.exists(version_file),\n",
        "    index=False\n",
        ")"
      ]
    },
    {
      "cell_type": "code",
      "execution_count": 483,
      "metadata": {},
      "outputs": [],
      "source": [
        "# # Create the folder if it doesn't exist\n",
        "# os.makedirs(\"3_6_am_workday_log_reg_metrics_data\", exist_ok=True)\n",
        "\n",
        "# # Save the Excel file inside the folder\n",
        "# metrics_df.to_csv(\"3_6_am_workday_log_reg_metrics_data/3_6_am_workday_log_reg_metrics_data.csv\", index=False)\n"
      ]
    },
    {
      "cell_type": "code",
      "execution_count": 484,
      "metadata": {},
      "outputs": [],
      "source": [
        "# spark_df = spark.createDataFrame(metrics_df)\n",
        "# spark_df.write.mode(\"overwrite\").saveAsTable(\"sd_bdc_demo.k_cluster_logistic_regression.3_6_am_workday_log_reg_metrics_data\")"
      ]
    },
    {
      "cell_type": "markdown",
      "metadata": {},
      "source": [
        "## Bias & Weights"
      ]
    },
    {
      "cell_type": "code",
      "execution_count": 485,
      "metadata": {},
      "outputs": [
        {
          "name": "stdout",
          "output_type": "stream",
          "text": [
            "[[ 1.78437022e-01 -5.02663291e-02 -5.02663291e-02 -5.02663291e-02\n",
            "   1.06206193e-01  5.77667502e-01 -2.81764872e-01  0.00000000e+00\n",
            "   2.24738346e+00 -3.16780821e-01 -2.90877297e-01  2.16504169e-04\n",
            "   3.28716300e-04 -1.29465455e-03  1.60854274e-01 -2.69956360e-01\n",
            "  -3.41710230e-03 -4.53338988e-03  2.02794951e-04  0.00000000e+00\n",
            "  -5.86854858e-03 -9.82823443e-04  5.27565467e-02  0.00000000e+00\n",
            "   1.72805894e-01  2.54890127e-01 -9.86674336e-02 -6.21984028e-02\n",
            "  -1.93207809e-02 -2.28699575e-03 -2.55638115e-02  0.00000000e+00\n",
            "  -1.50232526e-03 -1.14416209e-02  0.00000000e+00  3.25219295e-04\n",
            "   0.00000000e+00  3.24591532e-04  2.11237688e-04 -5.60320378e-02\n",
            "   0.00000000e+00 -2.14104351e-02 -1.14218726e-01 -9.19716521e-03\n",
            "  -1.76160208e-02 -1.13396431e-01  0.00000000e+00  0.00000000e+00\n",
            "  -2.98832908e-03 -5.37674225e-03  3.39767228e-04  2.40819568e-01\n",
            "  -4.24836530e-02 -1.14968181e-01  2.34470464e-01 -8.98658430e-03\n",
            "  -1.04964340e-01  0.00000000e+00 -2.46891926e-03 -3.54178673e-03\n",
            "  -9.00483466e-04  0.00000000e+00 -3.88549088e-02 -2.02562996e-02\n",
            "   3.89714842e-01 -4.41979580e-03 -2.03609607e-03 -1.37394109e-01\n",
            "   3.10224733e-01  0.00000000e+00  0.00000000e+00  0.00000000e+00\n",
            "  -2.12449605e-02  0.00000000e+00 -4.73086744e-02 -8.47411773e-02\n",
            "  -6.64909429e-02 -6.59595409e-03 -8.71048442e-03 -8.01680162e-03\n",
            "  -1.06279679e-01  1.55082130e-04  0.00000000e+00  0.00000000e+00\n",
            "   5.51687815e-04 -1.10104895e-02 -2.73678083e-03 -1.17713841e-01\n",
            "   2.02794951e-04 -6.23416863e-02 -1.34356638e-01  1.07457743e-01\n",
            "  -2.26815927e-01  2.82902506e-01  1.34298136e-01  1.55082130e-04\n",
            "  -1.65167041e-02  2.49853152e-01 -4.57104328e-01  1.32062839e-01\n",
            "   2.77159831e-01 -1.86900650e-01 -8.04622101e-02]]\n",
            "[-3.95061152]\n"
          ]
        }
      ],
      "source": [
        "print(model.coef_)       # β₁, β₂, ..., βn\n",
        "print(model.intercept_)  # β₀"
      ]
    },
    {
      "cell_type": "code",
      "execution_count": 486,
      "metadata": {},
      "outputs": [
        {
          "data": {
            "text/plain": [
              "103"
            ]
          },
          "execution_count": 486,
          "metadata": {},
          "output_type": "execute_result"
        }
      ],
      "source": [
        "len(model.coef_.ravel())"
      ]
    },
    {
      "cell_type": "code",
      "execution_count": 487,
      "metadata": {},
      "outputs": [
        {
          "data": {
            "text/plain": [
              "np.float64(2.2473834622100317)"
            ]
          },
          "execution_count": 487,
          "metadata": {},
          "output_type": "execute_result"
        }
      ],
      "source": [
        "max(model.coef_.ravel())"
      ]
    },
    {
      "cell_type": "code",
      "execution_count": 488,
      "metadata": {},
      "outputs": [
        {
          "name": "stdout",
          "output_type": "stream",
          "text": [
            "Employee_Annual_Salary          0.178437\n",
            "Monthly_Medical_contribution   -0.050266\n",
            "Monthly_Dental_Contribution    -0.050266\n",
            "Monthly_Vision_Contribution    -0.050266\n",
            "Bonus                           0.106206\n",
            "                                  ...   \n",
            "Department_Product             -0.457104\n",
            "Department_Sales                0.132063\n",
            "Gender_Female                   0.277160\n",
            "Gender_Male                    -0.186901\n",
            "Gender_Non-Binary              -0.080462\n",
            "Length: 103, dtype: float64\n"
          ]
        }
      ],
      "source": [
        "feature_weights = pd.Series(model.coef_[0], index=X_train_scaled_new.columns)\n",
        "print(feature_weights)\n"
      ]
    },
    {
      "cell_type": "markdown",
      "metadata": {},
      "source": [
        "### Saving All Feature & Weights"
      ]
    },
    {
      "cell_type": "code",
      "execution_count": 489,
      "metadata": {},
      "outputs": [
        {
          "name": "stdout",
          "output_type": "stream",
          "text": [
            "                          Feature    Weight\n",
            "0          Employee_Annual_Salary  0.178437\n",
            "1    Monthly_Medical_contribution -0.050266\n",
            "2     Monthly_Dental_Contribution -0.050266\n",
            "3     Monthly_Vision_Contribution -0.050266\n",
            "4                           Bonus  0.106206\n",
            "..                            ...       ...\n",
            "98             Department_Product -0.457104\n",
            "99               Department_Sales  0.132063\n",
            "100                 Gender_Female  0.277160\n",
            "101                   Gender_Male -0.186901\n",
            "102             Gender_Non-Binary -0.080462\n",
            "\n",
            "[103 rows x 2 columns]\n"
          ]
        }
      ],
      "source": [
        "weights_df = pd.DataFrame({\n",
        "    'Feature': X_train_scaled_new.columns,\n",
        "    'Weight': model.coef_[0] \n",
        "})\n",
        "\n",
        "print(weights_df)"
      ]
    },
    {
      "cell_type": "code",
      "execution_count": 490,
      "metadata": {},
      "outputs": [],
      "source": [
        "# Create the folder if it doesn't exist\n",
        "os.makedirs(\"3_1_am_workday_all_feature_vs_weights_data\", exist_ok=True)\n",
        "\n",
        "# Save the Excel file inside the folder\n",
        "weights_df.to_csv(\"3_1_am_workday_all_feature_vs_weights_data/3_1_am_workday_all_feature_vs_weights_data.csv\", index=False)"
      ]
    },
    {
      "cell_type": "code",
      "execution_count": 491,
      "metadata": {},
      "outputs": [],
      "source": [
        "# spark_df = spark.createDataFrame(weights_df)\n",
        "# spark_df.write.mode(\"overwrite\").saveAsTable(\"sd_bdc_demo.k_cluster_logistic_regression.3_1_am_workday_all_feature_vs_weights_data\")"
      ]
    },
    {
      "cell_type": "markdown",
      "metadata": {},
      "source": [
        "### Saving Current_Role & Weights"
      ]
    },
    {
      "cell_type": "code",
      "execution_count": 492,
      "metadata": {},
      "outputs": [],
      "source": [
        "# pyspark_df = spark.table(\"sd_bdc_demo.k_cluster_logistic_regression.3_1_am_workday_all_feature_vs_weights_data\")\n",
        "# pyspark_df.display()\n",
        "# all_feature_df = pyspark_df.toPandas()"
      ]
    },
    {
      "cell_type": "code",
      "execution_count": 493,
      "metadata": {},
      "outputs": [],
      "source": [
        "all_feature_df = pd.read_csv(\"3_1_am_workday_all_feature_vs_weights_data/3_1_am_workday_all_feature_vs_weights_data.csv\")"
      ]
    },
    {
      "cell_type": "code",
      "execution_count": 494,
      "metadata": {},
      "outputs": [
        {
          "name": "stdout",
          "output_type": "stream",
          "text": [
            "                        Feature    Weight\n",
            "0        Employee_Annual_Salary  0.178437\n",
            "1  Monthly_Medical_contribution -0.050266\n",
            "2   Monthly_Dental_Contribution -0.050266\n",
            "3   Monthly_Vision_Contribution -0.050266\n",
            "4                         Bonus  0.106206\n"
          ]
        }
      ],
      "source": [
        "print(all_feature_df.head())"
      ]
    },
    {
      "cell_type": "code",
      "execution_count": 495,
      "metadata": {},
      "outputs": [
        {
          "name": "stdout",
          "output_type": "stream",
          "text": [
            "                                   Feature    Weight\n",
            "11   Current_Role_Associate Data Scientist  0.000217\n",
            "12  Current_Role_Associate Product Manager  0.000329\n",
            "13           Current_Role_Business Analyst -0.001295\n",
            "14    Current_Role_Chief Operating Officer  0.160854\n",
            "15   Current_Role_Chief Technology Officer -0.269956\n",
            "..                                     ...       ...\n",
            "83             Current_Role_Technical Lead  0.000000\n",
            "84           Current_Role_Technical Writer  0.000552\n",
            "85                Current_Role_UX Designer -0.011010\n",
            "86              Current_Role_UX Researcher -0.002737\n",
            "87           Current_Role_VP of Technology -0.117714\n",
            "\n",
            "[77 rows x 2 columns]\n"
          ]
        }
      ],
      "source": [
        "all_feature_df_Current_Role = all_feature_df[all_feature_df['Feature'].str.startswith('Current_Role_')]\n",
        "print(all_feature_df_Current_Role)\n"
      ]
    },
    {
      "cell_type": "code",
      "execution_count": 496,
      "metadata": {},
      "outputs": [],
      "source": [
        "Current_Role_df = all_feature_df_Current_Role.copy()"
      ]
    },
    {
      "cell_type": "code",
      "execution_count": 497,
      "metadata": {},
      "outputs": [],
      "source": [
        "Current_Role_df['Feature'] = Current_Role_df['Feature'].str.removeprefix('Current_Role_')\n"
      ]
    },
    {
      "cell_type": "code",
      "execution_count": 498,
      "metadata": {},
      "outputs": [
        {
          "name": "stdout",
          "output_type": "stream",
          "text": [
            "                      Feature    Weight\n",
            "11   Associate Data Scientist  0.000217\n",
            "12  Associate Product Manager  0.000329\n",
            "13           Business Analyst -0.001295\n",
            "14    Chief Operating Officer  0.160854\n",
            "15   Chief Technology Officer -0.269956\n",
            "..                        ...       ...\n",
            "83             Technical Lead  0.000000\n",
            "84           Technical Writer  0.000552\n",
            "85                UX Designer -0.011010\n",
            "86              UX Researcher -0.002737\n",
            "87           VP of Technology -0.117714\n",
            "\n",
            "[77 rows x 2 columns]\n"
          ]
        }
      ],
      "source": [
        "print(Current_Role_df)"
      ]
    },
    {
      "cell_type": "code",
      "execution_count": 499,
      "metadata": {},
      "outputs": [],
      "source": [
        "# Create the folder if it doesn't exist\n",
        "os.makedirs(\"3_2_am_workday_current_role_vs_weights_data\", exist_ok=True)\n",
        "\n",
        "# Save the Excel file inside the folder\n",
        "Current_Role_df.to_csv(\"3_2_am_workday_current_role_vs_weights_data/3_2_am_workday_current_role_vs_weights_data.csv\", index=False)"
      ]
    },
    {
      "cell_type": "code",
      "execution_count": 500,
      "metadata": {},
      "outputs": [],
      "source": [
        "# spark_df = spark.createDataFrame(Current_Role_df)\n",
        "# spark_df.write.mode(\"overwrite\").saveAsTable(\"sd_bdc_demo.k_cluster_logistic_regression.3_2_am_workday_current_role_vs_weights_data\")"
      ]
    },
    {
      "cell_type": "markdown",
      "metadata": {},
      "source": [
        "### Saving Department & Weights"
      ]
    },
    {
      "cell_type": "code",
      "execution_count": 501,
      "metadata": {},
      "outputs": [
        {
          "name": "stdout",
          "output_type": "stream",
          "text": [
            "                        Feature    Weight\n",
            "88  Department_Customer Support  0.000203\n",
            "89      Department_Data Science -0.062342\n",
            "90            Department_Design -0.134357\n",
            "91       Department_Engineering  0.107458\n",
            "92         Department_Executive -0.226816\n",
            "93           Department_Finance  0.282903\n",
            "94   Department_Human Resources  0.134298\n",
            "95                Department_IT  0.000155\n",
            "96         Department_Marketing -0.016517\n",
            "97        Department_Operations  0.249853\n",
            "98           Department_Product -0.457104\n",
            "99             Department_Sales  0.132063\n"
          ]
        }
      ],
      "source": [
        "all_feature_df_Department = all_feature_df[all_feature_df['Feature'].str.startswith('Department_')]\n",
        "print(all_feature_df_Department)\n"
      ]
    },
    {
      "cell_type": "code",
      "execution_count": 502,
      "metadata": {},
      "outputs": [],
      "source": [
        "Department_df = all_feature_df_Department.copy()"
      ]
    },
    {
      "cell_type": "code",
      "execution_count": 503,
      "metadata": {},
      "outputs": [],
      "source": [
        "Department_df['Feature'] = Department_df['Feature'].str.removeprefix('Department_')"
      ]
    },
    {
      "cell_type": "code",
      "execution_count": 504,
      "metadata": {},
      "outputs": [],
      "source": [
        "# Create the folder if it doesn't exist\n",
        "os.makedirs(\"3_3_am_workday_department_vs_weights_data\", exist_ok=True)\n",
        "\n",
        "# Save the Excel file inside the folder\n",
        "Department_df.to_csv(\"3_3_am_workday_department_vs_weights_data/3_3_am_workday_department_vs_weights_data.csv\", index=False)"
      ]
    },
    {
      "cell_type": "code",
      "execution_count": 505,
      "metadata": {},
      "outputs": [],
      "source": [
        "# spark_df = spark.createDataFrame(Department_df)\n",
        "# spark_df.write.mode(\"overwrite\").saveAsTable(\"sd_bdc_demo.k_cluster_logistic_regression.3_3_am_workday_department_vs_weights_data\")"
      ]
    },
    {
      "cell_type": "markdown",
      "metadata": {},
      "source": [
        "### Saving Gender & Weights"
      ]
    },
    {
      "cell_type": "code",
      "execution_count": 506,
      "metadata": {},
      "outputs": [
        {
          "name": "stdout",
          "output_type": "stream",
          "text": [
            "               Feature    Weight\n",
            "100      Gender_Female  0.277160\n",
            "101        Gender_Male -0.186901\n",
            "102  Gender_Non-Binary -0.080462\n"
          ]
        }
      ],
      "source": [
        "all_feature_df_Gender = all_feature_df[all_feature_df['Feature'].str.startswith('Gender_')]\n",
        "print(all_feature_df_Gender)\n"
      ]
    },
    {
      "cell_type": "code",
      "execution_count": 507,
      "metadata": {},
      "outputs": [],
      "source": [
        "Gender_df = all_feature_df_Gender.copy()"
      ]
    },
    {
      "cell_type": "code",
      "execution_count": 508,
      "metadata": {},
      "outputs": [],
      "source": [
        "Gender_df['Feature'] = Gender_df['Feature'].str.removeprefix('Gender_')"
      ]
    },
    {
      "cell_type": "code",
      "execution_count": 509,
      "metadata": {},
      "outputs": [],
      "source": [
        "# Create the folder if it doesn't exist\n",
        "os.makedirs(\"3_4_am_workday_gender_vs_weights_data\", exist_ok=True)\n",
        "\n",
        "# Save the Excel file inside the folder\n",
        "Gender_df.to_csv(\"3_4_am_workday_gender_vs_weights_data/3_4_am_workday_gender_vs_weights_data.csv\", index=False)"
      ]
    },
    {
      "cell_type": "code",
      "execution_count": 510,
      "metadata": {},
      "outputs": [],
      "source": [
        "# spark_df = spark.createDataFrame(Gender_df)\n",
        "# spark_df.write.mode(\"overwrite\").saveAsTable(\"sd_bdc_demo.k_cluster_logistic_regression.3_4_am_workday_gender_vs_weights_data\")"
      ]
    }
  ],
  "metadata": {
    "colab": {
      "collapsed_sections": [],
      "name": "data_preprocessing_tools.ipynb",
      "provenance": [],
      "toc_visible": true
    },
    "kernelspec": {
      "display_name": ".venv",
      "language": "python",
      "name": "python3"
    },
    "language_info": {
      "codemirror_mode": {
        "name": "ipython",
        "version": 3
      },
      "file_extension": ".py",
      "mimetype": "text/x-python",
      "name": "python",
      "nbconvert_exporter": "python",
      "pygments_lexer": "ipython3",
      "version": "3.12.6"
    }
  },
  "nbformat": 4,
  "nbformat_minor": 0
}
