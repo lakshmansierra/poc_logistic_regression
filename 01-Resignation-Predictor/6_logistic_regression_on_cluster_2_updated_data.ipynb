{
  "cells": [
    {
      "cell_type": "markdown",
      "metadata": {
        "colab_type": "text",
        "id": "37puETfgRzzg"
      },
      "source": [
        "# Logistic Regression on cluster_2_updated_data\n"
      ]
    },
    {
      "cell_type": "markdown",
      "metadata": {
        "colab_type": "text",
        "id": "EoRP98MpR-qj"
      },
      "source": [
        "## Importing the libraries"
      ]
    },
    {
      "cell_type": "code",
      "execution_count": 82,
      "metadata": {
        "colab": {},
        "colab_type": "code",
        "id": "N-qiINBQSK2g"
      },
      "outputs": [],
      "source": [
        "import os\n",
        "import numpy as np\n",
        "import matplotlib.pyplot as plt\n",
        "import pandas as pd\n",
        "from datetime import datetime"
      ]
    },
    {
      "cell_type": "markdown",
      "metadata": {
        "colab_type": "text",
        "id": "RopL7tUZSQkT"
      },
      "source": [
        "## Importing the dataset"
      ]
    },
    {
      "cell_type": "code",
      "execution_count": 83,
      "metadata": {},
      "outputs": [],
      "source": [
        "# pyspark_df = spark.table(\"sd_bdc_demo.k_cluster_logistic_regression.2_6_am_workday_cluster_2_updated_data\")\n",
        "# pyspark_df.display()\n",
        "# df = pyspark_df.toPandas()"
      ]
    },
    {
      "cell_type": "code",
      "execution_count": 84,
      "metadata": {
        "colab": {},
        "colab_type": "code",
        "id": "WwEPNDWySTKm"
      },
      "outputs": [],
      "source": [
        "df = pd.read_csv(\"2_6_am_workday_cluster_2_updated_data/2_6_am_workday_cluster_2_updated_data.csv\")\n"
      ]
    },
    {
      "cell_type": "code",
      "execution_count": 85,
      "metadata": {},
      "outputs": [
        {
          "name": "stdout",
          "output_type": "stream",
          "text": [
            "<class 'pandas.core.frame.DataFrame'>\n"
          ]
        }
      ],
      "source": [
        "print(type(df))"
      ]
    },
    {
      "cell_type": "code",
      "execution_count": 86,
      "metadata": {},
      "outputs": [
        {
          "name": "stdout",
          "output_type": "stream",
          "text": [
            "Index(['Current_Role', 'Zip_Code', 'Employee_ID', 'Employee_Annual_Salary',\n",
            "       'Monthly_Medical_contribution', 'Monthly_Dental_Contribution',\n",
            "       'Monthly_Vision_Contribution', 'Bonus', 'Years_Of_Service',\n",
            "       'Department', 'Gender', 'Employee_HR_rate', 'Hours_per_week',\n",
            "       'Years_Since_Last_Promotion', 'age', 'left'],\n",
            "      dtype='object')\n"
          ]
        }
      ],
      "source": [
        "print(df.columns)"
      ]
    },
    {
      "cell_type": "code",
      "execution_count": 87,
      "metadata": {},
      "outputs": [
        {
          "name": "stdout",
          "output_type": "stream",
          "text": [
            "               Current_Role  Zip_Code  Employee_ID  Employee_Annual_Salary  \\\n",
            "0   Chief Operating Officer      2101           61                  300000   \n",
            "1  Chief Technology Officer     98102           62                  300000   \n",
            "2          VP of Technology     98109          156                  300000   \n",
            "\n",
            "   Monthly_Medical_contribution  Monthly_Dental_Contribution  \\\n",
            "0                           230                           55   \n",
            "1                           230                           55   \n",
            "2                           230                           55   \n",
            "\n",
            "   Monthly_Vision_Contribution  Bonus  Years_Of_Service Department  Gender  \\\n",
            "0                           27  90000              15.2  Executive  Female   \n",
            "1                           27  90000              14.7  Executive    Male   \n",
            "2                           27  90000              12.3  Executive  Female   \n",
            "\n",
            "   Employee_HR_rate  Hours_per_week  Years_Since_Last_Promotion  age  left  \n",
            "0                79              40                    5.796030   41     1  \n",
            "1                70              40                    4.517454   40     0  \n",
            "2                67              40                    3.972621   35     0  \n"
          ]
        }
      ],
      "source": [
        "print(df.head())"
      ]
    },
    {
      "cell_type": "code",
      "execution_count": 88,
      "metadata": {},
      "outputs": [
        {
          "name": "stdout",
          "output_type": "stream",
          "text": [
            "(3, 16)\n"
          ]
        }
      ],
      "source": [
        "print(df.shape)"
      ]
    },
    {
      "cell_type": "markdown",
      "metadata": {
        "colab_type": "text",
        "id": "CriG6VzVSjcK"
      },
      "source": [
        "## Encoding categorical data"
      ]
    },
    {
      "cell_type": "markdown",
      "metadata": {
        "colab_type": "text",
        "id": "AhSpdQWeSsFh"
      },
      "source": [
        "### Encoding the Independent Variable"
      ]
    },
    {
      "cell_type": "code",
      "execution_count": 89,
      "metadata": {},
      "outputs": [],
      "source": [
        "df_encoded = pd.get_dummies(df, columns=['Current_Role', 'Department', 'Gender'], drop_first=False).astype(int)\n"
      ]
    },
    {
      "cell_type": "code",
      "execution_count": 90,
      "metadata": {},
      "outputs": [
        {
          "name": "stdout",
          "output_type": "stream",
          "text": [
            "   Zip_Code  Employee_ID  Employee_Annual_Salary  \\\n",
            "0      2101           61                  300000   \n",
            "1     98102           62                  300000   \n",
            "2     98109          156                  300000   \n",
            "\n",
            "   Monthly_Medical_contribution  Monthly_Dental_Contribution  \\\n",
            "0                           230                           55   \n",
            "1                           230                           55   \n",
            "2                           230                           55   \n",
            "\n",
            "   Monthly_Vision_Contribution  Bonus  Years_Of_Service  Employee_HR_rate  \\\n",
            "0                           27  90000                15                79   \n",
            "1                           27  90000                14                70   \n",
            "2                           27  90000                12                67   \n",
            "\n",
            "   Hours_per_week  Years_Since_Last_Promotion  age  left  \\\n",
            "0              40                           5   41     1   \n",
            "1              40                           4   40     0   \n",
            "2              40                           3   35     0   \n",
            "\n",
            "   Current_Role_Chief Operating Officer  \\\n",
            "0                                     1   \n",
            "1                                     0   \n",
            "2                                     0   \n",
            "\n",
            "   Current_Role_Chief Technology Officer  Current_Role_VP of Technology  \\\n",
            "0                                      0                              0   \n",
            "1                                      1                              0   \n",
            "2                                      0                              1   \n",
            "\n",
            "   Department_Executive  Gender_Female  Gender_Male  \n",
            "0                     1              1            0  \n",
            "1                     1              0            1  \n",
            "2                     1              1            0  \n"
          ]
        }
      ],
      "source": [
        "print(df_encoded.head())"
      ]
    },
    {
      "cell_type": "code",
      "execution_count": 91,
      "metadata": {},
      "outputs": [
        {
          "name": "stdout",
          "output_type": "stream",
          "text": [
            "(3, 19)\n"
          ]
        }
      ],
      "source": [
        "print(df_encoded.shape)"
      ]
    },
    {
      "cell_type": "markdown",
      "metadata": {},
      "source": [
        "## Split two Data Frame for Independent Features & Dependent Columns"
      ]
    },
    {
      "cell_type": "code",
      "execution_count": 92,
      "metadata": {},
      "outputs": [],
      "source": [
        "df_independent = df_encoded.drop(columns=['left'])\n",
        "X = df_independent\n",
        "df_dependent = df_encoded[['left']]\n",
        "y = df_dependent"
      ]
    },
    {
      "cell_type": "code",
      "execution_count": 93,
      "metadata": {},
      "outputs": [
        {
          "name": "stdout",
          "output_type": "stream",
          "text": [
            "   Zip_Code  Employee_ID  Employee_Annual_Salary  \\\n",
            "0      2101           61                  300000   \n",
            "1     98102           62                  300000   \n",
            "2     98109          156                  300000   \n",
            "\n",
            "   Monthly_Medical_contribution  Monthly_Dental_Contribution  \\\n",
            "0                           230                           55   \n",
            "1                           230                           55   \n",
            "2                           230                           55   \n",
            "\n",
            "   Monthly_Vision_Contribution  Bonus  Years_Of_Service  Employee_HR_rate  \\\n",
            "0                           27  90000                15                79   \n",
            "1                           27  90000                14                70   \n",
            "2                           27  90000                12                67   \n",
            "\n",
            "   Hours_per_week  Years_Since_Last_Promotion  age  \\\n",
            "0              40                           5   41   \n",
            "1              40                           4   40   \n",
            "2              40                           3   35   \n",
            "\n",
            "   Current_Role_Chief Operating Officer  \\\n",
            "0                                     1   \n",
            "1                                     0   \n",
            "2                                     0   \n",
            "\n",
            "   Current_Role_Chief Technology Officer  Current_Role_VP of Technology  \\\n",
            "0                                      0                              0   \n",
            "1                                      1                              0   \n",
            "2                                      0                              1   \n",
            "\n",
            "   Department_Executive  Gender_Female  Gender_Male  \n",
            "0                     1              1            0  \n",
            "1                     1              0            1  \n",
            "2                     1              1            0  \n"
          ]
        }
      ],
      "source": [
        "print(df_independent.head())\n"
      ]
    },
    {
      "cell_type": "code",
      "execution_count": 94,
      "metadata": {},
      "outputs": [
        {
          "name": "stdout",
          "output_type": "stream",
          "text": [
            "(3, 18)\n"
          ]
        }
      ],
      "source": [
        "print(df_independent.shape)"
      ]
    },
    {
      "cell_type": "code",
      "execution_count": 95,
      "metadata": {},
      "outputs": [
        {
          "name": "stdout",
          "output_type": "stream",
          "text": [
            "   left\n",
            "0     1\n",
            "1     0\n",
            "2     0\n"
          ]
        }
      ],
      "source": [
        "print(df_dependent.head())"
      ]
    },
    {
      "cell_type": "code",
      "execution_count": 96,
      "metadata": {},
      "outputs": [
        {
          "name": "stdout",
          "output_type": "stream",
          "text": [
            "(3, 1)\n"
          ]
        }
      ],
      "source": [
        "print(df_dependent.shape)"
      ]
    },
    {
      "cell_type": "markdown",
      "metadata": {
        "colab_type": "text",
        "id": "qb_vcgm3qZKW"
      },
      "source": [
        "## Splitting the dataset into the Training set and Test set"
      ]
    },
    {
      "cell_type": "code",
      "execution_count": 97,
      "metadata": {},
      "outputs": [],
      "source": [
        "from sklearn.model_selection import train_test_split\n",
        "# X_train, X_test, y_train, y_test = train_test_split(X, y, test_size = 0.2, random_state = 1)"
      ]
    },
    {
      "cell_type": "code",
      "execution_count": 98,
      "metadata": {},
      "outputs": [
        {
          "name": "stdout",
          "output_type": "stream",
          "text": [
            "X_train:\n",
            "    Zip_Code  Employee_ID  Employee_Annual_Salary  \\\n",
            "0     98102           62                  300000   \n",
            "1      2101           61                  300000   \n",
            "\n",
            "   Monthly_Medical_contribution  Monthly_Dental_Contribution  \\\n",
            "0                           230                           55   \n",
            "1                           230                           55   \n",
            "\n",
            "   Monthly_Vision_Contribution  Bonus  Years_Of_Service  Employee_HR_rate  \\\n",
            "0                           27  90000                14                70   \n",
            "1                           27  90000                15                79   \n",
            "\n",
            "   Hours_per_week  Years_Since_Last_Promotion  age  \\\n",
            "0              40                           4   40   \n",
            "1              40                           5   41   \n",
            "\n",
            "   Current_Role_Chief Operating Officer  \\\n",
            "0                                     0   \n",
            "1                                     1   \n",
            "\n",
            "   Current_Role_Chief Technology Officer  Current_Role_VP of Technology  \\\n",
            "0                                      1                              0   \n",
            "1                                      0                              0   \n",
            "\n",
            "   Department_Executive  Gender_Female  Gender_Male  \n",
            "0                     1              0            1  \n",
            "1                     1              1            0  \n",
            "y_train:\n",
            "    left\n",
            "0     0\n",
            "1     1\n",
            "X_test:\n",
            "    Zip_Code  Employee_ID  Employee_Annual_Salary  \\\n",
            "0     98109          156                  300000   \n",
            "\n",
            "   Monthly_Medical_contribution  Monthly_Dental_Contribution  \\\n",
            "0                           230                           55   \n",
            "\n",
            "   Monthly_Vision_Contribution  Bonus  Years_Of_Service  Employee_HR_rate  \\\n",
            "0                           27  90000                12                67   \n",
            "\n",
            "   Hours_per_week  Years_Since_Last_Promotion  age  \\\n",
            "0              40                           3   35   \n",
            "\n",
            "   Current_Role_Chief Operating Officer  \\\n",
            "0                                     0   \n",
            "\n",
            "   Current_Role_Chief Technology Officer  Current_Role_VP of Technology  \\\n",
            "0                                      0                              1   \n",
            "\n",
            "   Department_Executive  Gender_Female  Gender_Male  \n",
            "0                     1              1            0  \n",
            "y_test:\n",
            "    left\n",
            "0     0\n"
          ]
        }
      ],
      "source": [
        "# Separate the two classes\n",
        "df_class_0 = df_encoded[df_encoded['left'] == 0]\n",
        "df_class_1 = df_encoded[df_encoded['left'] == 1]\n",
        "\n",
        "# Take 1 row from each class for training\n",
        "df_train = pd.concat([df_class_0.iloc[:1], df_class_1])\n",
        "df_test = df_encoded.drop(df_train.index)\n",
        "\n",
        "# Split into X and y\n",
        "X_train = df_train.drop(columns='left')\n",
        "y_train = df_train[['left']]\n",
        "\n",
        "X_test = df_test.drop(columns='left')\n",
        "y_test = df_test[['left']]\n",
        "\n",
        "# (Optional) Reset index for clean display\n",
        "X_train.reset_index(drop=True, inplace=True)\n",
        "y_train.reset_index(drop=True, inplace=True)\n",
        "X_test.reset_index(drop=True, inplace=True)\n",
        "y_test.reset_index(drop=True, inplace=True)\n",
        "\n",
        "# Check outputs\n",
        "print(\"X_train:\\n\", X_train)\n",
        "print(\"y_train:\\n\", y_train)\n",
        "print(\"X_test:\\n\", X_test)\n",
        "print(\"y_test:\\n\", y_test)"
      ]
    },
    {
      "cell_type": "code",
      "execution_count": 99,
      "metadata": {
        "colab": {
          "base_uri": "https://localhost:8080/",
          "height": 154
        },
        "colab_type": "code",
        "id": "GuwQhFdKrYTM",
        "outputId": "de1e527f-c229-4daf-e7c5-ea9d2485148d"
      },
      "outputs": [
        {
          "name": "stdout",
          "output_type": "stream",
          "text": [
            "   Zip_Code  Employee_ID  Employee_Annual_Salary  \\\n",
            "0     98102           62                  300000   \n",
            "1      2101           61                  300000   \n",
            "\n",
            "   Monthly_Medical_contribution  Monthly_Dental_Contribution  \\\n",
            "0                           230                           55   \n",
            "1                           230                           55   \n",
            "\n",
            "   Monthly_Vision_Contribution  Bonus  Years_Of_Service  Employee_HR_rate  \\\n",
            "0                           27  90000                14                70   \n",
            "1                           27  90000                15                79   \n",
            "\n",
            "   Hours_per_week  Years_Since_Last_Promotion  age  \\\n",
            "0              40                           4   40   \n",
            "1              40                           5   41   \n",
            "\n",
            "   Current_Role_Chief Operating Officer  \\\n",
            "0                                     0   \n",
            "1                                     1   \n",
            "\n",
            "   Current_Role_Chief Technology Officer  Current_Role_VP of Technology  \\\n",
            "0                                      1                              0   \n",
            "1                                      0                              0   \n",
            "\n",
            "   Department_Executive  Gender_Female  Gender_Male  \n",
            "0                     1              0            1  \n",
            "1                     1              1            0  \n"
          ]
        }
      ],
      "source": [
        "print(X_train.head())"
      ]
    },
    {
      "cell_type": "code",
      "execution_count": 100,
      "metadata": {},
      "outputs": [
        {
          "name": "stdout",
          "output_type": "stream",
          "text": [
            "(2, 18)\n"
          ]
        }
      ],
      "source": [
        "print(X_train.shape)"
      ]
    },
    {
      "cell_type": "code",
      "execution_count": 101,
      "metadata": {
        "colab": {
          "base_uri": "https://localhost:8080/",
          "height": 51
        },
        "colab_type": "code",
        "id": "TUrX_Tvcrbi4",
        "outputId": "9a041a9b-2642-4828-fa2f-a431d7d77631"
      },
      "outputs": [
        {
          "name": "stdout",
          "output_type": "stream",
          "text": [
            "   Zip_Code  Employee_ID  Employee_Annual_Salary  \\\n",
            "0     98109          156                  300000   \n",
            "\n",
            "   Monthly_Medical_contribution  Monthly_Dental_Contribution  \\\n",
            "0                           230                           55   \n",
            "\n",
            "   Monthly_Vision_Contribution  Bonus  Years_Of_Service  Employee_HR_rate  \\\n",
            "0                           27  90000                12                67   \n",
            "\n",
            "   Hours_per_week  Years_Since_Last_Promotion  age  \\\n",
            "0              40                           3   35   \n",
            "\n",
            "   Current_Role_Chief Operating Officer  \\\n",
            "0                                     0   \n",
            "\n",
            "   Current_Role_Chief Technology Officer  Current_Role_VP of Technology  \\\n",
            "0                                      0                              1   \n",
            "\n",
            "   Department_Executive  Gender_Female  Gender_Male  \n",
            "0                     1              1            0  \n"
          ]
        }
      ],
      "source": [
        "print(X_test.head())"
      ]
    },
    {
      "cell_type": "code",
      "execution_count": 102,
      "metadata": {},
      "outputs": [
        {
          "name": "stdout",
          "output_type": "stream",
          "text": [
            "(1, 18)\n"
          ]
        }
      ],
      "source": [
        "print(X_test.shape)"
      ]
    },
    {
      "cell_type": "code",
      "execution_count": 103,
      "metadata": {
        "colab": {
          "base_uri": "https://localhost:8080/",
          "height": 34
        },
        "colab_type": "code",
        "id": "pSMHiIsWreQY",
        "outputId": "5afe91e0-9244-4bf5-ec1b-e3e092b85c08"
      },
      "outputs": [
        {
          "name": "stdout",
          "output_type": "stream",
          "text": [
            "   left\n",
            "0     0\n",
            "1     1\n"
          ]
        }
      ],
      "source": [
        "print(y_train.head())"
      ]
    },
    {
      "cell_type": "code",
      "execution_count": 104,
      "metadata": {},
      "outputs": [
        {
          "name": "stdout",
          "output_type": "stream",
          "text": [
            "(2, 1)\n"
          ]
        }
      ],
      "source": [
        "print(y_train.shape)"
      ]
    },
    {
      "cell_type": "code",
      "execution_count": 105,
      "metadata": {
        "colab": {
          "base_uri": "https://localhost:8080/",
          "height": 34
        },
        "colab_type": "code",
        "id": "I_tW7H56rgtW",
        "outputId": "2a93f141-2a99-4a69-eec5-c82a3bb8d36b"
      },
      "outputs": [
        {
          "name": "stdout",
          "output_type": "stream",
          "text": [
            "   left\n",
            "0     0\n"
          ]
        }
      ],
      "source": [
        "print(y_test.head())"
      ]
    },
    {
      "cell_type": "code",
      "execution_count": 106,
      "metadata": {},
      "outputs": [
        {
          "name": "stdout",
          "output_type": "stream",
          "text": [
            "(1, 1)\n"
          ]
        }
      ],
      "source": [
        "print(y_test.shape)"
      ]
    },
    {
      "cell_type": "markdown",
      "metadata": {},
      "source": [
        "## Feature Scaling"
      ]
    },
    {
      "cell_type": "code",
      "execution_count": 107,
      "metadata": {},
      "outputs": [],
      "source": [
        "from sklearn.preprocessing import StandardScaler\n",
        "sc = StandardScaler()\n",
        "\n",
        "# List of columns to scale\n",
        "columns_to_scale = [\n",
        "    'Employee_Annual_Salary', 'Monthly_Medical_contribution',\n",
        "    'Monthly_Dental_Contribution', 'Monthly_Vision_Contribution', 'Bonus',\n",
        "    'Years_Of_Service', 'Employee_HR_rate', 'Hours_per_week',\n",
        "    'Years_Since_Last_Promotion', 'age'\n",
        "]\n",
        "\n",
        "# Fit sc on training data and transform both training and test sets\n",
        "X_train_scaled = X_train.copy()\n",
        "X_test_scaled = X_test.copy()\n",
        "\n",
        "X_train_scaled[columns_to_scale] = sc.fit_transform(X_train_scaled[columns_to_scale])\n",
        "X_test_scaled[columns_to_scale] = sc.transform(X_test_scaled[columns_to_scale])\n"
      ]
    },
    {
      "cell_type": "code",
      "execution_count": 108,
      "metadata": {
        "colab": {
          "base_uri": "https://localhost:8080/",
          "height": 154
        },
        "colab_type": "code",
        "id": "DWPET8ZdlMnu",
        "outputId": "dea86927-5124-4e2a-e974-2804df9a913c"
      },
      "outputs": [
        {
          "name": "stdout",
          "output_type": "stream",
          "text": [
            "   Zip_Code  Employee_ID  Employee_Annual_Salary  \\\n",
            "0     98102           62                     0.0   \n",
            "1      2101           61                     0.0   \n",
            "\n",
            "   Monthly_Medical_contribution  Monthly_Dental_Contribution  \\\n",
            "0                           0.0                          0.0   \n",
            "1                           0.0                          0.0   \n",
            "\n",
            "   Monthly_Vision_Contribution  Bonus  Years_Of_Service  Employee_HR_rate  \\\n",
            "0                          0.0    0.0              -1.0              -1.0   \n",
            "1                          0.0    0.0               1.0               1.0   \n",
            "\n",
            "   Hours_per_week  Years_Since_Last_Promotion  age  \\\n",
            "0             0.0                        -1.0 -1.0   \n",
            "1             0.0                         1.0  1.0   \n",
            "\n",
            "   Current_Role_Chief Operating Officer  \\\n",
            "0                                     0   \n",
            "1                                     1   \n",
            "\n",
            "   Current_Role_Chief Technology Officer  Current_Role_VP of Technology  \\\n",
            "0                                      1                              0   \n",
            "1                                      0                              0   \n",
            "\n",
            "   Department_Executive  Gender_Female  Gender_Male  \n",
            "0                     1              0            1  \n",
            "1                     1              1            0  \n"
          ]
        }
      ],
      "source": [
        "print(X_train_scaled)"
      ]
    },
    {
      "cell_type": "code",
      "execution_count": 109,
      "metadata": {
        "colab": {
          "base_uri": "https://localhost:8080/",
          "height": 51
        },
        "colab_type": "code",
        "id": "sTXykB_QlRjE",
        "outputId": "b68f0cfc-d07c-48cb-80d0-6800028c41f9"
      },
      "outputs": [
        {
          "name": "stdout",
          "output_type": "stream",
          "text": [
            "   Zip_Code  Employee_ID  Employee_Annual_Salary  \\\n",
            "0     98109          156                     0.0   \n",
            "\n",
            "   Monthly_Medical_contribution  Monthly_Dental_Contribution  \\\n",
            "0                           0.0                          0.0   \n",
            "\n",
            "   Monthly_Vision_Contribution  Bonus  Years_Of_Service  Employee_HR_rate  \\\n",
            "0                          0.0    0.0              -5.0         -1.666667   \n",
            "\n",
            "   Hours_per_week  Years_Since_Last_Promotion   age  \\\n",
            "0             0.0                        -3.0 -11.0   \n",
            "\n",
            "   Current_Role_Chief Operating Officer  \\\n",
            "0                                     0   \n",
            "\n",
            "   Current_Role_Chief Technology Officer  Current_Role_VP of Technology  \\\n",
            "0                                      0                              1   \n",
            "\n",
            "   Department_Executive  Gender_Female  Gender_Male  \n",
            "0                     1              1            0  \n"
          ]
        }
      ],
      "source": [
        "print(X_test_scaled)"
      ]
    },
    {
      "cell_type": "markdown",
      "metadata": {},
      "source": [
        "### Removing `Employee ID` & `Zip Code` in `X_train_scaled` & `X_test_scaled`"
      ]
    },
    {
      "cell_type": "code",
      "execution_count": 110,
      "metadata": {},
      "outputs": [
        {
          "name": "stdout",
          "output_type": "stream",
          "text": [
            "<class 'pandas.core.frame.DataFrame'>\n"
          ]
        }
      ],
      "source": [
        "print(type(X_train_scaled))"
      ]
    },
    {
      "cell_type": "code",
      "execution_count": 111,
      "metadata": {},
      "outputs": [
        {
          "name": "stdout",
          "output_type": "stream",
          "text": [
            "   Employee_Annual_Salary  Monthly_Medical_contribution  \\\n",
            "0                     0.0                           0.0   \n",
            "1                     0.0                           0.0   \n",
            "\n",
            "   Monthly_Dental_Contribution  Monthly_Vision_Contribution  Bonus  \\\n",
            "0                          0.0                          0.0    0.0   \n",
            "1                          0.0                          0.0    0.0   \n",
            "\n",
            "   Years_Of_Service  Employee_HR_rate  Hours_per_week  \\\n",
            "0              -1.0              -1.0             0.0   \n",
            "1               1.0               1.0             0.0   \n",
            "\n",
            "   Years_Since_Last_Promotion  age  Current_Role_Chief Operating Officer  \\\n",
            "0                        -1.0 -1.0                                     0   \n",
            "1                         1.0  1.0                                     1   \n",
            "\n",
            "   Current_Role_Chief Technology Officer  Current_Role_VP of Technology  \\\n",
            "0                                      1                              0   \n",
            "1                                      0                              0   \n",
            "\n",
            "   Department_Executive  Gender_Female  Gender_Male  \n",
            "0                     1              0            1  \n",
            "1                     1              1            0  \n"
          ]
        }
      ],
      "source": [
        "X_train_scaled_new = X_train_scaled.drop(columns=['Employee_ID', 'Zip_Code'])\n",
        "print(X_train_scaled_new)"
      ]
    },
    {
      "cell_type": "code",
      "execution_count": 112,
      "metadata": {},
      "outputs": [
        {
          "name": "stdout",
          "output_type": "stream",
          "text": [
            "<class 'pandas.core.frame.DataFrame'>\n"
          ]
        }
      ],
      "source": [
        "print(type(X_test_scaled))"
      ]
    },
    {
      "cell_type": "code",
      "execution_count": 113,
      "metadata": {},
      "outputs": [
        {
          "name": "stdout",
          "output_type": "stream",
          "text": [
            "   Employee_Annual_Salary  Monthly_Medical_contribution  \\\n",
            "0                     0.0                           0.0   \n",
            "\n",
            "   Monthly_Dental_Contribution  Monthly_Vision_Contribution  Bonus  \\\n",
            "0                          0.0                          0.0    0.0   \n",
            "\n",
            "   Years_Of_Service  Employee_HR_rate  Hours_per_week  \\\n",
            "0              -5.0         -1.666667             0.0   \n",
            "\n",
            "   Years_Since_Last_Promotion   age  Current_Role_Chief Operating Officer  \\\n",
            "0                        -3.0 -11.0                                     0   \n",
            "\n",
            "   Current_Role_Chief Technology Officer  Current_Role_VP of Technology  \\\n",
            "0                                      0                              1   \n",
            "\n",
            "   Department_Executive  Gender_Female  Gender_Male  \n",
            "0                     1              1            0  \n"
          ]
        }
      ],
      "source": [
        "X_test_scaled_new = X_test_scaled.drop(columns=['Employee_ID', 'Zip_Code'])\n",
        "print(X_test_scaled_new)"
      ]
    },
    {
      "cell_type": "markdown",
      "metadata": {},
      "source": [
        "## Training the Model"
      ]
    },
    {
      "cell_type": "code",
      "execution_count": 114,
      "metadata": {},
      "outputs": [],
      "source": [
        "from sklearn.linear_model import LogisticRegression\n",
        "model = LogisticRegression()"
      ]
    },
    {
      "cell_type": "code",
      "execution_count": 115,
      "metadata": {},
      "outputs": [
        {
          "name": "stdout",
          "output_type": "stream",
          "text": [
            "06/19/2025 19:37\n"
          ]
        },
        {
          "data": {
            "text/html": [
              "<style>#sk-container-id-2 {\n",
              "  /* Definition of color scheme common for light and dark mode */\n",
              "  --sklearn-color-text: #000;\n",
              "  --sklearn-color-text-muted: #666;\n",
              "  --sklearn-color-line: gray;\n",
              "  /* Definition of color scheme for unfitted estimators */\n",
              "  --sklearn-color-unfitted-level-0: #fff5e6;\n",
              "  --sklearn-color-unfitted-level-1: #f6e4d2;\n",
              "  --sklearn-color-unfitted-level-2: #ffe0b3;\n",
              "  --sklearn-color-unfitted-level-3: chocolate;\n",
              "  /* Definition of color scheme for fitted estimators */\n",
              "  --sklearn-color-fitted-level-0: #f0f8ff;\n",
              "  --sklearn-color-fitted-level-1: #d4ebff;\n",
              "  --sklearn-color-fitted-level-2: #b3dbfd;\n",
              "  --sklearn-color-fitted-level-3: cornflowerblue;\n",
              "\n",
              "  /* Specific color for light theme */\n",
              "  --sklearn-color-text-on-default-background: var(--sg-text-color, var(--theme-code-foreground, var(--jp-content-font-color1, black)));\n",
              "  --sklearn-color-background: var(--sg-background-color, var(--theme-background, var(--jp-layout-color0, white)));\n",
              "  --sklearn-color-border-box: var(--sg-text-color, var(--theme-code-foreground, var(--jp-content-font-color1, black)));\n",
              "  --sklearn-color-icon: #696969;\n",
              "\n",
              "  @media (prefers-color-scheme: dark) {\n",
              "    /* Redefinition of color scheme for dark theme */\n",
              "    --sklearn-color-text-on-default-background: var(--sg-text-color, var(--theme-code-foreground, var(--jp-content-font-color1, white)));\n",
              "    --sklearn-color-background: var(--sg-background-color, var(--theme-background, var(--jp-layout-color0, #111)));\n",
              "    --sklearn-color-border-box: var(--sg-text-color, var(--theme-code-foreground, var(--jp-content-font-color1, white)));\n",
              "    --sklearn-color-icon: #878787;\n",
              "  }\n",
              "}\n",
              "\n",
              "#sk-container-id-2 {\n",
              "  color: var(--sklearn-color-text);\n",
              "}\n",
              "\n",
              "#sk-container-id-2 pre {\n",
              "  padding: 0;\n",
              "}\n",
              "\n",
              "#sk-container-id-2 input.sk-hidden--visually {\n",
              "  border: 0;\n",
              "  clip: rect(1px 1px 1px 1px);\n",
              "  clip: rect(1px, 1px, 1px, 1px);\n",
              "  height: 1px;\n",
              "  margin: -1px;\n",
              "  overflow: hidden;\n",
              "  padding: 0;\n",
              "  position: absolute;\n",
              "  width: 1px;\n",
              "}\n",
              "\n",
              "#sk-container-id-2 div.sk-dashed-wrapped {\n",
              "  border: 1px dashed var(--sklearn-color-line);\n",
              "  margin: 0 0.4em 0.5em 0.4em;\n",
              "  box-sizing: border-box;\n",
              "  padding-bottom: 0.4em;\n",
              "  background-color: var(--sklearn-color-background);\n",
              "}\n",
              "\n",
              "#sk-container-id-2 div.sk-container {\n",
              "  /* jupyter's `normalize.less` sets `[hidden] { display: none; }`\n",
              "     but bootstrap.min.css set `[hidden] { display: none !important; }`\n",
              "     so we also need the `!important` here to be able to override the\n",
              "     default hidden behavior on the sphinx rendered scikit-learn.org.\n",
              "     See: https://github.com/scikit-learn/scikit-learn/issues/21755 */\n",
              "  display: inline-block !important;\n",
              "  position: relative;\n",
              "}\n",
              "\n",
              "#sk-container-id-2 div.sk-text-repr-fallback {\n",
              "  display: none;\n",
              "}\n",
              "\n",
              "div.sk-parallel-item,\n",
              "div.sk-serial,\n",
              "div.sk-item {\n",
              "  /* draw centered vertical line to link estimators */\n",
              "  background-image: linear-gradient(var(--sklearn-color-text-on-default-background), var(--sklearn-color-text-on-default-background));\n",
              "  background-size: 2px 100%;\n",
              "  background-repeat: no-repeat;\n",
              "  background-position: center center;\n",
              "}\n",
              "\n",
              "/* Parallel-specific style estimator block */\n",
              "\n",
              "#sk-container-id-2 div.sk-parallel-item::after {\n",
              "  content: \"\";\n",
              "  width: 100%;\n",
              "  border-bottom: 2px solid var(--sklearn-color-text-on-default-background);\n",
              "  flex-grow: 1;\n",
              "}\n",
              "\n",
              "#sk-container-id-2 div.sk-parallel {\n",
              "  display: flex;\n",
              "  align-items: stretch;\n",
              "  justify-content: center;\n",
              "  background-color: var(--sklearn-color-background);\n",
              "  position: relative;\n",
              "}\n",
              "\n",
              "#sk-container-id-2 div.sk-parallel-item {\n",
              "  display: flex;\n",
              "  flex-direction: column;\n",
              "}\n",
              "\n",
              "#sk-container-id-2 div.sk-parallel-item:first-child::after {\n",
              "  align-self: flex-end;\n",
              "  width: 50%;\n",
              "}\n",
              "\n",
              "#sk-container-id-2 div.sk-parallel-item:last-child::after {\n",
              "  align-self: flex-start;\n",
              "  width: 50%;\n",
              "}\n",
              "\n",
              "#sk-container-id-2 div.sk-parallel-item:only-child::after {\n",
              "  width: 0;\n",
              "}\n",
              "\n",
              "/* Serial-specific style estimator block */\n",
              "\n",
              "#sk-container-id-2 div.sk-serial {\n",
              "  display: flex;\n",
              "  flex-direction: column;\n",
              "  align-items: center;\n",
              "  background-color: var(--sklearn-color-background);\n",
              "  padding-right: 1em;\n",
              "  padding-left: 1em;\n",
              "}\n",
              "\n",
              "\n",
              "/* Toggleable style: style used for estimator/Pipeline/ColumnTransformer box that is\n",
              "clickable and can be expanded/collapsed.\n",
              "- Pipeline and ColumnTransformer use this feature and define the default style\n",
              "- Estimators will overwrite some part of the style using the `sk-estimator` class\n",
              "*/\n",
              "\n",
              "/* Pipeline and ColumnTransformer style (default) */\n",
              "\n",
              "#sk-container-id-2 div.sk-toggleable {\n",
              "  /* Default theme specific background. It is overwritten whether we have a\n",
              "  specific estimator or a Pipeline/ColumnTransformer */\n",
              "  background-color: var(--sklearn-color-background);\n",
              "}\n",
              "\n",
              "/* Toggleable label */\n",
              "#sk-container-id-2 label.sk-toggleable__label {\n",
              "  cursor: pointer;\n",
              "  display: flex;\n",
              "  width: 100%;\n",
              "  margin-bottom: 0;\n",
              "  padding: 0.5em;\n",
              "  box-sizing: border-box;\n",
              "  text-align: center;\n",
              "  align-items: start;\n",
              "  justify-content: space-between;\n",
              "  gap: 0.5em;\n",
              "}\n",
              "\n",
              "#sk-container-id-2 label.sk-toggleable__label .caption {\n",
              "  font-size: 0.6rem;\n",
              "  font-weight: lighter;\n",
              "  color: var(--sklearn-color-text-muted);\n",
              "}\n",
              "\n",
              "#sk-container-id-2 label.sk-toggleable__label-arrow:before {\n",
              "  /* Arrow on the left of the label */\n",
              "  content: \"▸\";\n",
              "  float: left;\n",
              "  margin-right: 0.25em;\n",
              "  color: var(--sklearn-color-icon);\n",
              "}\n",
              "\n",
              "#sk-container-id-2 label.sk-toggleable__label-arrow:hover:before {\n",
              "  color: var(--sklearn-color-text);\n",
              "}\n",
              "\n",
              "/* Toggleable content - dropdown */\n",
              "\n",
              "#sk-container-id-2 div.sk-toggleable__content {\n",
              "  max-height: 0;\n",
              "  max-width: 0;\n",
              "  overflow: hidden;\n",
              "  text-align: left;\n",
              "  /* unfitted */\n",
              "  background-color: var(--sklearn-color-unfitted-level-0);\n",
              "}\n",
              "\n",
              "#sk-container-id-2 div.sk-toggleable__content.fitted {\n",
              "  /* fitted */\n",
              "  background-color: var(--sklearn-color-fitted-level-0);\n",
              "}\n",
              "\n",
              "#sk-container-id-2 div.sk-toggleable__content pre {\n",
              "  margin: 0.2em;\n",
              "  border-radius: 0.25em;\n",
              "  color: var(--sklearn-color-text);\n",
              "  /* unfitted */\n",
              "  background-color: var(--sklearn-color-unfitted-level-0);\n",
              "}\n",
              "\n",
              "#sk-container-id-2 div.sk-toggleable__content.fitted pre {\n",
              "  /* unfitted */\n",
              "  background-color: var(--sklearn-color-fitted-level-0);\n",
              "}\n",
              "\n",
              "#sk-container-id-2 input.sk-toggleable__control:checked~div.sk-toggleable__content {\n",
              "  /* Expand drop-down */\n",
              "  max-height: 200px;\n",
              "  max-width: 100%;\n",
              "  overflow: auto;\n",
              "}\n",
              "\n",
              "#sk-container-id-2 input.sk-toggleable__control:checked~label.sk-toggleable__label-arrow:before {\n",
              "  content: \"▾\";\n",
              "}\n",
              "\n",
              "/* Pipeline/ColumnTransformer-specific style */\n",
              "\n",
              "#sk-container-id-2 div.sk-label input.sk-toggleable__control:checked~label.sk-toggleable__label {\n",
              "  color: var(--sklearn-color-text);\n",
              "  background-color: var(--sklearn-color-unfitted-level-2);\n",
              "}\n",
              "\n",
              "#sk-container-id-2 div.sk-label.fitted input.sk-toggleable__control:checked~label.sk-toggleable__label {\n",
              "  background-color: var(--sklearn-color-fitted-level-2);\n",
              "}\n",
              "\n",
              "/* Estimator-specific style */\n",
              "\n",
              "/* Colorize estimator box */\n",
              "#sk-container-id-2 div.sk-estimator input.sk-toggleable__control:checked~label.sk-toggleable__label {\n",
              "  /* unfitted */\n",
              "  background-color: var(--sklearn-color-unfitted-level-2);\n",
              "}\n",
              "\n",
              "#sk-container-id-2 div.sk-estimator.fitted input.sk-toggleable__control:checked~label.sk-toggleable__label {\n",
              "  /* fitted */\n",
              "  background-color: var(--sklearn-color-fitted-level-2);\n",
              "}\n",
              "\n",
              "#sk-container-id-2 div.sk-label label.sk-toggleable__label,\n",
              "#sk-container-id-2 div.sk-label label {\n",
              "  /* The background is the default theme color */\n",
              "  color: var(--sklearn-color-text-on-default-background);\n",
              "}\n",
              "\n",
              "/* On hover, darken the color of the background */\n",
              "#sk-container-id-2 div.sk-label:hover label.sk-toggleable__label {\n",
              "  color: var(--sklearn-color-text);\n",
              "  background-color: var(--sklearn-color-unfitted-level-2);\n",
              "}\n",
              "\n",
              "/* Label box, darken color on hover, fitted */\n",
              "#sk-container-id-2 div.sk-label.fitted:hover label.sk-toggleable__label.fitted {\n",
              "  color: var(--sklearn-color-text);\n",
              "  background-color: var(--sklearn-color-fitted-level-2);\n",
              "}\n",
              "\n",
              "/* Estimator label */\n",
              "\n",
              "#sk-container-id-2 div.sk-label label {\n",
              "  font-family: monospace;\n",
              "  font-weight: bold;\n",
              "  display: inline-block;\n",
              "  line-height: 1.2em;\n",
              "}\n",
              "\n",
              "#sk-container-id-2 div.sk-label-container {\n",
              "  text-align: center;\n",
              "}\n",
              "\n",
              "/* Estimator-specific */\n",
              "#sk-container-id-2 div.sk-estimator {\n",
              "  font-family: monospace;\n",
              "  border: 1px dotted var(--sklearn-color-border-box);\n",
              "  border-radius: 0.25em;\n",
              "  box-sizing: border-box;\n",
              "  margin-bottom: 0.5em;\n",
              "  /* unfitted */\n",
              "  background-color: var(--sklearn-color-unfitted-level-0);\n",
              "}\n",
              "\n",
              "#sk-container-id-2 div.sk-estimator.fitted {\n",
              "  /* fitted */\n",
              "  background-color: var(--sklearn-color-fitted-level-0);\n",
              "}\n",
              "\n",
              "/* on hover */\n",
              "#sk-container-id-2 div.sk-estimator:hover {\n",
              "  /* unfitted */\n",
              "  background-color: var(--sklearn-color-unfitted-level-2);\n",
              "}\n",
              "\n",
              "#sk-container-id-2 div.sk-estimator.fitted:hover {\n",
              "  /* fitted */\n",
              "  background-color: var(--sklearn-color-fitted-level-2);\n",
              "}\n",
              "\n",
              "/* Specification for estimator info (e.g. \"i\" and \"?\") */\n",
              "\n",
              "/* Common style for \"i\" and \"?\" */\n",
              "\n",
              ".sk-estimator-doc-link,\n",
              "a:link.sk-estimator-doc-link,\n",
              "a:visited.sk-estimator-doc-link {\n",
              "  float: right;\n",
              "  font-size: smaller;\n",
              "  line-height: 1em;\n",
              "  font-family: monospace;\n",
              "  background-color: var(--sklearn-color-background);\n",
              "  border-radius: 1em;\n",
              "  height: 1em;\n",
              "  width: 1em;\n",
              "  text-decoration: none !important;\n",
              "  margin-left: 0.5em;\n",
              "  text-align: center;\n",
              "  /* unfitted */\n",
              "  border: var(--sklearn-color-unfitted-level-1) 1pt solid;\n",
              "  color: var(--sklearn-color-unfitted-level-1);\n",
              "}\n",
              "\n",
              ".sk-estimator-doc-link.fitted,\n",
              "a:link.sk-estimator-doc-link.fitted,\n",
              "a:visited.sk-estimator-doc-link.fitted {\n",
              "  /* fitted */\n",
              "  border: var(--sklearn-color-fitted-level-1) 1pt solid;\n",
              "  color: var(--sklearn-color-fitted-level-1);\n",
              "}\n",
              "\n",
              "/* On hover */\n",
              "div.sk-estimator:hover .sk-estimator-doc-link:hover,\n",
              ".sk-estimator-doc-link:hover,\n",
              "div.sk-label-container:hover .sk-estimator-doc-link:hover,\n",
              ".sk-estimator-doc-link:hover {\n",
              "  /* unfitted */\n",
              "  background-color: var(--sklearn-color-unfitted-level-3);\n",
              "  color: var(--sklearn-color-background);\n",
              "  text-decoration: none;\n",
              "}\n",
              "\n",
              "div.sk-estimator.fitted:hover .sk-estimator-doc-link.fitted:hover,\n",
              ".sk-estimator-doc-link.fitted:hover,\n",
              "div.sk-label-container:hover .sk-estimator-doc-link.fitted:hover,\n",
              ".sk-estimator-doc-link.fitted:hover {\n",
              "  /* fitted */\n",
              "  background-color: var(--sklearn-color-fitted-level-3);\n",
              "  color: var(--sklearn-color-background);\n",
              "  text-decoration: none;\n",
              "}\n",
              "\n",
              "/* Span, style for the box shown on hovering the info icon */\n",
              ".sk-estimator-doc-link span {\n",
              "  display: none;\n",
              "  z-index: 9999;\n",
              "  position: relative;\n",
              "  font-weight: normal;\n",
              "  right: .2ex;\n",
              "  padding: .5ex;\n",
              "  margin: .5ex;\n",
              "  width: min-content;\n",
              "  min-width: 20ex;\n",
              "  max-width: 50ex;\n",
              "  color: var(--sklearn-color-text);\n",
              "  box-shadow: 2pt 2pt 4pt #999;\n",
              "  /* unfitted */\n",
              "  background: var(--sklearn-color-unfitted-level-0);\n",
              "  border: .5pt solid var(--sklearn-color-unfitted-level-3);\n",
              "}\n",
              "\n",
              ".sk-estimator-doc-link.fitted span {\n",
              "  /* fitted */\n",
              "  background: var(--sklearn-color-fitted-level-0);\n",
              "  border: var(--sklearn-color-fitted-level-3);\n",
              "}\n",
              "\n",
              ".sk-estimator-doc-link:hover span {\n",
              "  display: block;\n",
              "}\n",
              "\n",
              "/* \"?\"-specific style due to the `<a>` HTML tag */\n",
              "\n",
              "#sk-container-id-2 a.estimator_doc_link {\n",
              "  float: right;\n",
              "  font-size: 1rem;\n",
              "  line-height: 1em;\n",
              "  font-family: monospace;\n",
              "  background-color: var(--sklearn-color-background);\n",
              "  border-radius: 1rem;\n",
              "  height: 1rem;\n",
              "  width: 1rem;\n",
              "  text-decoration: none;\n",
              "  /* unfitted */\n",
              "  color: var(--sklearn-color-unfitted-level-1);\n",
              "  border: var(--sklearn-color-unfitted-level-1) 1pt solid;\n",
              "}\n",
              "\n",
              "#sk-container-id-2 a.estimator_doc_link.fitted {\n",
              "  /* fitted */\n",
              "  border: var(--sklearn-color-fitted-level-1) 1pt solid;\n",
              "  color: var(--sklearn-color-fitted-level-1);\n",
              "}\n",
              "\n",
              "/* On hover */\n",
              "#sk-container-id-2 a.estimator_doc_link:hover {\n",
              "  /* unfitted */\n",
              "  background-color: var(--sklearn-color-unfitted-level-3);\n",
              "  color: var(--sklearn-color-background);\n",
              "  text-decoration: none;\n",
              "}\n",
              "\n",
              "#sk-container-id-2 a.estimator_doc_link.fitted:hover {\n",
              "  /* fitted */\n",
              "  background-color: var(--sklearn-color-fitted-level-3);\n",
              "}\n",
              "</style><div id=\"sk-container-id-2\" class=\"sk-top-container\"><div class=\"sk-text-repr-fallback\"><pre>LogisticRegression()</pre><b>In a Jupyter environment, please rerun this cell to show the HTML representation or trust the notebook. <br />On GitHub, the HTML representation is unable to render, please try loading this page with nbviewer.org.</b></div><div class=\"sk-container\" hidden><div class=\"sk-item\"><div class=\"sk-estimator fitted sk-toggleable\"><input class=\"sk-toggleable__control sk-hidden--visually\" id=\"sk-estimator-id-2\" type=\"checkbox\" checked><label for=\"sk-estimator-id-2\" class=\"sk-toggleable__label fitted sk-toggleable__label-arrow\"><div><div>LogisticRegression</div></div><div><a class=\"sk-estimator-doc-link fitted\" rel=\"noreferrer\" target=\"_blank\" href=\"https://scikit-learn.org/1.6/modules/generated/sklearn.linear_model.LogisticRegression.html\">?<span>Documentation for LogisticRegression</span></a><span class=\"sk-estimator-doc-link fitted\">i<span>Fitted</span></span></div></label><div class=\"sk-toggleable__content fitted\"><pre>LogisticRegression()</pre></div> </div></div></div></div>"
            ],
            "text/plain": [
              "LogisticRegression()"
            ]
          },
          "execution_count": 115,
          "metadata": {},
          "output_type": "execute_result"
        }
      ],
      "source": [
        "training_timestamp = datetime.now().strftime(\"%m/%d/%Y %H:%M\")\n",
        "print(training_timestamp)\n",
        "model.fit(X_train_scaled_new, y_train.values.ravel())"
      ]
    },
    {
      "cell_type": "markdown",
      "metadata": {},
      "source": [
        "## Prediction"
      ]
    },
    {
      "cell_type": "code",
      "execution_count": 116,
      "metadata": {},
      "outputs": [],
      "source": [
        "y_pred = model.predict(X_test_scaled_new)"
      ]
    },
    {
      "cell_type": "code",
      "execution_count": 117,
      "metadata": {},
      "outputs": [
        {
          "name": "stdout",
          "output_type": "stream",
          "text": [
            "[0]\n"
          ]
        }
      ],
      "source": [
        "print(y_pred)"
      ]
    },
    {
      "cell_type": "markdown",
      "metadata": {},
      "source": [
        "### Saving the output as new table"
      ]
    },
    {
      "cell_type": "code",
      "execution_count": 118,
      "metadata": {},
      "outputs": [],
      "source": [
        "# Get Employee_IDs from X_test\n",
        "employee_ids = X_test_scaled['Employee_ID'].values"
      ]
    },
    {
      "cell_type": "code",
      "execution_count": 119,
      "metadata": {},
      "outputs": [
        {
          "name": "stdout",
          "output_type": "stream",
          "text": [
            "employee_ids shape: (1,)\n",
            "y_test shape: (1, 1)\n",
            "y_pred shape: (1,)\n"
          ]
        }
      ],
      "source": [
        "print(\"employee_ids shape:\", employee_ids.shape)\n",
        "print(\"y_test shape:\", y_test.shape)\n",
        "print(\"y_pred shape:\", y_pred.shape)\n"
      ]
    },
    {
      "cell_type": "code",
      "execution_count": 120,
      "metadata": {},
      "outputs": [
        {
          "name": "stdout",
          "output_type": "stream",
          "text": [
            "   left\n",
            "0     0\n"
          ]
        }
      ],
      "source": [
        "print(y_test)"
      ]
    },
    {
      "cell_type": "code",
      "execution_count": 121,
      "metadata": {},
      "outputs": [],
      "source": [
        "# Flatten y_test to 1D\n",
        "y_test = y_test.values.ravel()"
      ]
    },
    {
      "cell_type": "code",
      "execution_count": 122,
      "metadata": {},
      "outputs": [
        {
          "name": "stdout",
          "output_type": "stream",
          "text": [
            "employee_ids shape: (1,)\n",
            "y_test shape: (1,)\n",
            "y_pred shape: (1,)\n"
          ]
        }
      ],
      "source": [
        "print(\"employee_ids shape:\", employee_ids.shape)\n",
        "print(\"y_test shape:\", y_test.shape)\n",
        "print(\"y_pred shape:\", y_pred.shape)"
      ]
    },
    {
      "cell_type": "code",
      "execution_count": 123,
      "metadata": {},
      "outputs": [
        {
          "name": "stdout",
          "output_type": "stream",
          "text": [
            "[0]\n"
          ]
        }
      ],
      "source": [
        "print(y_test)"
      ]
    },
    {
      "cell_type": "markdown",
      "metadata": {},
      "source": [
        "### get top 3 features"
      ]
    },
    {
      "cell_type": "code",
      "execution_count": 124,
      "metadata": {},
      "outputs": [],
      "source": [
        "top_indices = np.argsort(model.coef_[0])[::-1][:3]\n"
      ]
    },
    {
      "cell_type": "code",
      "execution_count": 125,
      "metadata": {},
      "outputs": [
        {
          "name": "stdout",
          "output_type": "stream",
          "text": [
            "[9 8 5]\n"
          ]
        }
      ],
      "source": [
        "print(top_indices)"
      ]
    },
    {
      "cell_type": "code",
      "execution_count": 126,
      "metadata": {},
      "outputs": [],
      "source": [
        "top_features = X_train_scaled_new.columns[top_indices].tolist()"
      ]
    },
    {
      "cell_type": "code",
      "execution_count": 127,
      "metadata": {},
      "outputs": [],
      "source": [
        "results_df = pd.DataFrame({\n",
        "    'Employee_ID': employee_ids,\n",
        "    'Actual': y_test,\n",
        "    'Predicted': y_pred,\n",
        "    'Cluster_label': 2,\n",
        "    'primary_attrition_feature': top_features[0],\n",
        "    'secondary_attrition_feature': top_features[1],\n",
        "    'tertiary_attrition_feature': top_features[2]\n",
        "})\n",
        "\n",
        "\n"
      ]
    },
    {
      "cell_type": "code",
      "execution_count": 128,
      "metadata": {},
      "outputs": [],
      "source": [
        "# Create the folder if it doesn't exist\n",
        "os.makedirs(\"6_5_am_workday_log_reg_prediction_on_cluster_2_data\", exist_ok=True)\n",
        "\n",
        "# Save the Excel file inside the folder\n",
        "results_df.to_csv(\"6_5_am_workday_log_reg_prediction_on_cluster_2_data/6_5_am_workday_log_reg_prediction_on_cluster_2_data.csv\", index=False)\n"
      ]
    },
    {
      "cell_type": "code",
      "execution_count": 129,
      "metadata": {},
      "outputs": [],
      "source": [
        "# spark_df = spark.createDataFrame(results_df)\n",
        "# spark_df.write.mode(\"overwrite\").saveAsTable(\"sd_bdc_demo.k_cluster_logistic_regression.6_5_am_workday_log_reg_prediction_on_cluster_2_data\")"
      ]
    },
    {
      "cell_type": "markdown",
      "metadata": {},
      "source": [
        "## Accuracy"
      ]
    },
    {
      "cell_type": "code",
      "execution_count": 130,
      "metadata": {},
      "outputs": [
        {
          "data": {
            "text/plain": [
              "1.0"
            ]
          },
          "execution_count": 130,
          "metadata": {},
          "output_type": "execute_result"
        }
      ],
      "source": [
        "model.score(X_test_scaled_new,y_test)"
      ]
    },
    {
      "cell_type": "code",
      "execution_count": 131,
      "metadata": {},
      "outputs": [
        {
          "name": "stdout",
          "output_type": "stream",
          "text": [
            "Confusion Matrix:\n",
            " [[1]]\n",
            "Accuracy: 1.0\n",
            "Precision: 0.0\n",
            "Recall: 0.0\n",
            "F1 Score: 0.0\n"
          ]
        },
        {
          "name": "stderr",
          "output_type": "stream",
          "text": [
            "c:\\Users\\LakshmanNavaneethakr\\Downloads\\lakshmansierra-git\\poc_logistic_regression\\.venv\\Lib\\site-packages\\sklearn\\metrics\\_classification.py:407: UserWarning: A single label was found in 'y_true' and 'y_pred'. For the confusion matrix to have the correct shape, use the 'labels' parameter to pass all known labels.\n",
            "  warnings.warn(\n",
            "c:\\Users\\LakshmanNavaneethakr\\Downloads\\lakshmansierra-git\\poc_logistic_regression\\.venv\\Lib\\site-packages\\sklearn\\metrics\\_classification.py:1565: UndefinedMetricWarning: Precision is ill-defined and being set to 0.0 due to no predicted samples. Use `zero_division` parameter to control this behavior.\n",
            "  _warn_prf(average, modifier, f\"{metric.capitalize()} is\", len(result))\n",
            "c:\\Users\\LakshmanNavaneethakr\\Downloads\\lakshmansierra-git\\poc_logistic_regression\\.venv\\Lib\\site-packages\\sklearn\\metrics\\_classification.py:1565: UndefinedMetricWarning: Recall is ill-defined and being set to 0.0 due to no true samples. Use `zero_division` parameter to control this behavior.\n",
            "  _warn_prf(average, modifier, f\"{metric.capitalize()} is\", len(result))\n",
            "c:\\Users\\LakshmanNavaneethakr\\Downloads\\lakshmansierra-git\\poc_logistic_regression\\.venv\\Lib\\site-packages\\sklearn\\metrics\\_classification.py:1565: UndefinedMetricWarning: F-score is ill-defined and being set to 0.0 due to no true nor predicted samples. Use `zero_division` parameter to control this behavior.\n",
            "  _warn_prf(average, modifier, f\"{metric.capitalize()} is\", len(result))\n"
          ]
        }
      ],
      "source": [
        "from sklearn.metrics import accuracy_score, precision_score, recall_score, f1_score, confusion_matrix\n",
        "\n",
        "print(\"Confusion Matrix:\\n\", confusion_matrix(y_test, y_pred))\n",
        "print(\"Accuracy:\", accuracy_score(y_test, y_pred))\n",
        "print(\"Precision:\", precision_score(y_test, y_pred))\n",
        "print(\"Recall:\", recall_score(y_test, y_pred))\n",
        "print(\"F1 Score:\", f1_score(y_test, y_pred))\n"
      ]
    },
    {
      "cell_type": "markdown",
      "metadata": {},
      "source": [
        "### saving the metrics"
      ]
    },
    {
      "cell_type": "code",
      "execution_count": 132,
      "metadata": {},
      "outputs": [
        {
          "name": "stderr",
          "output_type": "stream",
          "text": [
            "c:\\Users\\LakshmanNavaneethakr\\Downloads\\lakshmansierra-git\\poc_logistic_regression\\.venv\\Lib\\site-packages\\sklearn\\metrics\\_classification.py:1565: UndefinedMetricWarning: Precision is ill-defined and being set to 0.0 due to no predicted samples. Use `zero_division` parameter to control this behavior.\n",
            "  _warn_prf(average, modifier, f\"{metric.capitalize()} is\", len(result))\n",
            "c:\\Users\\LakshmanNavaneethakr\\Downloads\\lakshmansierra-git\\poc_logistic_regression\\.venv\\Lib\\site-packages\\sklearn\\metrics\\_classification.py:1565: UndefinedMetricWarning: Recall is ill-defined and being set to 0.0 due to no true samples. Use `zero_division` parameter to control this behavior.\n",
            "  _warn_prf(average, modifier, f\"{metric.capitalize()} is\", len(result))\n",
            "c:\\Users\\LakshmanNavaneethakr\\Downloads\\lakshmansierra-git\\poc_logistic_regression\\.venv\\Lib\\site-packages\\sklearn\\metrics\\_classification.py:1565: UndefinedMetricWarning: F-score is ill-defined and being set to 0.0 due to no true nor predicted samples. Use `zero_division` parameter to control this behavior.\n",
            "  _warn_prf(average, modifier, f\"{metric.capitalize()} is\", len(result))\n"
          ]
        }
      ],
      "source": [
        "Accuracy = accuracy_score(y_test, y_pred)\n",
        "Precision = precision_score(y_test, y_pred)\n",
        "Recall = recall_score(y_test, y_pred) \n",
        "F1_Score = f1_score(y_test, y_pred)\n",
        "\n",
        "# Create a DataFrame\n",
        "# metrics_df = pd.DataFrame({\n",
        "#     \"Metric\": [\"Accuracy\", \"Precision\", \"Recall\", \"F1_Score\"],\n",
        "#     \"Value\": [Accuracy, Precision, Recall, F1_Score]\n",
        "# })\n"
      ]
    },
    {
      "cell_type": "code",
      "execution_count": 133,
      "metadata": {},
      "outputs": [],
      "source": [
        "# Model Run Id\n",
        "model_type_abbr = \"lr\"\n",
        "project_name = \"attrition_prediction\"\n",
        "timestamp_str = datetime.now().strftime(\"%Y%m%d_%H%M%S\")\n",
        "model_run_id = f\"{model_type_abbr}_{project_name}_{timestamp_str}\"\n",
        "\n",
        "# Model Type\n",
        "model_type = \"logistic regression\"\n",
        "\n",
        "# model version \n",
        "version_file = \"3_6_am_workday_log_reg_metrics_data.csv\"\n",
        "if os.path.exists(version_file):\n",
        "    versions_df = pd.read_csv(version_file)\n",
        "    max_version = versions_df[versions_df[\"model_type\"] == model_type][\"model_version\"].max()\n",
        "    model_version = int(max_version) + 1\n",
        "else:\n",
        "    model_version = 1\n",
        "\n",
        "# training_timestamp\n",
        "training_timestamp = training_timestamp\n",
        "\n",
        "# dataset size\n",
        "dataset_size = X_test_scaled_new.shape[0]\n",
        "\n",
        "# feature count\n",
        "feature_count = X_test_scaled_new.shape[1] \n",
        "\n",
        "# ==== Create metrics DataFrame ====\n",
        "metrics_df = pd.DataFrame([{\n",
        "    \"model_run_id\": model_run_id,\n",
        "    \"model_type\": model_type,\n",
        "    \"model_version\": model_version,\n",
        "    \"training_timestamp\": training_timestamp,\n",
        "    \"dataset_size\": dataset_size,\n",
        "    \"feature_count\": feature_count,\n",
        "    \"classification_accuracy\": Accuracy,\n",
        "    \"Precision\": Precision,\n",
        "    \"Recall\": Recall,\n",
        "    \"F1_Score\": F1_Score\n",
        "}])\n",
        "\n",
        "\n"
      ]
    },
    {
      "cell_type": "code",
      "execution_count": 134,
      "metadata": {},
      "outputs": [],
      "source": [
        "# Directory & file path\n",
        "folder = \"6_6_am_workday_log_reg_metrics_data\"\n",
        "os.makedirs(folder, exist_ok=True)\n",
        "\n",
        "# Full path to the CSV file\n",
        "version_file = os.path.join(folder, \"6_6_am_workday_log_reg_metrics_data.csv\")\n",
        "\n",
        "# Append the full metrics row to the CSV log (create file if it doesn't exist)\n",
        "metrics_df.to_csv(\n",
        "    version_file,\n",
        "    mode='a',\n",
        "    header=not os.path.exists(version_file),\n",
        "    index=False\n",
        ")"
      ]
    },
    {
      "cell_type": "code",
      "execution_count": 135,
      "metadata": {},
      "outputs": [],
      "source": [
        "# # Create the folder if it doesn't exist\n",
        "# os.makedirs(\"6_6_am_workday_log_reg_metrics_data\", exist_ok=True)\n",
        "\n",
        "# # Save the Excel file inside the folder\n",
        "# metrics_df.to_csv(\"6_6_am_workday_log_reg_metrics_data/6_6_am_workday_log_reg_metrics_data.csv\", index=False)\n"
      ]
    },
    {
      "cell_type": "code",
      "execution_count": 136,
      "metadata": {},
      "outputs": [],
      "source": [
        "# spark_df = spark.createDataFrame(metrics_df)\n",
        "# spark_df.write.mode(\"overwrite\").saveAsTable(\"sd_bdc_demo.k_cluster_logistic_regression.6_6_am_workday_log_reg_metrics_data\")"
      ]
    },
    {
      "cell_type": "markdown",
      "metadata": {},
      "source": [
        "## Bias & Weights"
      ]
    },
    {
      "cell_type": "code",
      "execution_count": 137,
      "metadata": {},
      "outputs": [
        {
          "name": "stdout",
          "output_type": "stream",
          "text": [
            "[[ 0.00000000e+00  0.00000000e+00  0.00000000e+00  0.00000000e+00\n",
            "   0.00000000e+00  3.26701625e-01  3.26701625e-01  0.00000000e+00\n",
            "   3.26701625e-01  3.26701625e-01  1.63350813e-01 -1.63350813e-01\n",
            "   0.00000000e+00 -5.02219350e-18  1.63350813e-01 -1.63350813e-01]]\n",
            "[-6.59343577e-19]\n"
          ]
        }
      ],
      "source": [
        "print(model.coef_)       # β₁, β₂, ..., βn\n",
        "print(model.intercept_)  # β₀"
      ]
    },
    {
      "cell_type": "code",
      "execution_count": 138,
      "metadata": {},
      "outputs": [
        {
          "data": {
            "text/plain": [
              "16"
            ]
          },
          "execution_count": 138,
          "metadata": {},
          "output_type": "execute_result"
        }
      ],
      "source": [
        "len(model.coef_.ravel())"
      ]
    },
    {
      "cell_type": "code",
      "execution_count": 139,
      "metadata": {},
      "outputs": [
        {
          "data": {
            "text/plain": [
              "np.float64(0.32670162526907587)"
            ]
          },
          "execution_count": 139,
          "metadata": {},
          "output_type": "execute_result"
        }
      ],
      "source": [
        "max(model.coef_.ravel())"
      ]
    },
    {
      "cell_type": "code",
      "execution_count": 140,
      "metadata": {},
      "outputs": [
        {
          "name": "stdout",
          "output_type": "stream",
          "text": [
            "Employee_Annual_Salary                   0.000000e+00\n",
            "Monthly_Medical_contribution             0.000000e+00\n",
            "Monthly_Dental_Contribution              0.000000e+00\n",
            "Monthly_Vision_Contribution              0.000000e+00\n",
            "Bonus                                    0.000000e+00\n",
            "Years_Of_Service                         3.267016e-01\n",
            "Employee_HR_rate                         3.267016e-01\n",
            "Hours_per_week                           0.000000e+00\n",
            "Years_Since_Last_Promotion               3.267016e-01\n",
            "age                                      3.267016e-01\n",
            "Current_Role_Chief Operating Officer     1.633508e-01\n",
            "Current_Role_Chief Technology Officer   -1.633508e-01\n",
            "Current_Role_VP of Technology            0.000000e+00\n",
            "Department_Executive                    -5.022194e-18\n",
            "Gender_Female                            1.633508e-01\n",
            "Gender_Male                             -1.633508e-01\n",
            "dtype: float64\n"
          ]
        }
      ],
      "source": [
        "feature_weights = pd.Series(model.coef_[0], index=X_train_scaled_new.columns)\n",
        "print(feature_weights)\n"
      ]
    },
    {
      "cell_type": "markdown",
      "metadata": {},
      "source": [
        "### Saving All Feature & Weights"
      ]
    },
    {
      "cell_type": "code",
      "execution_count": 141,
      "metadata": {},
      "outputs": [
        {
          "name": "stdout",
          "output_type": "stream",
          "text": [
            "                                  Feature        Weight\n",
            "0                  Employee_Annual_Salary  0.000000e+00\n",
            "1            Monthly_Medical_contribution  0.000000e+00\n",
            "2             Monthly_Dental_Contribution  0.000000e+00\n",
            "3             Monthly_Vision_Contribution  0.000000e+00\n",
            "4                                   Bonus  0.000000e+00\n",
            "5                        Years_Of_Service  3.267016e-01\n",
            "6                        Employee_HR_rate  3.267016e-01\n",
            "7                          Hours_per_week  0.000000e+00\n",
            "8              Years_Since_Last_Promotion  3.267016e-01\n",
            "9                                     age  3.267016e-01\n",
            "10   Current_Role_Chief Operating Officer  1.633508e-01\n",
            "11  Current_Role_Chief Technology Officer -1.633508e-01\n",
            "12          Current_Role_VP of Technology  0.000000e+00\n",
            "13                   Department_Executive -5.022194e-18\n",
            "14                          Gender_Female  1.633508e-01\n",
            "15                            Gender_Male -1.633508e-01\n"
          ]
        }
      ],
      "source": [
        "weights_df = pd.DataFrame({\n",
        "    'Feature': X_train_scaled_new.columns,\n",
        "    'Weight': model.coef_[0] \n",
        "})\n",
        "\n",
        "print(weights_df)"
      ]
    },
    {
      "cell_type": "code",
      "execution_count": 142,
      "metadata": {},
      "outputs": [],
      "source": [
        "# Create the folder if it doesn't exist\n",
        "os.makedirs(\"6_1_am_workday_all_feature_vs_weights_on_cluster_2_data\", exist_ok=True)\n",
        "\n",
        "# Save the Excel file inside the folder\n",
        "weights_df.to_csv(\"6_1_am_workday_all_feature_vs_weights_on_cluster_2_data/6_1_am_workday_all_feature_vs_weights_on_cluster_2_data.csv\", index=False)"
      ]
    },
    {
      "cell_type": "code",
      "execution_count": 143,
      "metadata": {},
      "outputs": [],
      "source": [
        "# spark_df = spark.createDataFrame(weights_df)\n",
        "# spark_df.write.mode(\"overwrite\").saveAsTable(\"sd_bdc_demo.k_cluster_logistic_regression.6_1_am_workday_all_feature_vs_weights_on_cluster_2_data\")"
      ]
    },
    {
      "cell_type": "markdown",
      "metadata": {},
      "source": [
        "### Saving Current_Role & Weights"
      ]
    },
    {
      "cell_type": "code",
      "execution_count": 144,
      "metadata": {},
      "outputs": [],
      "source": [
        "# pyspark_df = spark.table(\"sd_bdc_demo.k_cluster_logistic_regression.6_1_am_workday_all_feature_vs_weights_on_cluster_2_data\")\n",
        "# pyspark_df.display()\n",
        "# all_feature_df = pyspark_df.toPandas()"
      ]
    },
    {
      "cell_type": "code",
      "execution_count": 145,
      "metadata": {},
      "outputs": [],
      "source": [
        "all_feature_df = pd.read_csv(\"6_1_am_workday_all_feature_vs_weights_on_cluster_2_data/6_1_am_workday_all_feature_vs_weights_on_cluster_2_data.csv\")"
      ]
    },
    {
      "cell_type": "code",
      "execution_count": 146,
      "metadata": {},
      "outputs": [
        {
          "name": "stdout",
          "output_type": "stream",
          "text": [
            "                        Feature  Weight\n",
            "0        Employee_Annual_Salary     0.0\n",
            "1  Monthly_Medical_contribution     0.0\n",
            "2   Monthly_Dental_Contribution     0.0\n",
            "3   Monthly_Vision_Contribution     0.0\n",
            "4                         Bonus     0.0\n"
          ]
        }
      ],
      "source": [
        "print(all_feature_df.head())"
      ]
    },
    {
      "cell_type": "code",
      "execution_count": 147,
      "metadata": {},
      "outputs": [
        {
          "name": "stdout",
          "output_type": "stream",
          "text": [
            "                                  Feature    Weight\n",
            "10   Current_Role_Chief Operating Officer  0.163351\n",
            "11  Current_Role_Chief Technology Officer -0.163351\n",
            "12          Current_Role_VP of Technology  0.000000\n"
          ]
        }
      ],
      "source": [
        "all_feature_df_Current_Role = all_feature_df[all_feature_df['Feature'].str.startswith('Current_Role_')]\n",
        "print(all_feature_df_Current_Role)\n"
      ]
    },
    {
      "cell_type": "code",
      "execution_count": 148,
      "metadata": {},
      "outputs": [],
      "source": [
        "Current_Role_df = all_feature_df_Current_Role.copy()"
      ]
    },
    {
      "cell_type": "code",
      "execution_count": 149,
      "metadata": {},
      "outputs": [],
      "source": [
        "Current_Role_df['Feature'] = Current_Role_df['Feature'].str.removeprefix('Current_Role_')\n"
      ]
    },
    {
      "cell_type": "code",
      "execution_count": 150,
      "metadata": {},
      "outputs": [
        {
          "name": "stdout",
          "output_type": "stream",
          "text": [
            "                     Feature    Weight\n",
            "10   Chief Operating Officer  0.163351\n",
            "11  Chief Technology Officer -0.163351\n",
            "12          VP of Technology  0.000000\n"
          ]
        }
      ],
      "source": [
        "print(Current_Role_df)"
      ]
    },
    {
      "cell_type": "code",
      "execution_count": 151,
      "metadata": {},
      "outputs": [],
      "source": [
        "# Create the folder if it doesn't exist\n",
        "os.makedirs(\"6_2_am_workday_current_role_vs_weights_on_cluster_2_data\", exist_ok=True)\n",
        "\n",
        "# Save the Excel file inside the folder\n",
        "Current_Role_df.to_csv(\"6_2_am_workday_current_role_vs_weights_on_cluster_2_data/6_2_am_workday_current_role_vs_weights_on_cluster_2_data.csv\", index=False)"
      ]
    },
    {
      "cell_type": "code",
      "execution_count": 152,
      "metadata": {},
      "outputs": [],
      "source": [
        "# spark_df = spark.createDataFrame(Current_Role_df)\n",
        "# spark_df.write.mode(\"overwrite\").saveAsTable(\"sd_bdc_demo.k_cluster_logistic_regression.6_2_am_workday_current_role_vs_weights_on_cluster_2_data\")"
      ]
    },
    {
      "cell_type": "markdown",
      "metadata": {},
      "source": [
        "### Saving Department & Weights"
      ]
    },
    {
      "cell_type": "code",
      "execution_count": 153,
      "metadata": {},
      "outputs": [
        {
          "name": "stdout",
          "output_type": "stream",
          "text": [
            "                 Feature        Weight\n",
            "13  Department_Executive -5.022194e-18\n"
          ]
        }
      ],
      "source": [
        "all_feature_df_Department = all_feature_df[all_feature_df['Feature'].str.startswith('Department_')]\n",
        "print(all_feature_df_Department)\n"
      ]
    },
    {
      "cell_type": "code",
      "execution_count": 154,
      "metadata": {},
      "outputs": [],
      "source": [
        "Department_df = all_feature_df_Department.copy()"
      ]
    },
    {
      "cell_type": "code",
      "execution_count": 155,
      "metadata": {},
      "outputs": [],
      "source": [
        "Department_df['Feature'] = Department_df['Feature'].str.removeprefix('Department_')"
      ]
    },
    {
      "cell_type": "code",
      "execution_count": 156,
      "metadata": {},
      "outputs": [],
      "source": [
        "# Create the folder if it doesn't exist\n",
        "os.makedirs(\"6_3_am_workday_department_vs_weights_on_cluster_2_data\", exist_ok=True)\n",
        "\n",
        "# Save the Excel file inside the folder\n",
        "Department_df.to_csv(\"6_3_am_workday_department_vs_weights_on_cluster_2_data/6_3_am_workday_department_vs_weights_on_cluster_2_data.csv\", index=False)"
      ]
    },
    {
      "cell_type": "code",
      "execution_count": 157,
      "metadata": {},
      "outputs": [],
      "source": [
        "# spark_df = spark.createDataFrame(Department_df)\n",
        "# spark_df.write.mode(\"overwrite\").saveAsTable(\"sd_bdc_demo.k_cluster_logistic_regression.6_3_am_workday_department_vs_weights_on_cluster_2_data\")"
      ]
    },
    {
      "cell_type": "markdown",
      "metadata": {},
      "source": [
        "### Saving Gender & Weights"
      ]
    },
    {
      "cell_type": "code",
      "execution_count": 158,
      "metadata": {},
      "outputs": [
        {
          "name": "stdout",
          "output_type": "stream",
          "text": [
            "          Feature    Weight\n",
            "14  Gender_Female  0.163351\n",
            "15    Gender_Male -0.163351\n"
          ]
        }
      ],
      "source": [
        "all_feature_df_Gender = all_feature_df[all_feature_df['Feature'].str.startswith('Gender_')]\n",
        "print(all_feature_df_Gender)\n"
      ]
    },
    {
      "cell_type": "code",
      "execution_count": 159,
      "metadata": {},
      "outputs": [],
      "source": [
        "Gender_df = all_feature_df_Gender.copy()"
      ]
    },
    {
      "cell_type": "code",
      "execution_count": 160,
      "metadata": {},
      "outputs": [],
      "source": [
        "Gender_df['Feature'] = Gender_df['Feature'].str.removeprefix('Gender_')"
      ]
    },
    {
      "cell_type": "code",
      "execution_count": 161,
      "metadata": {},
      "outputs": [],
      "source": [
        "# Create the folder if it doesn't exist\n",
        "os.makedirs(\"6_4_am_workday_gender_vs_weights_on_cluster_2_data\", exist_ok=True)\n",
        "\n",
        "# Save the Excel file inside the folder\n",
        "Gender_df.to_csv(\"6_4_am_workday_gender_vs_weights_on_cluster_2_data/6_4_am_workday_gender_vs_weights_on_cluster_2_data.csv\", index=False)"
      ]
    },
    {
      "cell_type": "code",
      "execution_count": 162,
      "metadata": {},
      "outputs": [],
      "source": [
        "# spark_df = spark.createDataFrame(Gender_df)\n",
        "# spark_df.write.mode(\"overwrite\").saveAsTable(\"sd_bdc_demo.k_cluster_logistic_regression.6_4_am_workday_gender_vs_weights_on_cluster_2_data\")"
      ]
    }
  ],
  "metadata": {
    "colab": {
      "collapsed_sections": [],
      "name": "data_preprocessing_tools.ipynb",
      "provenance": [],
      "toc_visible": true
    },
    "kernelspec": {
      "display_name": ".venv",
      "language": "python",
      "name": "python3"
    },
    "language_info": {
      "codemirror_mode": {
        "name": "ipython",
        "version": 3
      },
      "file_extension": ".py",
      "mimetype": "text/x-python",
      "name": "python",
      "nbconvert_exporter": "python",
      "pygments_lexer": "ipython3",
      "version": "3.13.3"
    }
  },
  "nbformat": 4,
  "nbformat_minor": 0
}
