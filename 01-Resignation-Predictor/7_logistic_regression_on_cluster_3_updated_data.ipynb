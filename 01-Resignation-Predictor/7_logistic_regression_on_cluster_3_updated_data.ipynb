{
  "cells": [
    {
      "cell_type": "markdown",
      "metadata": {
        "colab_type": "text",
        "id": "37puETfgRzzg"
      },
      "source": [
        "# Logistic Regression on cluster_3_updated_data\n"
      ]
    },
    {
      "cell_type": "markdown",
      "metadata": {
        "colab_type": "text",
        "id": "EoRP98MpR-qj"
      },
      "source": [
        "## Importing the libraries"
      ]
    },
    {
      "cell_type": "code",
      "execution_count": 167,
      "metadata": {
        "colab": {},
        "colab_type": "code",
        "id": "N-qiINBQSK2g"
      },
      "outputs": [],
      "source": [
        "import os\n",
        "import numpy as np\n",
        "import matplotlib.pyplot as plt\n",
        "import pandas as pd"
      ]
    },
    {
      "cell_type": "markdown",
      "metadata": {
        "colab_type": "text",
        "id": "RopL7tUZSQkT"
      },
      "source": [
        "## Importing the dataset"
      ]
    },
    {
      "cell_type": "code",
      "execution_count": 168,
      "metadata": {},
      "outputs": [],
      "source": [
        "# pyspark_df = spark.table(\"sd_bdc_demo.k_cluster_logistic_regression.2_7_am_workday_cluster_3_updated_data\")\n",
        "# pyspark_df.display()\n",
        "# df = pyspark_df.toPandas()"
      ]
    },
    {
      "cell_type": "code",
      "execution_count": 169,
      "metadata": {
        "colab": {},
        "colab_type": "code",
        "id": "WwEPNDWySTKm"
      },
      "outputs": [],
      "source": [
        "df = pd.read_csv(\"2_7_am_workday_cluster_3_updated_data/2_7_am_workday_cluster_3_updated_data.csv\")\n"
      ]
    },
    {
      "cell_type": "code",
      "execution_count": 170,
      "metadata": {},
      "outputs": [
        {
          "name": "stdout",
          "output_type": "stream",
          "text": [
            "<class 'pandas.core.frame.DataFrame'>\n"
          ]
        }
      ],
      "source": [
        "print(type(df))"
      ]
    },
    {
      "cell_type": "code",
      "execution_count": 171,
      "metadata": {},
      "outputs": [
        {
          "name": "stdout",
          "output_type": "stream",
          "text": [
            "Index(['Current_Role', 'Zip_Code', 'Employee_ID', 'Employee_Annual_Salary',\n",
            "       'Monthly_Medical_contribution', 'Monthly_Dental_Contribution',\n",
            "       'Monthly_Vision_Contribution', 'Bonus', 'Years_Of_Service',\n",
            "       'Department', 'Gender', 'Employee_HR_rate', 'Hours_per_week',\n",
            "       'Years_Since_Last_Promotion', 'age', 'left'],\n",
            "      dtype='object')\n"
          ]
        }
      ],
      "source": [
        "print(df.columns)"
      ]
    },
    {
      "cell_type": "code",
      "execution_count": 172,
      "metadata": {},
      "outputs": [
        {
          "name": "stdout",
          "output_type": "stream",
          "text": [
            "           Current_Role  Zip_Code  Employee_ID  Employee_Annual_Salary  \\\n",
            "0            HR Manager      2107           90                  141600   \n",
            "1            HR Manager      2107           91                  141600   \n",
            "2    Lead Data Engineer     94108          100                  146600   \n",
            "3   Lead Data Scientist     94112          101                  146200   \n",
            "4  Lead DevOps Engineer     98106          102                  146600   \n",
            "\n",
            "   Monthly_Medical_contribution  Monthly_Dental_Contribution  \\\n",
            "0                           130                           35   \n",
            "1                           130                           35   \n",
            "2                           130                           35   \n",
            "3                           130                           35   \n",
            "4                           130                           35   \n",
            "\n",
            "   Monthly_Vision_Contribution  Bonus  Years_Of_Service       Department  \\\n",
            "0                           19  20390               4.8  Human Resources   \n",
            "1                           19  20390               4.8  Human Resources   \n",
            "2                           19  17519               7.9     Data Science   \n",
            "3                           19  17398               7.8     Data Science   \n",
            "4                           19  17519               7.9      Engineering   \n",
            "\n",
            "   Gender  Employee_HR_rate  Hours_per_week  Years_Since_Last_Promotion  age  \\\n",
            "0  Female               115              40                    3.236140   30   \n",
            "1  Female               155              40                    2.674880   34   \n",
            "2    Male               144              40                    4.235455   34   \n",
            "3  Female                98              40                    3.707050   33   \n",
            "4    Male               114              40                    3.961670   31   \n",
            "\n",
            "   left  \n",
            "0     0  \n",
            "1     0  \n",
            "2     0  \n",
            "3     0  \n",
            "4     0  \n"
          ]
        }
      ],
      "source": [
        "print(df.head())"
      ]
    },
    {
      "cell_type": "code",
      "execution_count": 173,
      "metadata": {},
      "outputs": [
        {
          "name": "stdout",
          "output_type": "stream",
          "text": [
            "(33, 16)\n"
          ]
        }
      ],
      "source": [
        "print(df.shape)"
      ]
    },
    {
      "cell_type": "markdown",
      "metadata": {
        "colab_type": "text",
        "id": "CriG6VzVSjcK"
      },
      "source": [
        "## Encoding categorical data"
      ]
    },
    {
      "cell_type": "markdown",
      "metadata": {
        "colab_type": "text",
        "id": "AhSpdQWeSsFh"
      },
      "source": [
        "### Encoding the Independent Variable"
      ]
    },
    {
      "cell_type": "code",
      "execution_count": 174,
      "metadata": {},
      "outputs": [],
      "source": [
        "df_encoded = pd.get_dummies(df, columns=['Current_Role', 'Department', 'Gender'], drop_first=False).astype(int)\n"
      ]
    },
    {
      "cell_type": "code",
      "execution_count": 175,
      "metadata": {},
      "outputs": [
        {
          "name": "stdout",
          "output_type": "stream",
          "text": [
            "   Zip_Code  Employee_ID  Employee_Annual_Salary  \\\n",
            "0      2107           90                  141600   \n",
            "1      2107           91                  141600   \n",
            "2     94108          100                  146600   \n",
            "3     94112          101                  146200   \n",
            "4     98106          102                  146600   \n",
            "\n",
            "   Monthly_Medical_contribution  Monthly_Dental_Contribution  \\\n",
            "0                           130                           35   \n",
            "1                           130                           35   \n",
            "2                           130                           35   \n",
            "3                           130                           35   \n",
            "4                           130                           35   \n",
            "\n",
            "   Monthly_Vision_Contribution  Bonus  Years_Of_Service  Employee_HR_rate  \\\n",
            "0                           19  20390                 4               115   \n",
            "1                           19  20390                 4               155   \n",
            "2                           19  17519                 7               144   \n",
            "3                           19  17398                 7                98   \n",
            "4                           19  17519                 7               114   \n",
            "\n",
            "   Hours_per_week  ...  Department_Design  Department_Engineering  \\\n",
            "0              40  ...                  0                       0   \n",
            "1              40  ...                  0                       0   \n",
            "2              40  ...                  0                       0   \n",
            "3              40  ...                  0                       0   \n",
            "4              40  ...                  0                       1   \n",
            "\n",
            "   Department_Finance  Department_Human Resources  Department_Marketing  \\\n",
            "0                   0                           1                     0   \n",
            "1                   0                           1                     0   \n",
            "2                   0                           0                     0   \n",
            "3                   0                           0                     0   \n",
            "4                   0                           0                     0   \n",
            "\n",
            "   Department_Product  Department_Sales  Gender_Female  Gender_Male  \\\n",
            "0                   0                 0              1            0   \n",
            "1                   0                 0              1            0   \n",
            "2                   0                 0              0            1   \n",
            "3                   0                 0              1            0   \n",
            "4                   0                 0              0            1   \n",
            "\n",
            "   Gender_Non-Binary  \n",
            "0                  0  \n",
            "1                  0  \n",
            "2                  0  \n",
            "3                  0  \n",
            "4                  0  \n",
            "\n",
            "[5 rows x 52 columns]\n"
          ]
        }
      ],
      "source": [
        "print(df_encoded.head())"
      ]
    },
    {
      "cell_type": "code",
      "execution_count": 176,
      "metadata": {},
      "outputs": [
        {
          "name": "stdout",
          "output_type": "stream",
          "text": [
            "(33, 52)\n"
          ]
        }
      ],
      "source": [
        "print(df_encoded.shape)"
      ]
    },
    {
      "cell_type": "markdown",
      "metadata": {},
      "source": [
        "## Split two Data Frame for Independent Features & Dependent Columns"
      ]
    },
    {
      "cell_type": "code",
      "execution_count": 177,
      "metadata": {},
      "outputs": [],
      "source": [
        "df_independent = df_encoded.drop(columns=['left'])\n",
        "X = df_independent\n",
        "df_dependent = df_encoded[['left']]\n",
        "y = df_dependent"
      ]
    },
    {
      "cell_type": "code",
      "execution_count": 178,
      "metadata": {},
      "outputs": [
        {
          "name": "stdout",
          "output_type": "stream",
          "text": [
            "   Zip_Code  Employee_ID  Employee_Annual_Salary  \\\n",
            "0      2107           90                  141600   \n",
            "1      2107           91                  141600   \n",
            "2     94108          100                  146600   \n",
            "3     94112          101                  146200   \n",
            "4     98106          102                  146600   \n",
            "\n",
            "   Monthly_Medical_contribution  Monthly_Dental_Contribution  \\\n",
            "0                           130                           35   \n",
            "1                           130                           35   \n",
            "2                           130                           35   \n",
            "3                           130                           35   \n",
            "4                           130                           35   \n",
            "\n",
            "   Monthly_Vision_Contribution  Bonus  Years_Of_Service  Employee_HR_rate  \\\n",
            "0                           19  20390                 4               115   \n",
            "1                           19  20390                 4               155   \n",
            "2                           19  17519                 7               144   \n",
            "3                           19  17398                 7                98   \n",
            "4                           19  17519                 7               114   \n",
            "\n",
            "   Hours_per_week  ...  Department_Design  Department_Engineering  \\\n",
            "0              40  ...                  0                       0   \n",
            "1              40  ...                  0                       0   \n",
            "2              40  ...                  0                       0   \n",
            "3              40  ...                  0                       0   \n",
            "4              40  ...                  0                       1   \n",
            "\n",
            "   Department_Finance  Department_Human Resources  Department_Marketing  \\\n",
            "0                   0                           1                     0   \n",
            "1                   0                           1                     0   \n",
            "2                   0                           0                     0   \n",
            "3                   0                           0                     0   \n",
            "4                   0                           0                     0   \n",
            "\n",
            "   Department_Product  Department_Sales  Gender_Female  Gender_Male  \\\n",
            "0                   0                 0              1            0   \n",
            "1                   0                 0              1            0   \n",
            "2                   0                 0              0            1   \n",
            "3                   0                 0              1            0   \n",
            "4                   0                 0              0            1   \n",
            "\n",
            "   Gender_Non-Binary  \n",
            "0                  0  \n",
            "1                  0  \n",
            "2                  0  \n",
            "3                  0  \n",
            "4                  0  \n",
            "\n",
            "[5 rows x 51 columns]\n"
          ]
        }
      ],
      "source": [
        "print(df_independent.head())\n"
      ]
    },
    {
      "cell_type": "code",
      "execution_count": 179,
      "metadata": {},
      "outputs": [
        {
          "name": "stdout",
          "output_type": "stream",
          "text": [
            "(33, 51)\n"
          ]
        }
      ],
      "source": [
        "print(df_independent.shape)"
      ]
    },
    {
      "cell_type": "code",
      "execution_count": 180,
      "metadata": {},
      "outputs": [
        {
          "name": "stdout",
          "output_type": "stream",
          "text": [
            "   left\n",
            "0     0\n",
            "1     0\n",
            "2     0\n",
            "3     0\n",
            "4     0\n"
          ]
        }
      ],
      "source": [
        "print(df_dependent.head())"
      ]
    },
    {
      "cell_type": "code",
      "execution_count": 181,
      "metadata": {},
      "outputs": [
        {
          "name": "stdout",
          "output_type": "stream",
          "text": [
            "(33, 1)\n"
          ]
        }
      ],
      "source": [
        "print(df_dependent.shape)"
      ]
    },
    {
      "cell_type": "markdown",
      "metadata": {
        "colab_type": "text",
        "id": "qb_vcgm3qZKW"
      },
      "source": [
        "## Splitting the dataset into the Training set and Test set"
      ]
    },
    {
      "cell_type": "code",
      "execution_count": 182,
      "metadata": {},
      "outputs": [],
      "source": [
        "from sklearn.model_selection import train_test_split\n",
        "X_train, X_test, y_train, y_test = train_test_split(X, y, test_size = 0.2, random_state = 1)"
      ]
    },
    {
      "cell_type": "code",
      "execution_count": 183,
      "metadata": {
        "colab": {
          "base_uri": "https://localhost:8080/",
          "height": 154
        },
        "colab_type": "code",
        "id": "GuwQhFdKrYTM",
        "outputId": "de1e527f-c229-4daf-e7c5-ea9d2485148d"
      },
      "outputs": [
        {
          "name": "stdout",
          "output_type": "stream",
          "text": [
            "    Zip_Code  Employee_ID  Employee_Annual_Salary  \\\n",
            "25     10010          140                  138800   \n",
            "24     10004          139                  131600   \n",
            "30     78704          145                  132800   \n",
            "17     60604          132                  131600   \n",
            "22      2104          137                  139600   \n",
            "\n",
            "    Monthly_Medical_contribution  Monthly_Dental_Contribution  \\\n",
            "25                           130                           35   \n",
            "24                           130                           35   \n",
            "30                           130                           35   \n",
            "17                           130                           35   \n",
            "22                           130                           35   \n",
            "\n",
            "    Monthly_Vision_Contribution  Bonus  Years_Of_Service  Employee_HR_rate  \\\n",
            "25                           19  16101                 7                88   \n",
            "24                           19  14081                 5               152   \n",
            "30                           19  14409                 5               142   \n",
            "17                           19  14081                 5               112   \n",
            "22                           19  16333                 7                82   \n",
            "\n",
            "    Hours_per_week  ...  Department_Design  Department_Engineering  \\\n",
            "25              40  ...                  0                       0   \n",
            "24              40  ...                  0                       0   \n",
            "30              40  ...                  1                       0   \n",
            "17              40  ...                  0                       0   \n",
            "22              40  ...                  0                       0   \n",
            "\n",
            "    Department_Finance  Department_Human Resources  Department_Marketing  \\\n",
            "25                   0                           0                     0   \n",
            "24                   0                           0                     1   \n",
            "30                   0                           0                     0   \n",
            "17                   1                           0                     0   \n",
            "22                   0                           1                     0   \n",
            "\n",
            "    Department_Product  Department_Sales  Gender_Female  Gender_Male  \\\n",
            "25                   1                 0              1            0   \n",
            "24                   0                 0              0            0   \n",
            "30                   0                 0              0            0   \n",
            "17                   0                 0              0            0   \n",
            "22                   0                 0              0            1   \n",
            "\n",
            "    Gender_Non-Binary  \n",
            "25                  0  \n",
            "24                  1  \n",
            "30                  1  \n",
            "17                  1  \n",
            "22                  0  \n",
            "\n",
            "[5 rows x 51 columns]\n"
          ]
        }
      ],
      "source": [
        "print(X_train.head())"
      ]
    },
    {
      "cell_type": "code",
      "execution_count": 184,
      "metadata": {},
      "outputs": [
        {
          "name": "stdout",
          "output_type": "stream",
          "text": [
            "(26, 51)\n"
          ]
        }
      ],
      "source": [
        "print(X_train.shape)"
      ]
    },
    {
      "cell_type": "code",
      "execution_count": 185,
      "metadata": {
        "colab": {
          "base_uri": "https://localhost:8080/",
          "height": 51
        },
        "colab_type": "code",
        "id": "TUrX_Tvcrbi4",
        "outputId": "9a041a9b-2642-4828-fa2f-a431d7d77631"
      },
      "outputs": [
        {
          "name": "stdout",
          "output_type": "stream",
          "text": [
            "    Zip_Code  Employee_ID  Employee_Annual_Salary  \\\n",
            "14     90008          129                  136000   \n",
            "19     94108          134                  143600   \n",
            "3      94112          101                  146200   \n",
            "27     90008          142                  134800   \n",
            "31     94108          147                  115250   \n",
            "\n",
            "    Monthly_Medical_contribution  Monthly_Dental_Contribution  \\\n",
            "14                           130                           35   \n",
            "19                           130                           35   \n",
            "3                            130                           35   \n",
            "27                           130                           35   \n",
            "31                           130                           35   \n",
            "\n",
            "    Monthly_Vision_Contribution  Bonus  Years_Of_Service  Employee_HR_rate  \\\n",
            "14                           19  15300                 6               156   \n",
            "19                           19  17519                 8                94   \n",
            "3                            19  17398                 7                98   \n",
            "27                           19  14963                 6               146   \n",
            "31                           19  10430                 8               104   \n",
            "\n",
            "    Hours_per_week  ...  Department_Design  Department_Engineering  \\\n",
            "14              40  ...                  0                       0   \n",
            "19              40  ...                  0                       1   \n",
            "3               40  ...                  0                       0   \n",
            "27              40  ...                  0                       0   \n",
            "31              40  ...                  0                       1   \n",
            "\n",
            "    Department_Finance  Department_Human Resources  Department_Marketing  \\\n",
            "14                   0                           0                     0   \n",
            "19                   0                           0                     0   \n",
            "3                    0                           0                     0   \n",
            "27                   0                           0                     0   \n",
            "31                   0                           0                     0   \n",
            "\n",
            "    Department_Product  Department_Sales  Gender_Female  Gender_Male  \\\n",
            "14                   0                 1              0            1   \n",
            "19                   0                 0              0            1   \n",
            "3                    0                 0              1            0   \n",
            "27                   0                 1              0            1   \n",
            "31                   0                 0              0            1   \n",
            "\n",
            "    Gender_Non-Binary  \n",
            "14                  0  \n",
            "19                  0  \n",
            "3                   0  \n",
            "27                  0  \n",
            "31                  0  \n",
            "\n",
            "[5 rows x 51 columns]\n"
          ]
        }
      ],
      "source": [
        "print(X_test.head())"
      ]
    },
    {
      "cell_type": "code",
      "execution_count": 186,
      "metadata": {},
      "outputs": [
        {
          "name": "stdout",
          "output_type": "stream",
          "text": [
            "(7, 51)\n"
          ]
        }
      ],
      "source": [
        "print(X_test.shape)"
      ]
    },
    {
      "cell_type": "code",
      "execution_count": 187,
      "metadata": {
        "colab": {
          "base_uri": "https://localhost:8080/",
          "height": 34
        },
        "colab_type": "code",
        "id": "pSMHiIsWreQY",
        "outputId": "5afe91e0-9244-4bf5-ec1b-e3e092b85c08"
      },
      "outputs": [
        {
          "name": "stdout",
          "output_type": "stream",
          "text": [
            "    left\n",
            "25     0\n",
            "24     0\n",
            "30     0\n",
            "17     0\n",
            "22     0\n"
          ]
        }
      ],
      "source": [
        "print(y_train.head())"
      ]
    },
    {
      "cell_type": "code",
      "execution_count": 188,
      "metadata": {},
      "outputs": [
        {
          "name": "stdout",
          "output_type": "stream",
          "text": [
            "(26, 1)\n"
          ]
        }
      ],
      "source": [
        "print(y_train.shape)"
      ]
    },
    {
      "cell_type": "code",
      "execution_count": 189,
      "metadata": {
        "colab": {
          "base_uri": "https://localhost:8080/",
          "height": 34
        },
        "colab_type": "code",
        "id": "I_tW7H56rgtW",
        "outputId": "2a93f141-2a99-4a69-eec5-c82a3bb8d36b"
      },
      "outputs": [
        {
          "name": "stdout",
          "output_type": "stream",
          "text": [
            "    left\n",
            "14     0\n",
            "19     0\n",
            "3      0\n",
            "27     0\n",
            "31     0\n"
          ]
        }
      ],
      "source": [
        "print(y_test.head())"
      ]
    },
    {
      "cell_type": "code",
      "execution_count": 190,
      "metadata": {},
      "outputs": [
        {
          "name": "stdout",
          "output_type": "stream",
          "text": [
            "(7, 1)\n"
          ]
        }
      ],
      "source": [
        "print(y_test.shape)"
      ]
    },
    {
      "cell_type": "markdown",
      "metadata": {},
      "source": [
        "## Feature Scaling"
      ]
    },
    {
      "cell_type": "code",
      "execution_count": 191,
      "metadata": {},
      "outputs": [],
      "source": [
        "from sklearn.preprocessing import StandardScaler\n",
        "sc = StandardScaler()\n",
        "\n",
        "# List of columns to scale\n",
        "columns_to_scale = [\n",
        "    'Employee_Annual_Salary', 'Monthly_Medical_contribution',\n",
        "    'Monthly_Dental_Contribution', 'Monthly_Vision_Contribution', 'Bonus',\n",
        "    'Years_Of_Service', 'Employee_HR_rate', 'Hours_per_week',\n",
        "    'Years_Since_Last_Promotion', 'age'\n",
        "]\n",
        "\n",
        "# Fit sc on training data and transform both training and test sets\n",
        "X_train_scaled = X_train.copy()\n",
        "X_test_scaled = X_test.copy()\n",
        "\n",
        "X_train_scaled[columns_to_scale] = sc.fit_transform(X_train_scaled[columns_to_scale])\n",
        "X_test_scaled[columns_to_scale] = sc.transform(X_test_scaled[columns_to_scale])\n"
      ]
    },
    {
      "cell_type": "code",
      "execution_count": 192,
      "metadata": {
        "colab": {
          "base_uri": "https://localhost:8080/",
          "height": 154
        },
        "colab_type": "code",
        "id": "DWPET8ZdlMnu",
        "outputId": "dea86927-5124-4e2a-e974-2804df9a913c"
      },
      "outputs": [
        {
          "name": "stdout",
          "output_type": "stream",
          "text": [
            "    Zip_Code  Employee_ID  Employee_Annual_Salary  \\\n",
            "25     10010          140                0.042052   \n",
            "24     10004          139               -0.690234   \n",
            "30     78704          145               -0.568187   \n",
            "17     60604          132               -0.690234   \n",
            "22      2104          137                0.123417   \n",
            "4      98106          102                0.835362   \n",
            "2      94108          100                0.835362   \n",
            "21     60602          136                0.815020   \n",
            "23     10004          138               -0.527504   \n",
            "10     10010          122                0.916727   \n",
            "29     90008          144               -0.161361   \n",
            "28     90008          143               -0.120679   \n",
            "18     10004          133               -0.812282   \n",
            "6      98106          105                0.591266   \n",
            "13     90008          128               -0.324091   \n",
            "7      78704          106                0.265806   \n",
            "32     94112          150                1.079457   \n",
            "1       2107           91                0.326830   \n",
            "16     90008          131               -0.324091   \n",
            "0       2107           90                0.326830   \n",
            "15     90011          130               -0.242726   \n",
            "5      94108          104                0.713314   \n",
            "11     10005          124                0.692973   \n",
            "9      78704          120               -4.138081   \n",
            "8      78712          107                0.753996   \n",
            "12     98103          125                0.281062   \n",
            "\n",
            "    Monthly_Medical_contribution  Monthly_Dental_Contribution  \\\n",
            "25                           0.2                          0.2   \n",
            "24                           0.2                          0.2   \n",
            "30                           0.2                          0.2   \n",
            "17                           0.2                          0.2   \n",
            "22                           0.2                          0.2   \n",
            "4                            0.2                          0.2   \n",
            "2                            0.2                          0.2   \n",
            "21                           0.2                          0.2   \n",
            "23                           0.2                          0.2   \n",
            "10                           0.2                          0.2   \n",
            "29                           0.2                          0.2   \n",
            "28                           0.2                          0.2   \n",
            "18                           0.2                          0.2   \n",
            "6                            0.2                          0.2   \n",
            "13                           0.2                          0.2   \n",
            "7                            0.2                          0.2   \n",
            "32                           0.2                          0.2   \n",
            "1                            0.2                          0.2   \n",
            "16                           0.2                          0.2   \n",
            "0                            0.2                          0.2   \n",
            "15                           0.2                          0.2   \n",
            "5                            0.2                          0.2   \n",
            "11                           0.2                          0.2   \n",
            "9                           -5.0                         -5.0   \n",
            "8                            0.2                          0.2   \n",
            "12                           0.2                          0.2   \n",
            "\n",
            "    Monthly_Vision_Contribution     Bonus  Years_Of_Service  Employee_HR_rate  \\\n",
            "25                          0.2 -0.114457          0.748020         -1.199334   \n",
            "24                          0.2 -0.857785         -0.807862          1.301533   \n",
            "30                          0.2 -0.737086         -0.807862          0.910773   \n",
            "17                          0.2 -0.857785         -0.807862         -0.261509   \n",
            "22                          0.2 -0.029085          0.748020         -1.433791   \n",
            "4                           0.2  0.407344          0.748020         -0.183357   \n",
            "2                           0.2  0.407344          0.748020          0.988925   \n",
            "21                          0.2  0.721603          2.303903         -1.121182   \n",
            "23                          0.2 -0.696608         -0.807862          0.129252   \n",
            "10                          0.2  0.496764          1.525962          1.535990   \n",
            "29                          0.2 -0.325680         -0.029921          0.285556   \n",
            "28                          0.2 -0.283730         -0.029921         -0.495965   \n",
            "18                          0.2 -0.977012         -0.807862          0.520012   \n",
            "6                           0.2  0.142396          0.748020          0.207404   \n",
            "13                          0.2 -0.492009         -0.029921         -0.105205   \n",
            "7                           0.2 -0.202037         -0.029921         -1.043030   \n",
            "32                          0.2  0.677444          1.525962          1.145229   \n",
            "1                           0.2  1.463826         -1.585803          1.418761   \n",
            "16                          0.2 -0.492009         -0.029921          0.676316   \n",
            "0                           0.2  1.463826         -1.585803         -0.144281   \n",
            "15                          0.2 -0.409212         -0.029921         -1.980856   \n",
            "5                           0.2  0.274134          0.748020          1.379685   \n",
            "11                          0.2  1.868609         -0.807862         -1.394715   \n",
            "9                          -5.0 -3.181236         -0.807862         -0.652270   \n",
            "8                           0.2  0.318292          0.748020          0.598164   \n",
            "12                          0.2  1.414148         -1.585803         -1.082106   \n",
            "\n",
            "    Hours_per_week  ...  Department_Design  Department_Engineering  \\\n",
            "25             0.0  ...                  0                       0   \n",
            "24             0.0  ...                  0                       0   \n",
            "30             0.0  ...                  1                       0   \n",
            "17             0.0  ...                  0                       0   \n",
            "22             0.0  ...                  0                       0   \n",
            "4              0.0  ...                  0                       1   \n",
            "2              0.0  ...                  0                       0   \n",
            "21             0.0  ...                  0                       0   \n",
            "23             0.0  ...                  0                       0   \n",
            "10             0.0  ...                  0                       0   \n",
            "29             0.0  ...                  0                       0   \n",
            "28             0.0  ...                  0                       0   \n",
            "18             0.0  ...                  0                       0   \n",
            "6              0.0  ...                  0                       1   \n",
            "13             0.0  ...                  0                       0   \n",
            "7              0.0  ...                  1                       0   \n",
            "32             0.0  ...                  0                       1   \n",
            "1              0.0  ...                  0                       0   \n",
            "16             0.0  ...                  0                       0   \n",
            "0              0.0  ...                  0                       0   \n",
            "15             0.0  ...                  0                       0   \n",
            "5              0.0  ...                  0                       1   \n",
            "11             0.0  ...                  0                       0   \n",
            "9              0.0  ...                  1                       0   \n",
            "8              0.0  ...                  1                       0   \n",
            "12             0.0  ...                  0                       0   \n",
            "\n",
            "    Department_Finance  Department_Human Resources  Department_Marketing  \\\n",
            "25                   0                           0                     0   \n",
            "24                   0                           0                     1   \n",
            "30                   0                           0                     0   \n",
            "17                   1                           0                     0   \n",
            "22                   0                           1                     0   \n",
            "4                    0                           0                     0   \n",
            "2                    0                           0                     0   \n",
            "21                   1                           0                     0   \n",
            "23                   0                           0                     1   \n",
            "10                   0                           0                     0   \n",
            "29                   0                           0                     0   \n",
            "28                   0                           0                     0   \n",
            "18                   0                           0                     1   \n",
            "6                    0                           0                     0   \n",
            "13                   0                           0                     0   \n",
            "7                    0                           0                     0   \n",
            "32                   0                           0                     0   \n",
            "1                    0                           1                     0   \n",
            "16                   0                           0                     0   \n",
            "0                    0                           1                     0   \n",
            "15                   0                           0                     0   \n",
            "5                    0                           0                     0   \n",
            "11                   0                           0                     1   \n",
            "9                    0                           0                     0   \n",
            "8                    0                           0                     0   \n",
            "12                   0                           0                     0   \n",
            "\n",
            "    Department_Product  Department_Sales  Gender_Female  Gender_Male  \\\n",
            "25                   1                 0              1            0   \n",
            "24                   0                 0              0            0   \n",
            "30                   0                 0              0            0   \n",
            "17                   0                 0              0            0   \n",
            "22                   0                 0              0            1   \n",
            "4                    0                 0              0            1   \n",
            "2                    0                 0              0            1   \n",
            "21                   0                 0              1            0   \n",
            "23                   0                 0              0            0   \n",
            "10                   1                 0              1            0   \n",
            "29                   0                 1              0            1   \n",
            "28                   0                 1              0            1   \n",
            "18                   0                 0              0            0   \n",
            "6                    0                 0              0            1   \n",
            "13                   0                 1              0            1   \n",
            "7                    0                 0              0            0   \n",
            "32                   0                 0              1            0   \n",
            "1                    0                 0              1            0   \n",
            "16                   0                 1              0            1   \n",
            "0                    0                 0              1            0   \n",
            "15                   0                 1              0            1   \n",
            "5                    0                 0              0            1   \n",
            "11                   0                 0              1            0   \n",
            "9                    0                 0              0            0   \n",
            "8                    0                 0              0            1   \n",
            "12                   1                 0              0            1   \n",
            "\n",
            "    Gender_Non-Binary  \n",
            "25                  0  \n",
            "24                  1  \n",
            "30                  1  \n",
            "17                  1  \n",
            "22                  0  \n",
            "4                   0  \n",
            "2                   0  \n",
            "21                  0  \n",
            "23                  1  \n",
            "10                  0  \n",
            "29                  0  \n",
            "28                  0  \n",
            "18                  1  \n",
            "6                   0  \n",
            "13                  0  \n",
            "7                   1  \n",
            "32                  0  \n",
            "1                   0  \n",
            "16                  0  \n",
            "0                   0  \n",
            "15                  0  \n",
            "5                   0  \n",
            "11                  0  \n",
            "9                   1  \n",
            "8                   0  \n",
            "12                  0  \n",
            "\n",
            "[26 rows x 51 columns]\n"
          ]
        }
      ],
      "source": [
        "print(X_train_scaled)"
      ]
    },
    {
      "cell_type": "code",
      "execution_count": 193,
      "metadata": {
        "colab": {
          "base_uri": "https://localhost:8080/",
          "height": 51
        },
        "colab_type": "code",
        "id": "sTXykB_QlRjE",
        "outputId": "b68f0cfc-d07c-48cb-80d0-6800028c41f9"
      },
      "outputs": [
        {
          "name": "stdout",
          "output_type": "stream",
          "text": [
            "    Zip_Code  Employee_ID  Employee_Annual_Salary  \\\n",
            "14     90008          129               -0.242726   \n",
            "19     94108          134                0.530242   \n",
            "3      94112          101                0.794679   \n",
            "27     90008          142               -0.364774   \n",
            "31     94108          147               -2.353134   \n",
            "26     98102          141                0.896385   \n",
            "20     60607          135               -0.364774   \n",
            "\n",
            "    Monthly_Medical_contribution  Monthly_Dental_Contribution  \\\n",
            "14                           0.2                          0.2   \n",
            "19                           0.2                          0.2   \n",
            "3                            0.2                          0.2   \n",
            "27                           0.2                          0.2   \n",
            "31                           0.2                          0.2   \n",
            "26                           0.2                          0.2   \n",
            "20                           0.2                          0.2   \n",
            "\n",
            "    Monthly_Vision_Contribution     Bonus  Years_Of_Service  Employee_HR_rate  \\\n",
            "14                          0.2 -0.409212         -0.029921          1.457838   \n",
            "19                          0.2  0.407344          1.525962         -0.964878   \n",
            "3                           0.2  0.362818          0.748020         -0.808574   \n",
            "27                          0.2 -0.533223         -0.029921          1.067077   \n",
            "31                          0.2 -2.201295          1.525962         -0.574117   \n",
            "26                          0.2  0.812863          2.303903          0.441860   \n",
            "20                          0.2 -0.533223         -0.029921         -1.707323   \n",
            "\n",
            "    Hours_per_week  ...  Department_Design  Department_Engineering  \\\n",
            "14             0.0  ...                  0                       0   \n",
            "19             0.0  ...                  0                       1   \n",
            "3              0.0  ...                  0                       0   \n",
            "27             0.0  ...                  0                       0   \n",
            "31             0.0  ...                  0                       1   \n",
            "26             0.0  ...                  0                       0   \n",
            "20             0.0  ...                  0                       0   \n",
            "\n",
            "    Department_Finance  Department_Human Resources  Department_Marketing  \\\n",
            "14                   0                           0                     0   \n",
            "19                   0                           0                     0   \n",
            "3                    0                           0                     0   \n",
            "27                   0                           0                     0   \n",
            "31                   0                           0                     0   \n",
            "26                   0                           0                     0   \n",
            "20                   1                           0                     0   \n",
            "\n",
            "    Department_Product  Department_Sales  Gender_Female  Gender_Male  \\\n",
            "14                   0                 1              0            1   \n",
            "19                   0                 0              0            1   \n",
            "3                    0                 0              1            0   \n",
            "27                   0                 1              0            1   \n",
            "31                   0                 0              0            1   \n",
            "26                   1                 0              1            0   \n",
            "20                   0                 0              1            0   \n",
            "\n",
            "    Gender_Non-Binary  \n",
            "14                  0  \n",
            "19                  0  \n",
            "3                   0  \n",
            "27                  0  \n",
            "31                  0  \n",
            "26                  0  \n",
            "20                  0  \n",
            "\n",
            "[7 rows x 51 columns]\n"
          ]
        }
      ],
      "source": [
        "print(X_test_scaled)"
      ]
    },
    {
      "cell_type": "markdown",
      "metadata": {},
      "source": [
        "### Removing `Employee ID` & `Zip Code` in `X_train_scaled` & `X_test_scaled`"
      ]
    },
    {
      "cell_type": "code",
      "execution_count": 194,
      "metadata": {},
      "outputs": [
        {
          "name": "stdout",
          "output_type": "stream",
          "text": [
            "<class 'pandas.core.frame.DataFrame'>\n"
          ]
        }
      ],
      "source": [
        "print(type(X_train_scaled))"
      ]
    },
    {
      "cell_type": "code",
      "execution_count": 195,
      "metadata": {},
      "outputs": [
        {
          "name": "stdout",
          "output_type": "stream",
          "text": [
            "    Employee_Annual_Salary  Monthly_Medical_contribution  \\\n",
            "25                0.042052                           0.2   \n",
            "24               -0.690234                           0.2   \n",
            "30               -0.568187                           0.2   \n",
            "17               -0.690234                           0.2   \n",
            "22                0.123417                           0.2   \n",
            "4                 0.835362                           0.2   \n",
            "2                 0.835362                           0.2   \n",
            "21                0.815020                           0.2   \n",
            "23               -0.527504                           0.2   \n",
            "10                0.916727                           0.2   \n",
            "29               -0.161361                           0.2   \n",
            "28               -0.120679                           0.2   \n",
            "18               -0.812282                           0.2   \n",
            "6                 0.591266                           0.2   \n",
            "13               -0.324091                           0.2   \n",
            "7                 0.265806                           0.2   \n",
            "32                1.079457                           0.2   \n",
            "1                 0.326830                           0.2   \n",
            "16               -0.324091                           0.2   \n",
            "0                 0.326830                           0.2   \n",
            "15               -0.242726                           0.2   \n",
            "5                 0.713314                           0.2   \n",
            "11                0.692973                           0.2   \n",
            "9                -4.138081                          -5.0   \n",
            "8                 0.753996                           0.2   \n",
            "12                0.281062                           0.2   \n",
            "\n",
            "    Monthly_Dental_Contribution  Monthly_Vision_Contribution     Bonus  \\\n",
            "25                          0.2                          0.2 -0.114457   \n",
            "24                          0.2                          0.2 -0.857785   \n",
            "30                          0.2                          0.2 -0.737086   \n",
            "17                          0.2                          0.2 -0.857785   \n",
            "22                          0.2                          0.2 -0.029085   \n",
            "4                           0.2                          0.2  0.407344   \n",
            "2                           0.2                          0.2  0.407344   \n",
            "21                          0.2                          0.2  0.721603   \n",
            "23                          0.2                          0.2 -0.696608   \n",
            "10                          0.2                          0.2  0.496764   \n",
            "29                          0.2                          0.2 -0.325680   \n",
            "28                          0.2                          0.2 -0.283730   \n",
            "18                          0.2                          0.2 -0.977012   \n",
            "6                           0.2                          0.2  0.142396   \n",
            "13                          0.2                          0.2 -0.492009   \n",
            "7                           0.2                          0.2 -0.202037   \n",
            "32                          0.2                          0.2  0.677444   \n",
            "1                           0.2                          0.2  1.463826   \n",
            "16                          0.2                          0.2 -0.492009   \n",
            "0                           0.2                          0.2  1.463826   \n",
            "15                          0.2                          0.2 -0.409212   \n",
            "5                           0.2                          0.2  0.274134   \n",
            "11                          0.2                          0.2  1.868609   \n",
            "9                          -5.0                         -5.0 -3.181236   \n",
            "8                           0.2                          0.2  0.318292   \n",
            "12                          0.2                          0.2  1.414148   \n",
            "\n",
            "    Years_Of_Service  Employee_HR_rate  Hours_per_week  \\\n",
            "25          0.748020         -1.199334             0.0   \n",
            "24         -0.807862          1.301533             0.0   \n",
            "30         -0.807862          0.910773             0.0   \n",
            "17         -0.807862         -0.261509             0.0   \n",
            "22          0.748020         -1.433791             0.0   \n",
            "4           0.748020         -0.183357             0.0   \n",
            "2           0.748020          0.988925             0.0   \n",
            "21          2.303903         -1.121182             0.0   \n",
            "23         -0.807862          0.129252             0.0   \n",
            "10          1.525962          1.535990             0.0   \n",
            "29         -0.029921          0.285556             0.0   \n",
            "28         -0.029921         -0.495965             0.0   \n",
            "18         -0.807862          0.520012             0.0   \n",
            "6           0.748020          0.207404             0.0   \n",
            "13         -0.029921         -0.105205             0.0   \n",
            "7          -0.029921         -1.043030             0.0   \n",
            "32          1.525962          1.145229             0.0   \n",
            "1          -1.585803          1.418761             0.0   \n",
            "16         -0.029921          0.676316             0.0   \n",
            "0          -1.585803         -0.144281             0.0   \n",
            "15         -0.029921         -1.980856             0.0   \n",
            "5           0.748020          1.379685             0.0   \n",
            "11         -0.807862         -1.394715             0.0   \n",
            "9          -0.807862         -0.652270             0.0   \n",
            "8           0.748020          0.598164             0.0   \n",
            "12         -1.585803         -1.082106             0.0   \n",
            "\n",
            "    Years_Since_Last_Promotion       age  ...  Department_Design  \\\n",
            "25                   -0.285536 -0.171436  ...                  0   \n",
            "24                   -1.346098 -0.171436  ...                  0   \n",
            "30                   -0.285536 -0.576649  ...                  1   \n",
            "17                   -1.346098 -2.197499  ...                  0   \n",
            "22                    0.775026  1.449414  ...                  0   \n",
            "4                    -0.285536 -0.576649  ...                  0   \n",
            "2                     0.775026  0.638989  ...                  0   \n",
            "21                    1.835588  1.449414  ...                  0   \n",
            "23                   -0.285536 -1.792286  ...                  0   \n",
            "10                    1.835588 -0.576649  ...                  0   \n",
            "29                    0.775026  0.233776  ...                  0   \n",
            "28                    0.775026 -0.171436  ...                  0   \n",
            "18                   -1.346098 -1.387074  ...                  0   \n",
            "6                    -0.285536 -0.171436  ...                  0   \n",
            "13                   -0.285536  0.233776  ...                  0   \n",
            "7                     0.775026  1.449414  ...                  1   \n",
            "32                    0.775026 -0.981861  ...                  0   \n",
            "1                    -1.346098  0.638989  ...                  0   \n",
            "16                   -0.285536  0.638989  ...                  0   \n",
            "0                    -0.285536 -0.981861  ...                  0   \n",
            "15                    1.835588 -0.981861  ...                  0   \n",
            "5                    -0.285536  1.449414  ...                  0   \n",
            "11                   -1.346098  1.044202  ...                  0   \n",
            "9                    -0.285536  1.044202  ...                  1   \n",
            "8                     0.775026  0.233776  ...                  1   \n",
            "12                   -1.346098  0.233776  ...                  0   \n",
            "\n",
            "    Department_Engineering  Department_Finance  Department_Human Resources  \\\n",
            "25                       0                   0                           0   \n",
            "24                       0                   0                           0   \n",
            "30                       0                   0                           0   \n",
            "17                       0                   1                           0   \n",
            "22                       0                   0                           1   \n",
            "4                        1                   0                           0   \n",
            "2                        0                   0                           0   \n",
            "21                       0                   1                           0   \n",
            "23                       0                   0                           0   \n",
            "10                       0                   0                           0   \n",
            "29                       0                   0                           0   \n",
            "28                       0                   0                           0   \n",
            "18                       0                   0                           0   \n",
            "6                        1                   0                           0   \n",
            "13                       0                   0                           0   \n",
            "7                        0                   0                           0   \n",
            "32                       1                   0                           0   \n",
            "1                        0                   0                           1   \n",
            "16                       0                   0                           0   \n",
            "0                        0                   0                           1   \n",
            "15                       0                   0                           0   \n",
            "5                        1                   0                           0   \n",
            "11                       0                   0                           0   \n",
            "9                        0                   0                           0   \n",
            "8                        0                   0                           0   \n",
            "12                       0                   0                           0   \n",
            "\n",
            "    Department_Marketing  Department_Product  Department_Sales  Gender_Female  \\\n",
            "25                     0                   1                 0              1   \n",
            "24                     1                   0                 0              0   \n",
            "30                     0                   0                 0              0   \n",
            "17                     0                   0                 0              0   \n",
            "22                     0                   0                 0              0   \n",
            "4                      0                   0                 0              0   \n",
            "2                      0                   0                 0              0   \n",
            "21                     0                   0                 0              1   \n",
            "23                     1                   0                 0              0   \n",
            "10                     0                   1                 0              1   \n",
            "29                     0                   0                 1              0   \n",
            "28                     0                   0                 1              0   \n",
            "18                     1                   0                 0              0   \n",
            "6                      0                   0                 0              0   \n",
            "13                     0                   0                 1              0   \n",
            "7                      0                   0                 0              0   \n",
            "32                     0                   0                 0              1   \n",
            "1                      0                   0                 0              1   \n",
            "16                     0                   0                 1              0   \n",
            "0                      0                   0                 0              1   \n",
            "15                     0                   0                 1              0   \n",
            "5                      0                   0                 0              0   \n",
            "11                     1                   0                 0              1   \n",
            "9                      0                   0                 0              0   \n",
            "8                      0                   0                 0              0   \n",
            "12                     0                   1                 0              0   \n",
            "\n",
            "    Gender_Male  Gender_Non-Binary  \n",
            "25            0                  0  \n",
            "24            0                  1  \n",
            "30            0                  1  \n",
            "17            0                  1  \n",
            "22            1                  0  \n",
            "4             1                  0  \n",
            "2             1                  0  \n",
            "21            0                  0  \n",
            "23            0                  1  \n",
            "10            0                  0  \n",
            "29            1                  0  \n",
            "28            1                  0  \n",
            "18            0                  1  \n",
            "6             1                  0  \n",
            "13            1                  0  \n",
            "7             0                  1  \n",
            "32            0                  0  \n",
            "1             0                  0  \n",
            "16            1                  0  \n",
            "0             0                  0  \n",
            "15            1                  0  \n",
            "5             1                  0  \n",
            "11            0                  0  \n",
            "9             0                  1  \n",
            "8             1                  0  \n",
            "12            1                  0  \n",
            "\n",
            "[26 rows x 49 columns]\n"
          ]
        }
      ],
      "source": [
        "X_train_scaled_new = X_train_scaled.drop(columns=['Employee_ID', 'Zip_Code'])\n",
        "print(X_train_scaled_new)"
      ]
    },
    {
      "cell_type": "code",
      "execution_count": 196,
      "metadata": {},
      "outputs": [
        {
          "name": "stdout",
          "output_type": "stream",
          "text": [
            "<class 'pandas.core.frame.DataFrame'>\n"
          ]
        }
      ],
      "source": [
        "print(type(X_test_scaled))"
      ]
    },
    {
      "cell_type": "code",
      "execution_count": 197,
      "metadata": {},
      "outputs": [
        {
          "name": "stdout",
          "output_type": "stream",
          "text": [
            "    Employee_Annual_Salary  Monthly_Medical_contribution  \\\n",
            "14               -0.242726                           0.2   \n",
            "19                0.530242                           0.2   \n",
            "3                 0.794679                           0.2   \n",
            "27               -0.364774                           0.2   \n",
            "31               -2.353134                           0.2   \n",
            "26                0.896385                           0.2   \n",
            "20               -0.364774                           0.2   \n",
            "\n",
            "    Monthly_Dental_Contribution  Monthly_Vision_Contribution     Bonus  \\\n",
            "14                          0.2                          0.2 -0.409212   \n",
            "19                          0.2                          0.2  0.407344   \n",
            "3                           0.2                          0.2  0.362818   \n",
            "27                          0.2                          0.2 -0.533223   \n",
            "31                          0.2                          0.2 -2.201295   \n",
            "26                          0.2                          0.2  0.812863   \n",
            "20                          0.2                          0.2 -0.533223   \n",
            "\n",
            "    Years_Of_Service  Employee_HR_rate  Hours_per_week  \\\n",
            "14         -0.029921          1.457838             0.0   \n",
            "19          1.525962         -0.964878             0.0   \n",
            "3           0.748020         -0.808574             0.0   \n",
            "27         -0.029921          1.067077             0.0   \n",
            "31          1.525962         -0.574117             0.0   \n",
            "26          2.303903          0.441860             0.0   \n",
            "20         -0.029921         -1.707323             0.0   \n",
            "\n",
            "    Years_Since_Last_Promotion       age  ...  Department_Design  \\\n",
            "14                   -0.285536  1.854627  ...                  0   \n",
            "19                    0.775026 -0.576649  ...                  0   \n",
            "3                    -0.285536  0.233776  ...                  0   \n",
            "27                    0.775026  1.044202  ...                  0   \n",
            "31                    0.775026 -0.171436  ...                  0   \n",
            "26                    1.835588 -0.171436  ...                  0   \n",
            "20                    0.775026  1.449414  ...                  0   \n",
            "\n",
            "    Department_Engineering  Department_Finance  Department_Human Resources  \\\n",
            "14                       0                   0                           0   \n",
            "19                       1                   0                           0   \n",
            "3                        0                   0                           0   \n",
            "27                       0                   0                           0   \n",
            "31                       1                   0                           0   \n",
            "26                       0                   0                           0   \n",
            "20                       0                   1                           0   \n",
            "\n",
            "    Department_Marketing  Department_Product  Department_Sales  Gender_Female  \\\n",
            "14                     0                   0                 1              0   \n",
            "19                     0                   0                 0              0   \n",
            "3                      0                   0                 0              1   \n",
            "27                     0                   0                 1              0   \n",
            "31                     0                   0                 0              0   \n",
            "26                     0                   1                 0              1   \n",
            "20                     0                   0                 0              1   \n",
            "\n",
            "    Gender_Male  Gender_Non-Binary  \n",
            "14            1                  0  \n",
            "19            1                  0  \n",
            "3             0                  0  \n",
            "27            1                  0  \n",
            "31            1                  0  \n",
            "26            0                  0  \n",
            "20            0                  0  \n",
            "\n",
            "[7 rows x 49 columns]\n"
          ]
        }
      ],
      "source": [
        "X_test_scaled_new = X_test_scaled.drop(columns=['Employee_ID', 'Zip_Code'])\n",
        "print(X_test_scaled_new)"
      ]
    },
    {
      "cell_type": "markdown",
      "metadata": {},
      "source": [
        "## Training the Model"
      ]
    },
    {
      "cell_type": "code",
      "execution_count": 198,
      "metadata": {},
      "outputs": [],
      "source": [
        "from sklearn.linear_model import LogisticRegression\n",
        "model = LogisticRegression()"
      ]
    },
    {
      "cell_type": "code",
      "execution_count": 199,
      "metadata": {},
      "outputs": [
        {
          "data": {
            "text/html": [
              "<style>#sk-container-id-3 {\n",
              "  /* Definition of color scheme common for light and dark mode */\n",
              "  --sklearn-color-text: #000;\n",
              "  --sklearn-color-text-muted: #666;\n",
              "  --sklearn-color-line: gray;\n",
              "  /* Definition of color scheme for unfitted estimators */\n",
              "  --sklearn-color-unfitted-level-0: #fff5e6;\n",
              "  --sklearn-color-unfitted-level-1: #f6e4d2;\n",
              "  --sklearn-color-unfitted-level-2: #ffe0b3;\n",
              "  --sklearn-color-unfitted-level-3: chocolate;\n",
              "  /* Definition of color scheme for fitted estimators */\n",
              "  --sklearn-color-fitted-level-0: #f0f8ff;\n",
              "  --sklearn-color-fitted-level-1: #d4ebff;\n",
              "  --sklearn-color-fitted-level-2: #b3dbfd;\n",
              "  --sklearn-color-fitted-level-3: cornflowerblue;\n",
              "\n",
              "  /* Specific color for light theme */\n",
              "  --sklearn-color-text-on-default-background: var(--sg-text-color, var(--theme-code-foreground, var(--jp-content-font-color1, black)));\n",
              "  --sklearn-color-background: var(--sg-background-color, var(--theme-background, var(--jp-layout-color0, white)));\n",
              "  --sklearn-color-border-box: var(--sg-text-color, var(--theme-code-foreground, var(--jp-content-font-color1, black)));\n",
              "  --sklearn-color-icon: #696969;\n",
              "\n",
              "  @media (prefers-color-scheme: dark) {\n",
              "    /* Redefinition of color scheme for dark theme */\n",
              "    --sklearn-color-text-on-default-background: var(--sg-text-color, var(--theme-code-foreground, var(--jp-content-font-color1, white)));\n",
              "    --sklearn-color-background: var(--sg-background-color, var(--theme-background, var(--jp-layout-color0, #111)));\n",
              "    --sklearn-color-border-box: var(--sg-text-color, var(--theme-code-foreground, var(--jp-content-font-color1, white)));\n",
              "    --sklearn-color-icon: #878787;\n",
              "  }\n",
              "}\n",
              "\n",
              "#sk-container-id-3 {\n",
              "  color: var(--sklearn-color-text);\n",
              "}\n",
              "\n",
              "#sk-container-id-3 pre {\n",
              "  padding: 0;\n",
              "}\n",
              "\n",
              "#sk-container-id-3 input.sk-hidden--visually {\n",
              "  border: 0;\n",
              "  clip: rect(1px 1px 1px 1px);\n",
              "  clip: rect(1px, 1px, 1px, 1px);\n",
              "  height: 1px;\n",
              "  margin: -1px;\n",
              "  overflow: hidden;\n",
              "  padding: 0;\n",
              "  position: absolute;\n",
              "  width: 1px;\n",
              "}\n",
              "\n",
              "#sk-container-id-3 div.sk-dashed-wrapped {\n",
              "  border: 1px dashed var(--sklearn-color-line);\n",
              "  margin: 0 0.4em 0.5em 0.4em;\n",
              "  box-sizing: border-box;\n",
              "  padding-bottom: 0.4em;\n",
              "  background-color: var(--sklearn-color-background);\n",
              "}\n",
              "\n",
              "#sk-container-id-3 div.sk-container {\n",
              "  /* jupyter's `normalize.less` sets `[hidden] { display: none; }`\n",
              "     but bootstrap.min.css set `[hidden] { display: none !important; }`\n",
              "     so we also need the `!important` here to be able to override the\n",
              "     default hidden behavior on the sphinx rendered scikit-learn.org.\n",
              "     See: https://github.com/scikit-learn/scikit-learn/issues/21755 */\n",
              "  display: inline-block !important;\n",
              "  position: relative;\n",
              "}\n",
              "\n",
              "#sk-container-id-3 div.sk-text-repr-fallback {\n",
              "  display: none;\n",
              "}\n",
              "\n",
              "div.sk-parallel-item,\n",
              "div.sk-serial,\n",
              "div.sk-item {\n",
              "  /* draw centered vertical line to link estimators */\n",
              "  background-image: linear-gradient(var(--sklearn-color-text-on-default-background), var(--sklearn-color-text-on-default-background));\n",
              "  background-size: 2px 100%;\n",
              "  background-repeat: no-repeat;\n",
              "  background-position: center center;\n",
              "}\n",
              "\n",
              "/* Parallel-specific style estimator block */\n",
              "\n",
              "#sk-container-id-3 div.sk-parallel-item::after {\n",
              "  content: \"\";\n",
              "  width: 100%;\n",
              "  border-bottom: 2px solid var(--sklearn-color-text-on-default-background);\n",
              "  flex-grow: 1;\n",
              "}\n",
              "\n",
              "#sk-container-id-3 div.sk-parallel {\n",
              "  display: flex;\n",
              "  align-items: stretch;\n",
              "  justify-content: center;\n",
              "  background-color: var(--sklearn-color-background);\n",
              "  position: relative;\n",
              "}\n",
              "\n",
              "#sk-container-id-3 div.sk-parallel-item {\n",
              "  display: flex;\n",
              "  flex-direction: column;\n",
              "}\n",
              "\n",
              "#sk-container-id-3 div.sk-parallel-item:first-child::after {\n",
              "  align-self: flex-end;\n",
              "  width: 50%;\n",
              "}\n",
              "\n",
              "#sk-container-id-3 div.sk-parallel-item:last-child::after {\n",
              "  align-self: flex-start;\n",
              "  width: 50%;\n",
              "}\n",
              "\n",
              "#sk-container-id-3 div.sk-parallel-item:only-child::after {\n",
              "  width: 0;\n",
              "}\n",
              "\n",
              "/* Serial-specific style estimator block */\n",
              "\n",
              "#sk-container-id-3 div.sk-serial {\n",
              "  display: flex;\n",
              "  flex-direction: column;\n",
              "  align-items: center;\n",
              "  background-color: var(--sklearn-color-background);\n",
              "  padding-right: 1em;\n",
              "  padding-left: 1em;\n",
              "}\n",
              "\n",
              "\n",
              "/* Toggleable style: style used for estimator/Pipeline/ColumnTransformer box that is\n",
              "clickable and can be expanded/collapsed.\n",
              "- Pipeline and ColumnTransformer use this feature and define the default style\n",
              "- Estimators will overwrite some part of the style using the `sk-estimator` class\n",
              "*/\n",
              "\n",
              "/* Pipeline and ColumnTransformer style (default) */\n",
              "\n",
              "#sk-container-id-3 div.sk-toggleable {\n",
              "  /* Default theme specific background. It is overwritten whether we have a\n",
              "  specific estimator or a Pipeline/ColumnTransformer */\n",
              "  background-color: var(--sklearn-color-background);\n",
              "}\n",
              "\n",
              "/* Toggleable label */\n",
              "#sk-container-id-3 label.sk-toggleable__label {\n",
              "  cursor: pointer;\n",
              "  display: flex;\n",
              "  width: 100%;\n",
              "  margin-bottom: 0;\n",
              "  padding: 0.5em;\n",
              "  box-sizing: border-box;\n",
              "  text-align: center;\n",
              "  align-items: start;\n",
              "  justify-content: space-between;\n",
              "  gap: 0.5em;\n",
              "}\n",
              "\n",
              "#sk-container-id-3 label.sk-toggleable__label .caption {\n",
              "  font-size: 0.6rem;\n",
              "  font-weight: lighter;\n",
              "  color: var(--sklearn-color-text-muted);\n",
              "}\n",
              "\n",
              "#sk-container-id-3 label.sk-toggleable__label-arrow:before {\n",
              "  /* Arrow on the left of the label */\n",
              "  content: \"▸\";\n",
              "  float: left;\n",
              "  margin-right: 0.25em;\n",
              "  color: var(--sklearn-color-icon);\n",
              "}\n",
              "\n",
              "#sk-container-id-3 label.sk-toggleable__label-arrow:hover:before {\n",
              "  color: var(--sklearn-color-text);\n",
              "}\n",
              "\n",
              "/* Toggleable content - dropdown */\n",
              "\n",
              "#sk-container-id-3 div.sk-toggleable__content {\n",
              "  max-height: 0;\n",
              "  max-width: 0;\n",
              "  overflow: hidden;\n",
              "  text-align: left;\n",
              "  /* unfitted */\n",
              "  background-color: var(--sklearn-color-unfitted-level-0);\n",
              "}\n",
              "\n",
              "#sk-container-id-3 div.sk-toggleable__content.fitted {\n",
              "  /* fitted */\n",
              "  background-color: var(--sklearn-color-fitted-level-0);\n",
              "}\n",
              "\n",
              "#sk-container-id-3 div.sk-toggleable__content pre {\n",
              "  margin: 0.2em;\n",
              "  border-radius: 0.25em;\n",
              "  color: var(--sklearn-color-text);\n",
              "  /* unfitted */\n",
              "  background-color: var(--sklearn-color-unfitted-level-0);\n",
              "}\n",
              "\n",
              "#sk-container-id-3 div.sk-toggleable__content.fitted pre {\n",
              "  /* unfitted */\n",
              "  background-color: var(--sklearn-color-fitted-level-0);\n",
              "}\n",
              "\n",
              "#sk-container-id-3 input.sk-toggleable__control:checked~div.sk-toggleable__content {\n",
              "  /* Expand drop-down */\n",
              "  max-height: 200px;\n",
              "  max-width: 100%;\n",
              "  overflow: auto;\n",
              "}\n",
              "\n",
              "#sk-container-id-3 input.sk-toggleable__control:checked~label.sk-toggleable__label-arrow:before {\n",
              "  content: \"▾\";\n",
              "}\n",
              "\n",
              "/* Pipeline/ColumnTransformer-specific style */\n",
              "\n",
              "#sk-container-id-3 div.sk-label input.sk-toggleable__control:checked~label.sk-toggleable__label {\n",
              "  color: var(--sklearn-color-text);\n",
              "  background-color: var(--sklearn-color-unfitted-level-2);\n",
              "}\n",
              "\n",
              "#sk-container-id-3 div.sk-label.fitted input.sk-toggleable__control:checked~label.sk-toggleable__label {\n",
              "  background-color: var(--sklearn-color-fitted-level-2);\n",
              "}\n",
              "\n",
              "/* Estimator-specific style */\n",
              "\n",
              "/* Colorize estimator box */\n",
              "#sk-container-id-3 div.sk-estimator input.sk-toggleable__control:checked~label.sk-toggleable__label {\n",
              "  /* unfitted */\n",
              "  background-color: var(--sklearn-color-unfitted-level-2);\n",
              "}\n",
              "\n",
              "#sk-container-id-3 div.sk-estimator.fitted input.sk-toggleable__control:checked~label.sk-toggleable__label {\n",
              "  /* fitted */\n",
              "  background-color: var(--sklearn-color-fitted-level-2);\n",
              "}\n",
              "\n",
              "#sk-container-id-3 div.sk-label label.sk-toggleable__label,\n",
              "#sk-container-id-3 div.sk-label label {\n",
              "  /* The background is the default theme color */\n",
              "  color: var(--sklearn-color-text-on-default-background);\n",
              "}\n",
              "\n",
              "/* On hover, darken the color of the background */\n",
              "#sk-container-id-3 div.sk-label:hover label.sk-toggleable__label {\n",
              "  color: var(--sklearn-color-text);\n",
              "  background-color: var(--sklearn-color-unfitted-level-2);\n",
              "}\n",
              "\n",
              "/* Label box, darken color on hover, fitted */\n",
              "#sk-container-id-3 div.sk-label.fitted:hover label.sk-toggleable__label.fitted {\n",
              "  color: var(--sklearn-color-text);\n",
              "  background-color: var(--sklearn-color-fitted-level-2);\n",
              "}\n",
              "\n",
              "/* Estimator label */\n",
              "\n",
              "#sk-container-id-3 div.sk-label label {\n",
              "  font-family: monospace;\n",
              "  font-weight: bold;\n",
              "  display: inline-block;\n",
              "  line-height: 1.2em;\n",
              "}\n",
              "\n",
              "#sk-container-id-3 div.sk-label-container {\n",
              "  text-align: center;\n",
              "}\n",
              "\n",
              "/* Estimator-specific */\n",
              "#sk-container-id-3 div.sk-estimator {\n",
              "  font-family: monospace;\n",
              "  border: 1px dotted var(--sklearn-color-border-box);\n",
              "  border-radius: 0.25em;\n",
              "  box-sizing: border-box;\n",
              "  margin-bottom: 0.5em;\n",
              "  /* unfitted */\n",
              "  background-color: var(--sklearn-color-unfitted-level-0);\n",
              "}\n",
              "\n",
              "#sk-container-id-3 div.sk-estimator.fitted {\n",
              "  /* fitted */\n",
              "  background-color: var(--sklearn-color-fitted-level-0);\n",
              "}\n",
              "\n",
              "/* on hover */\n",
              "#sk-container-id-3 div.sk-estimator:hover {\n",
              "  /* unfitted */\n",
              "  background-color: var(--sklearn-color-unfitted-level-2);\n",
              "}\n",
              "\n",
              "#sk-container-id-3 div.sk-estimator.fitted:hover {\n",
              "  /* fitted */\n",
              "  background-color: var(--sklearn-color-fitted-level-2);\n",
              "}\n",
              "\n",
              "/* Specification for estimator info (e.g. \"i\" and \"?\") */\n",
              "\n",
              "/* Common style for \"i\" and \"?\" */\n",
              "\n",
              ".sk-estimator-doc-link,\n",
              "a:link.sk-estimator-doc-link,\n",
              "a:visited.sk-estimator-doc-link {\n",
              "  float: right;\n",
              "  font-size: smaller;\n",
              "  line-height: 1em;\n",
              "  font-family: monospace;\n",
              "  background-color: var(--sklearn-color-background);\n",
              "  border-radius: 1em;\n",
              "  height: 1em;\n",
              "  width: 1em;\n",
              "  text-decoration: none !important;\n",
              "  margin-left: 0.5em;\n",
              "  text-align: center;\n",
              "  /* unfitted */\n",
              "  border: var(--sklearn-color-unfitted-level-1) 1pt solid;\n",
              "  color: var(--sklearn-color-unfitted-level-1);\n",
              "}\n",
              "\n",
              ".sk-estimator-doc-link.fitted,\n",
              "a:link.sk-estimator-doc-link.fitted,\n",
              "a:visited.sk-estimator-doc-link.fitted {\n",
              "  /* fitted */\n",
              "  border: var(--sklearn-color-fitted-level-1) 1pt solid;\n",
              "  color: var(--sklearn-color-fitted-level-1);\n",
              "}\n",
              "\n",
              "/* On hover */\n",
              "div.sk-estimator:hover .sk-estimator-doc-link:hover,\n",
              ".sk-estimator-doc-link:hover,\n",
              "div.sk-label-container:hover .sk-estimator-doc-link:hover,\n",
              ".sk-estimator-doc-link:hover {\n",
              "  /* unfitted */\n",
              "  background-color: var(--sklearn-color-unfitted-level-3);\n",
              "  color: var(--sklearn-color-background);\n",
              "  text-decoration: none;\n",
              "}\n",
              "\n",
              "div.sk-estimator.fitted:hover .sk-estimator-doc-link.fitted:hover,\n",
              ".sk-estimator-doc-link.fitted:hover,\n",
              "div.sk-label-container:hover .sk-estimator-doc-link.fitted:hover,\n",
              ".sk-estimator-doc-link.fitted:hover {\n",
              "  /* fitted */\n",
              "  background-color: var(--sklearn-color-fitted-level-3);\n",
              "  color: var(--sklearn-color-background);\n",
              "  text-decoration: none;\n",
              "}\n",
              "\n",
              "/* Span, style for the box shown on hovering the info icon */\n",
              ".sk-estimator-doc-link span {\n",
              "  display: none;\n",
              "  z-index: 9999;\n",
              "  position: relative;\n",
              "  font-weight: normal;\n",
              "  right: .2ex;\n",
              "  padding: .5ex;\n",
              "  margin: .5ex;\n",
              "  width: min-content;\n",
              "  min-width: 20ex;\n",
              "  max-width: 50ex;\n",
              "  color: var(--sklearn-color-text);\n",
              "  box-shadow: 2pt 2pt 4pt #999;\n",
              "  /* unfitted */\n",
              "  background: var(--sklearn-color-unfitted-level-0);\n",
              "  border: .5pt solid var(--sklearn-color-unfitted-level-3);\n",
              "}\n",
              "\n",
              ".sk-estimator-doc-link.fitted span {\n",
              "  /* fitted */\n",
              "  background: var(--sklearn-color-fitted-level-0);\n",
              "  border: var(--sklearn-color-fitted-level-3);\n",
              "}\n",
              "\n",
              ".sk-estimator-doc-link:hover span {\n",
              "  display: block;\n",
              "}\n",
              "\n",
              "/* \"?\"-specific style due to the `<a>` HTML tag */\n",
              "\n",
              "#sk-container-id-3 a.estimator_doc_link {\n",
              "  float: right;\n",
              "  font-size: 1rem;\n",
              "  line-height: 1em;\n",
              "  font-family: monospace;\n",
              "  background-color: var(--sklearn-color-background);\n",
              "  border-radius: 1rem;\n",
              "  height: 1rem;\n",
              "  width: 1rem;\n",
              "  text-decoration: none;\n",
              "  /* unfitted */\n",
              "  color: var(--sklearn-color-unfitted-level-1);\n",
              "  border: var(--sklearn-color-unfitted-level-1) 1pt solid;\n",
              "}\n",
              "\n",
              "#sk-container-id-3 a.estimator_doc_link.fitted {\n",
              "  /* fitted */\n",
              "  border: var(--sklearn-color-fitted-level-1) 1pt solid;\n",
              "  color: var(--sklearn-color-fitted-level-1);\n",
              "}\n",
              "\n",
              "/* On hover */\n",
              "#sk-container-id-3 a.estimator_doc_link:hover {\n",
              "  /* unfitted */\n",
              "  background-color: var(--sklearn-color-unfitted-level-3);\n",
              "  color: var(--sklearn-color-background);\n",
              "  text-decoration: none;\n",
              "}\n",
              "\n",
              "#sk-container-id-3 a.estimator_doc_link.fitted:hover {\n",
              "  /* fitted */\n",
              "  background-color: var(--sklearn-color-fitted-level-3);\n",
              "}\n",
              "</style><div id=\"sk-container-id-3\" class=\"sk-top-container\"><div class=\"sk-text-repr-fallback\"><pre>LogisticRegression()</pre><b>In a Jupyter environment, please rerun this cell to show the HTML representation or trust the notebook. <br />On GitHub, the HTML representation is unable to render, please try loading this page with nbviewer.org.</b></div><div class=\"sk-container\" hidden><div class=\"sk-item\"><div class=\"sk-estimator fitted sk-toggleable\"><input class=\"sk-toggleable__control sk-hidden--visually\" id=\"sk-estimator-id-3\" type=\"checkbox\" checked><label for=\"sk-estimator-id-3\" class=\"sk-toggleable__label fitted sk-toggleable__label-arrow\"><div><div>LogisticRegression</div></div><div><a class=\"sk-estimator-doc-link fitted\" rel=\"noreferrer\" target=\"_blank\" href=\"https://scikit-learn.org/1.6/modules/generated/sklearn.linear_model.LogisticRegression.html\">?<span>Documentation for LogisticRegression</span></a><span class=\"sk-estimator-doc-link fitted\">i<span>Fitted</span></span></div></label><div class=\"sk-toggleable__content fitted\"><pre>LogisticRegression()</pre></div> </div></div></div></div>"
            ],
            "text/plain": [
              "LogisticRegression()"
            ]
          },
          "execution_count": 199,
          "metadata": {},
          "output_type": "execute_result"
        }
      ],
      "source": [
        "model.fit(X_train_scaled_new, y_train.values.ravel())"
      ]
    },
    {
      "cell_type": "markdown",
      "metadata": {},
      "source": [
        "## Prediction"
      ]
    },
    {
      "cell_type": "code",
      "execution_count": 200,
      "metadata": {},
      "outputs": [],
      "source": [
        "y_pred = model.predict(X_test_scaled_new)"
      ]
    },
    {
      "cell_type": "code",
      "execution_count": 201,
      "metadata": {},
      "outputs": [
        {
          "name": "stdout",
          "output_type": "stream",
          "text": [
            "[0 0 0 0 0 1 0]\n"
          ]
        }
      ],
      "source": [
        "print(y_pred)"
      ]
    },
    {
      "cell_type": "markdown",
      "metadata": {},
      "source": [
        "### Saving the output as new table"
      ]
    },
    {
      "cell_type": "code",
      "execution_count": 202,
      "metadata": {},
      "outputs": [],
      "source": [
        "# Get Employee_IDs from X_test\n",
        "employee_ids = X_test_scaled['Employee_ID'].values"
      ]
    },
    {
      "cell_type": "code",
      "execution_count": 203,
      "metadata": {},
      "outputs": [
        {
          "name": "stdout",
          "output_type": "stream",
          "text": [
            "employee_ids shape: (7,)\n",
            "y_test shape: (7, 1)\n",
            "y_pred shape: (7,)\n"
          ]
        }
      ],
      "source": [
        "print(\"employee_ids shape:\", employee_ids.shape)\n",
        "print(\"y_test shape:\", y_test.shape)\n",
        "print(\"y_pred shape:\", y_pred.shape)\n"
      ]
    },
    {
      "cell_type": "code",
      "execution_count": 204,
      "metadata": {},
      "outputs": [
        {
          "name": "stdout",
          "output_type": "stream",
          "text": [
            "    left\n",
            "14     0\n",
            "19     0\n",
            "3      0\n",
            "27     0\n",
            "31     0\n",
            "26     1\n",
            "20     0\n"
          ]
        }
      ],
      "source": [
        "print(y_test)"
      ]
    },
    {
      "cell_type": "code",
      "execution_count": 205,
      "metadata": {},
      "outputs": [],
      "source": [
        "# Flatten y_test to 1D\n",
        "y_test = y_test.values.ravel()"
      ]
    },
    {
      "cell_type": "code",
      "execution_count": 206,
      "metadata": {},
      "outputs": [
        {
          "name": "stdout",
          "output_type": "stream",
          "text": [
            "employee_ids shape: (7,)\n",
            "y_test shape: (7,)\n",
            "y_pred shape: (7,)\n"
          ]
        }
      ],
      "source": [
        "print(\"employee_ids shape:\", employee_ids.shape)\n",
        "print(\"y_test shape:\", y_test.shape)\n",
        "print(\"y_pred shape:\", y_pred.shape)"
      ]
    },
    {
      "cell_type": "code",
      "execution_count": 207,
      "metadata": {},
      "outputs": [
        {
          "name": "stdout",
          "output_type": "stream",
          "text": [
            "[0 0 0 0 0 1 0]\n"
          ]
        }
      ],
      "source": [
        "print(y_test)"
      ]
    },
    {
      "cell_type": "markdown",
      "metadata": {},
      "source": [
        "### get top 3 features"
      ]
    },
    {
      "cell_type": "code",
      "execution_count": 208,
      "metadata": {},
      "outputs": [],
      "source": [
        "top_indices = np.argsort(model.coef_[0])[::-1][:3]\n"
      ]
    },
    {
      "cell_type": "code",
      "execution_count": 209,
      "metadata": {},
      "outputs": [
        {
          "name": "stdout",
          "output_type": "stream",
          "text": [
            "[ 8  5 18]\n"
          ]
        }
      ],
      "source": [
        "print(top_indices)"
      ]
    },
    {
      "cell_type": "code",
      "execution_count": 210,
      "metadata": {},
      "outputs": [],
      "source": [
        "top_features = X_train_scaled_new.columns[top_indices].tolist()"
      ]
    },
    {
      "cell_type": "code",
      "execution_count": 211,
      "metadata": {},
      "outputs": [],
      "source": [
        "results_df = pd.DataFrame({\n",
        "    'Employee_ID': employee_ids,\n",
        "    'Actual': y_test,\n",
        "    'Predicted': y_pred,\n",
        "    'Cluster_label': 3,\n",
        "    'primary_attrition_feature': top_features[0],\n",
        "    'secondary_attrition_feature': top_features[1],\n",
        "    'tertiary_attrition_feature': top_features[2]\n",
        "})\n",
        "\n",
        "\n"
      ]
    },
    {
      "cell_type": "code",
      "execution_count": 212,
      "metadata": {},
      "outputs": [],
      "source": [
        "# Create the folder if it doesn't exist\n",
        "os.makedirs(\"7_5_am_workday_log_reg_prediction_on_cluster_3_data\", exist_ok=True)\n",
        "\n",
        "# Save the Excel file inside the folder\n",
        "results_df.to_csv(\"7_5_am_workday_log_reg_prediction_on_cluster_3_data/7_5_am_workday_log_reg_prediction_on_cluster_3_data.csv\", index=False)\n"
      ]
    },
    {
      "cell_type": "code",
      "execution_count": 213,
      "metadata": {},
      "outputs": [],
      "source": [
        "# spark_df = spark.createDataFrame(results_df)\n",
        "# spark_df.write.mode(\"overwrite\").saveAsTable(\"sd_bdc_demo.k_cluster_logistic_regression.7_5_am_workday_log_reg_prediction_on_cluster_3_data\")"
      ]
    },
    {
      "cell_type": "markdown",
      "metadata": {},
      "source": [
        "## Accuracy"
      ]
    },
    {
      "cell_type": "code",
      "execution_count": 214,
      "metadata": {},
      "outputs": [
        {
          "data": {
            "text/plain": [
              "1.0"
            ]
          },
          "execution_count": 214,
          "metadata": {},
          "output_type": "execute_result"
        }
      ],
      "source": [
        "model.score(X_test_scaled_new,y_test)"
      ]
    },
    {
      "cell_type": "code",
      "execution_count": 215,
      "metadata": {},
      "outputs": [
        {
          "name": "stdout",
          "output_type": "stream",
          "text": [
            "Confusion Matrix:\n",
            " [[6 0]\n",
            " [0 1]]\n",
            "Accuracy: 1.0\n",
            "Precision: 1.0\n",
            "Recall: 1.0\n",
            "F1 Score: 1.0\n"
          ]
        }
      ],
      "source": [
        "from sklearn.metrics import accuracy_score, precision_score, recall_score, f1_score, confusion_matrix\n",
        "\n",
        "print(\"Confusion Matrix:\\n\", confusion_matrix(y_test, y_pred))\n",
        "print(\"Accuracy:\", accuracy_score(y_test, y_pred))\n",
        "print(\"Precision:\", precision_score(y_test, y_pred))\n",
        "print(\"Recall:\", recall_score(y_test, y_pred))\n",
        "print(\"F1 Score:\", f1_score(y_test, y_pred))\n"
      ]
    },
    {
      "cell_type": "markdown",
      "metadata": {},
      "source": [
        "### saving the metrics"
      ]
    },
    {
      "cell_type": "code",
      "execution_count": 216,
      "metadata": {},
      "outputs": [],
      "source": [
        "Accuracy = accuracy_score(y_test, y_pred)\n",
        "Precision = precision_score(y_test, y_pred)\n",
        "Recall = recall_score(y_test, y_pred) \n",
        "F1_Score = f1_score(y_test, y_pred)\n",
        "\n",
        "# Create a DataFrame\n",
        "metrics_df = pd.DataFrame({\n",
        "    \"Metric\": [\"Accuracy\", \"Precision\", \"Recall\", \"F1_Score\"],\n",
        "    \"Value\": [Accuracy, Precision, Recall, F1_Score]\n",
        "})\n"
      ]
    },
    {
      "cell_type": "code",
      "execution_count": 217,
      "metadata": {},
      "outputs": [],
      "source": [
        "# Create the folder if it doesn't exist\n",
        "os.makedirs(\"7_6_am_workday_log_reg_metrics_data\", exist_ok=True)\n",
        "\n",
        "# Save the Excel file inside the folder\n",
        "metrics_df.to_csv(\"7_6_am_workday_log_reg_metrics_data/7_6_am_workday_log_reg_metrics_data.csv\", index=False)\n"
      ]
    },
    {
      "cell_type": "code",
      "execution_count": 218,
      "metadata": {},
      "outputs": [],
      "source": [
        "# spark_df = spark.createDataFrame(metrics_df)\n",
        "# spark_df.write.mode(\"overwrite\").saveAsTable(\"sd_bdc_demo.k_cluster_logistic_regression.7_6_am_workday_log_reg_metrics_data\")"
      ]
    },
    {
      "cell_type": "markdown",
      "metadata": {},
      "source": [
        "## Bias & Weights"
      ]
    },
    {
      "cell_type": "code",
      "execution_count": 219,
      "metadata": {},
      "outputs": [
        {
          "name": "stdout",
          "output_type": "stream",
          "text": [
            "[[ 0.09390019  0.02190787  0.02190787  0.02190787  0.08469375  0.55282843\n",
            "  -0.40059484  0.          1.33411941 -0.3119758  -0.02113988 -0.06718198\n",
            "   0.         -0.03447581 -0.01013621 -0.02532782 -0.13806344 -0.00418484\n",
            "   0.35629074 -0.00784043 -0.00467585 -0.02145165  0.35089909 -0.00818676\n",
            "  -0.00365627  0.          0.21808978 -0.1077808  -0.01990816 -0.00191724\n",
            "  -0.09222072  0.          0.         -0.10223289 -0.06997445 -0.00906241\n",
            "   0.         -0.17512839 -0.06718198 -0.15131069 -0.24506823  0.20990301\n",
            "  -0.12892067 -0.0333221   0.25939417  0.1572401   0.2780511  -0.16753831\n",
            "  -0.10977919]]\n",
            "[-3.30188274]\n"
          ]
        }
      ],
      "source": [
        "print(model.coef_)       # β₁, β₂, ..., βn\n",
        "print(model.intercept_)  # β₀"
      ]
    },
    {
      "cell_type": "code",
      "execution_count": 220,
      "metadata": {},
      "outputs": [
        {
          "data": {
            "text/plain": [
              "49"
            ]
          },
          "execution_count": 220,
          "metadata": {},
          "output_type": "execute_result"
        }
      ],
      "source": [
        "len(model.coef_.ravel())"
      ]
    },
    {
      "cell_type": "code",
      "execution_count": 221,
      "metadata": {},
      "outputs": [
        {
          "data": {
            "text/plain": [
              "np.float64(1.33411941305918)"
            ]
          },
          "execution_count": 221,
          "metadata": {},
          "output_type": "execute_result"
        }
      ],
      "source": [
        "max(model.coef_.ravel())"
      ]
    },
    {
      "cell_type": "code",
      "execution_count": 222,
      "metadata": {},
      "outputs": [
        {
          "name": "stdout",
          "output_type": "stream",
          "text": [
            "Employee_Annual_Salary                      0.093900\n",
            "Monthly_Medical_contribution                0.021908\n",
            "Monthly_Dental_Contribution                 0.021908\n",
            "Monthly_Vision_Contribution                 0.021908\n",
            "Bonus                                       0.084694\n",
            "Years_Of_Service                            0.552828\n",
            "Employee_HR_rate                           -0.400595\n",
            "Hours_per_week                              0.000000\n",
            "Years_Since_Last_Promotion                  1.334119\n",
            "age                                        -0.311976\n",
            "Current_Role_HR Manager                    -0.021140\n",
            "Current_Role_Lead Data Engineer            -0.067182\n",
            "Current_Role_Lead Data Scientist            0.000000\n",
            "Current_Role_Lead DevOps Engineer          -0.034476\n",
            "Current_Role_Lead Software Developer       -0.010136\n",
            "Current_Role_Lead Software Engineer        -0.025328\n",
            "Current_Role_Lead UX Designer              -0.138063\n",
            "Current_Role_Product Designer              -0.004185\n",
            "Current_Role_Product Lead                   0.356291\n",
            "Current_Role_Product Marketing Manager     -0.007840\n",
            "Current_Role_Project Manager               -0.004676\n",
            "Current_Role_Senior Account Executive      -0.021452\n",
            "Current_Role_Senior Account Manager         0.350899\n",
            "Current_Role_Senior Business Analyst       -0.008187\n",
            "Current_Role_Senior Content Writer         -0.003656\n",
            "Current_Role_Senior DevOps Engineer         0.000000\n",
            "Current_Role_Senior Financial Analyst       0.218090\n",
            "Current_Role_Senior HR Manager             -0.107781\n",
            "Current_Role_Senior Marketing Manager      -0.019908\n",
            "Current_Role_Senior Marketing Specialist   -0.001917\n",
            "Current_Role_Senior Product Manager        -0.092221\n",
            "Current_Role_Senior Project Manager         0.000000\n",
            "Current_Role_Senior Sales Executive         0.000000\n",
            "Current_Role_Senior Sales Manager          -0.102233\n",
            "Current_Role_Senior Sales Representative   -0.069974\n",
            "Current_Role_Senior UX Designer            -0.009062\n",
            "Current_Role_Staff Engineer                 0.000000\n",
            "Current_Role_Technical Lead                -0.175128\n",
            "Department_Data Science                    -0.067182\n",
            "Department_Design                          -0.151311\n",
            "Department_Engineering                     -0.245068\n",
            "Department_Finance                          0.209903\n",
            "Department_Human Resources                 -0.128921\n",
            "Department_Marketing                       -0.033322\n",
            "Department_Product                          0.259394\n",
            "Department_Sales                            0.157240\n",
            "Gender_Female                               0.278051\n",
            "Gender_Male                                -0.167538\n",
            "Gender_Non-Binary                          -0.109779\n",
            "dtype: float64\n"
          ]
        }
      ],
      "source": [
        "feature_weights = pd.Series(model.coef_[0], index=X_train_scaled_new.columns)\n",
        "print(feature_weights)\n"
      ]
    },
    {
      "cell_type": "markdown",
      "metadata": {},
      "source": [
        "### Saving All Feature & Weights"
      ]
    },
    {
      "cell_type": "code",
      "execution_count": 223,
      "metadata": {},
      "outputs": [
        {
          "name": "stdout",
          "output_type": "stream",
          "text": [
            "                                     Feature    Weight\n",
            "0                     Employee_Annual_Salary  0.093900\n",
            "1               Monthly_Medical_contribution  0.021908\n",
            "2                Monthly_Dental_Contribution  0.021908\n",
            "3                Monthly_Vision_Contribution  0.021908\n",
            "4                                      Bonus  0.084694\n",
            "5                           Years_Of_Service  0.552828\n",
            "6                           Employee_HR_rate -0.400595\n",
            "7                             Hours_per_week  0.000000\n",
            "8                 Years_Since_Last_Promotion  1.334119\n",
            "9                                        age -0.311976\n",
            "10                   Current_Role_HR Manager -0.021140\n",
            "11           Current_Role_Lead Data Engineer -0.067182\n",
            "12          Current_Role_Lead Data Scientist  0.000000\n",
            "13         Current_Role_Lead DevOps Engineer -0.034476\n",
            "14      Current_Role_Lead Software Developer -0.010136\n",
            "15       Current_Role_Lead Software Engineer -0.025328\n",
            "16             Current_Role_Lead UX Designer -0.138063\n",
            "17             Current_Role_Product Designer -0.004185\n",
            "18                 Current_Role_Product Lead  0.356291\n",
            "19    Current_Role_Product Marketing Manager -0.007840\n",
            "20              Current_Role_Project Manager -0.004676\n",
            "21     Current_Role_Senior Account Executive -0.021452\n",
            "22       Current_Role_Senior Account Manager  0.350899\n",
            "23      Current_Role_Senior Business Analyst -0.008187\n",
            "24        Current_Role_Senior Content Writer -0.003656\n",
            "25       Current_Role_Senior DevOps Engineer  0.000000\n",
            "26     Current_Role_Senior Financial Analyst  0.218090\n",
            "27            Current_Role_Senior HR Manager -0.107781\n",
            "28     Current_Role_Senior Marketing Manager -0.019908\n",
            "29  Current_Role_Senior Marketing Specialist -0.001917\n",
            "30       Current_Role_Senior Product Manager -0.092221\n",
            "31       Current_Role_Senior Project Manager  0.000000\n",
            "32       Current_Role_Senior Sales Executive  0.000000\n",
            "33         Current_Role_Senior Sales Manager -0.102233\n",
            "34  Current_Role_Senior Sales Representative -0.069974\n",
            "35           Current_Role_Senior UX Designer -0.009062\n",
            "36               Current_Role_Staff Engineer  0.000000\n",
            "37               Current_Role_Technical Lead -0.175128\n",
            "38                   Department_Data Science -0.067182\n",
            "39                         Department_Design -0.151311\n",
            "40                    Department_Engineering -0.245068\n",
            "41                        Department_Finance  0.209903\n",
            "42                Department_Human Resources -0.128921\n",
            "43                      Department_Marketing -0.033322\n",
            "44                        Department_Product  0.259394\n",
            "45                          Department_Sales  0.157240\n",
            "46                             Gender_Female  0.278051\n",
            "47                               Gender_Male -0.167538\n",
            "48                         Gender_Non-Binary -0.109779\n"
          ]
        }
      ],
      "source": [
        "weights_df = pd.DataFrame({\n",
        "    'Feature': X_train_scaled_new.columns,\n",
        "    'Weight': model.coef_[0] \n",
        "})\n",
        "\n",
        "print(weights_df)"
      ]
    },
    {
      "cell_type": "code",
      "execution_count": 224,
      "metadata": {},
      "outputs": [],
      "source": [
        "# Create the folder if it doesn't exist\n",
        "os.makedirs(\"7_1_am_workday_all_feature_vs_weights_on_cluster_3_data\", exist_ok=True)\n",
        "\n",
        "# Save the Excel file inside the folder\n",
        "weights_df.to_csv(\"7_1_am_workday_all_feature_vs_weights_on_cluster_3_data/7_1_am_workday_all_feature_vs_weights_on_cluster_3_data.csv\", index=False)"
      ]
    },
    {
      "cell_type": "code",
      "execution_count": 225,
      "metadata": {},
      "outputs": [],
      "source": [
        "# spark_df = spark.createDataFrame(weights_df)\n",
        "# spark_df.write.mode(\"overwrite\").saveAsTable(\"sd_bdc_demo.k_cluster_logistic_regression.7_1_am_workday_all_feature_vs_weights_on_cluster_3_data\")"
      ]
    },
    {
      "cell_type": "markdown",
      "metadata": {},
      "source": [
        "### Saving Current_Role & Weights"
      ]
    },
    {
      "cell_type": "code",
      "execution_count": 226,
      "metadata": {},
      "outputs": [],
      "source": [
        "# pyspark_df = spark.table(\"sd_bdc_demo.k_cluster_logistic_regression.7_1_am_workday_all_feature_vs_weights_on_cluster_3_data\")\n",
        "# pyspark_df.display()\n",
        "# all_feature_df = pyspark_df.toPandas()"
      ]
    },
    {
      "cell_type": "code",
      "execution_count": 227,
      "metadata": {},
      "outputs": [],
      "source": [
        "all_feature_df = pd.read_csv(\"7_1_am_workday_all_feature_vs_weights_on_cluster_3_data/7_1_am_workday_all_feature_vs_weights_on_cluster_3_data.csv\")"
      ]
    },
    {
      "cell_type": "code",
      "execution_count": 228,
      "metadata": {},
      "outputs": [
        {
          "name": "stdout",
          "output_type": "stream",
          "text": [
            "                        Feature    Weight\n",
            "0        Employee_Annual_Salary  0.093900\n",
            "1  Monthly_Medical_contribution  0.021908\n",
            "2   Monthly_Dental_Contribution  0.021908\n",
            "3   Monthly_Vision_Contribution  0.021908\n",
            "4                         Bonus  0.084694\n"
          ]
        }
      ],
      "source": [
        "print(all_feature_df.head())"
      ]
    },
    {
      "cell_type": "code",
      "execution_count": 229,
      "metadata": {},
      "outputs": [
        {
          "name": "stdout",
          "output_type": "stream",
          "text": [
            "                                     Feature    Weight\n",
            "10                   Current_Role_HR Manager -0.021140\n",
            "11           Current_Role_Lead Data Engineer -0.067182\n",
            "12          Current_Role_Lead Data Scientist  0.000000\n",
            "13         Current_Role_Lead DevOps Engineer -0.034476\n",
            "14      Current_Role_Lead Software Developer -0.010136\n",
            "15       Current_Role_Lead Software Engineer -0.025328\n",
            "16             Current_Role_Lead UX Designer -0.138063\n",
            "17             Current_Role_Product Designer -0.004185\n",
            "18                 Current_Role_Product Lead  0.356291\n",
            "19    Current_Role_Product Marketing Manager -0.007840\n",
            "20              Current_Role_Project Manager -0.004676\n",
            "21     Current_Role_Senior Account Executive -0.021452\n",
            "22       Current_Role_Senior Account Manager  0.350899\n",
            "23      Current_Role_Senior Business Analyst -0.008187\n",
            "24        Current_Role_Senior Content Writer -0.003656\n",
            "25       Current_Role_Senior DevOps Engineer  0.000000\n",
            "26     Current_Role_Senior Financial Analyst  0.218090\n",
            "27            Current_Role_Senior HR Manager -0.107781\n",
            "28     Current_Role_Senior Marketing Manager -0.019908\n",
            "29  Current_Role_Senior Marketing Specialist -0.001917\n",
            "30       Current_Role_Senior Product Manager -0.092221\n",
            "31       Current_Role_Senior Project Manager  0.000000\n",
            "32       Current_Role_Senior Sales Executive  0.000000\n",
            "33         Current_Role_Senior Sales Manager -0.102233\n",
            "34  Current_Role_Senior Sales Representative -0.069974\n",
            "35           Current_Role_Senior UX Designer -0.009062\n",
            "36               Current_Role_Staff Engineer  0.000000\n",
            "37               Current_Role_Technical Lead -0.175128\n"
          ]
        }
      ],
      "source": [
        "all_feature_df_Current_Role = all_feature_df[all_feature_df['Feature'].str.startswith('Current_Role_')]\n",
        "print(all_feature_df_Current_Role)\n"
      ]
    },
    {
      "cell_type": "code",
      "execution_count": 230,
      "metadata": {},
      "outputs": [],
      "source": [
        "Current_Role_df = all_feature_df_Current_Role.copy()"
      ]
    },
    {
      "cell_type": "code",
      "execution_count": 231,
      "metadata": {},
      "outputs": [],
      "source": [
        "Current_Role_df['Feature'] = Current_Role_df['Feature'].str.removeprefix('Current_Role_')\n"
      ]
    },
    {
      "cell_type": "code",
      "execution_count": 232,
      "metadata": {},
      "outputs": [
        {
          "name": "stdout",
          "output_type": "stream",
          "text": [
            "                        Feature    Weight\n",
            "10                   HR Manager -0.021140\n",
            "11           Lead Data Engineer -0.067182\n",
            "12          Lead Data Scientist  0.000000\n",
            "13         Lead DevOps Engineer -0.034476\n",
            "14      Lead Software Developer -0.010136\n",
            "15       Lead Software Engineer -0.025328\n",
            "16             Lead UX Designer -0.138063\n",
            "17             Product Designer -0.004185\n",
            "18                 Product Lead  0.356291\n",
            "19    Product Marketing Manager -0.007840\n",
            "20              Project Manager -0.004676\n",
            "21     Senior Account Executive -0.021452\n",
            "22       Senior Account Manager  0.350899\n",
            "23      Senior Business Analyst -0.008187\n",
            "24        Senior Content Writer -0.003656\n",
            "25       Senior DevOps Engineer  0.000000\n",
            "26     Senior Financial Analyst  0.218090\n",
            "27            Senior HR Manager -0.107781\n",
            "28     Senior Marketing Manager -0.019908\n",
            "29  Senior Marketing Specialist -0.001917\n",
            "30       Senior Product Manager -0.092221\n",
            "31       Senior Project Manager  0.000000\n",
            "32       Senior Sales Executive  0.000000\n",
            "33         Senior Sales Manager -0.102233\n",
            "34  Senior Sales Representative -0.069974\n",
            "35           Senior UX Designer -0.009062\n",
            "36               Staff Engineer  0.000000\n",
            "37               Technical Lead -0.175128\n"
          ]
        }
      ],
      "source": [
        "print(Current_Role_df)"
      ]
    },
    {
      "cell_type": "code",
      "execution_count": 233,
      "metadata": {},
      "outputs": [],
      "source": [
        "# Create the folder if it doesn't exist\n",
        "os.makedirs(\"7_2_am_workday_current_role_vs_weights_on_cluster_3_data\", exist_ok=True)\n",
        "\n",
        "# Save the Excel file inside the folder\n",
        "Current_Role_df.to_csv(\"7_2_am_workday_current_role_vs_weights_on_cluster_3_data/7_2_am_workday_current_role_vs_weights_on_cluster_3_data.csv\", index=False)"
      ]
    },
    {
      "cell_type": "code",
      "execution_count": 234,
      "metadata": {},
      "outputs": [],
      "source": [
        "# spark_df = spark.createDataFrame(Current_Role_df)\n",
        "# spark_df.write.mode(\"overwrite\").saveAsTable(\"sd_bdc_demo.k_cluster_logistic_regression.7_2_am_workday_current_role_vs_weights_on_cluster_3_data\")"
      ]
    },
    {
      "cell_type": "markdown",
      "metadata": {},
      "source": [
        "### Saving Department & Weights"
      ]
    },
    {
      "cell_type": "code",
      "execution_count": 235,
      "metadata": {},
      "outputs": [
        {
          "name": "stdout",
          "output_type": "stream",
          "text": [
            "                       Feature    Weight\n",
            "38     Department_Data Science -0.067182\n",
            "39           Department_Design -0.151311\n",
            "40      Department_Engineering -0.245068\n",
            "41          Department_Finance  0.209903\n",
            "42  Department_Human Resources -0.128921\n",
            "43        Department_Marketing -0.033322\n",
            "44          Department_Product  0.259394\n",
            "45            Department_Sales  0.157240\n"
          ]
        }
      ],
      "source": [
        "all_feature_df_Department = all_feature_df[all_feature_df['Feature'].str.startswith('Department_')]\n",
        "print(all_feature_df_Department)\n"
      ]
    },
    {
      "cell_type": "code",
      "execution_count": 236,
      "metadata": {},
      "outputs": [],
      "source": [
        "Department_df = all_feature_df_Department.copy()"
      ]
    },
    {
      "cell_type": "code",
      "execution_count": 237,
      "metadata": {},
      "outputs": [],
      "source": [
        "Department_df['Feature'] = Department_df['Feature'].str.removeprefix('Department_')"
      ]
    },
    {
      "cell_type": "code",
      "execution_count": 238,
      "metadata": {},
      "outputs": [],
      "source": [
        "# Create the folder if it doesn't exist\n",
        "os.makedirs(\"7_3_am_workday_department_vs_weights_on_cluster_3_data\", exist_ok=True)\n",
        "\n",
        "# Save the Excel file inside the folder\n",
        "Department_df.to_csv(\"7_3_am_workday_department_vs_weights_on_cluster_3_data/7_3_am_workday_department_vs_weights_on_cluster_3_data.csv\", index=False)"
      ]
    },
    {
      "cell_type": "code",
      "execution_count": 239,
      "metadata": {},
      "outputs": [],
      "source": [
        "# spark_df = spark.createDataFrame(Department_df)\n",
        "# spark_df.write.mode(\"overwrite\").saveAsTable(\"sd_bdc_demo.k_cluster_logistic_regression.7_3_am_workday_department_vs_weights_on_cluster_3_data\")"
      ]
    },
    {
      "cell_type": "markdown",
      "metadata": {},
      "source": [
        "### Saving Gender & Weights"
      ]
    },
    {
      "cell_type": "code",
      "execution_count": 240,
      "metadata": {},
      "outputs": [
        {
          "name": "stdout",
          "output_type": "stream",
          "text": [
            "              Feature    Weight\n",
            "46      Gender_Female  0.278051\n",
            "47        Gender_Male -0.167538\n",
            "48  Gender_Non-Binary -0.109779\n"
          ]
        }
      ],
      "source": [
        "all_feature_df_Gender = all_feature_df[all_feature_df['Feature'].str.startswith('Gender_')]\n",
        "print(all_feature_df_Gender)\n"
      ]
    },
    {
      "cell_type": "code",
      "execution_count": 241,
      "metadata": {},
      "outputs": [],
      "source": [
        "Gender_df = all_feature_df_Gender.copy()"
      ]
    },
    {
      "cell_type": "code",
      "execution_count": 242,
      "metadata": {},
      "outputs": [],
      "source": [
        "Gender_df['Feature'] = Gender_df['Feature'].str.removeprefix('Gender_')"
      ]
    },
    {
      "cell_type": "code",
      "execution_count": 243,
      "metadata": {},
      "outputs": [],
      "source": [
        "# Create the folder if it doesn't exist\n",
        "os.makedirs(\"7_4_am_workday_gender_vs_weights_on_cluster_3_data\", exist_ok=True)\n",
        "\n",
        "# Save the Excel file inside the folder\n",
        "Gender_df.to_csv(\"7_4_am_workday_gender_vs_weights_on_cluster_3_data/7_4_am_workday_gender_vs_weights_on_cluster_3_data.csv\", index=False)"
      ]
    },
    {
      "cell_type": "code",
      "execution_count": 244,
      "metadata": {},
      "outputs": [],
      "source": [
        "# spark_df = spark.createDataFrame(Gender_df)\n",
        "# spark_df.write.mode(\"overwrite\").saveAsTable(\"sd_bdc_demo.k_cluster_logistic_regression.7_4_am_workday_gender_vs_weights_on_cluster_3_data\")"
      ]
    },
    {
      "cell_type": "markdown",
      "metadata": {},
      "source": [
        "## Create a table by combining predictions of cluster 1,2,3"
      ]
    },
    {
      "cell_type": "code",
      "execution_count": 245,
      "metadata": {},
      "outputs": [],
      "source": [
        "# pyspark_df_cluster_1 = spark.table(\"sd_bdc_demo.k_cluster_logistic_regression.5_5_am_workday_log_reg_prediction_on_cluster_1_data\")\n",
        "# pyspark_df_cluster_2 = spark.table(\"sd_bdc_demo.k_cluster_logistic_regression.6_5_am_workday_log_reg_prediction_on_cluster_2_data\")\n",
        "# pyspark_df_cluster_3 = spark.table(\"sd_bdc_demo.k_cluster_logistic_regression.7_5_am_workday_log_reg_prediction_on_cluster_3_data\")\n",
        "\n",
        "# df_cluster_1 = pyspark_df_cluster_1.toPandas()\n",
        "# df_cluster_2 = pyspark_df_cluster_2.toPandas()\n",
        "# df_cluster_3 = pyspark_df_cluster_3.toPandas()"
      ]
    },
    {
      "cell_type": "code",
      "execution_count": 246,
      "metadata": {},
      "outputs": [],
      "source": [
        "df_cluster_1 = pd.read_csv(\"5_5_am_workday_log_reg_prediction_on_cluster_1_data/5_5_am_workday_log_reg_prediction_on_cluster_1_data.csv\")\n",
        "df_cluster_2 = pd.read_csv(\"6_5_am_workday_log_reg_prediction_on_cluster_2_data/6_5_am_workday_log_reg_prediction_on_cluster_2_data.csv\")\n",
        "df_cluster_3 = pd.read_csv(\"7_5_am_workday_log_reg_prediction_on_cluster_3_data/7_5_am_workday_log_reg_prediction_on_cluster_3_data.csv\")\n",
        "\n"
      ]
    },
    {
      "cell_type": "code",
      "execution_count": 247,
      "metadata": {},
      "outputs": [],
      "source": [
        "df_cluster_123 = pd.concat([df_cluster_1, df_cluster_2, df_cluster_3], ignore_index=True)"
      ]
    },
    {
      "cell_type": "code",
      "execution_count": 248,
      "metadata": {},
      "outputs": [],
      "source": [
        "# Create the folder if it doesn't exist\n",
        "os.makedirs(\"7_7_am_workday_log_reg_prediction_on_cluster_123_data\", exist_ok=True)\n",
        "\n",
        "# Save the Excel file inside the folder\n",
        "df_cluster_123.to_csv(\"7_7_am_workday_log_reg_prediction_on_cluster_123_data/7_7_am_workday_log_reg_prediction_on_cluster_123_data.csv\", index=False)"
      ]
    },
    {
      "cell_type": "code",
      "execution_count": 249,
      "metadata": {},
      "outputs": [],
      "source": [
        "# spark_df_123 = spark.createDataFrame(df_cluster_123)\n",
        "# spark_df_123.write.mode(\"overwrite\").saveAsTable(\"sd_bdc_demo.k_cluster_logistic_regression.7_7_am_workday_log_reg_prediction_on_cluster_123_data\")"
      ]
    }
  ],
  "metadata": {
    "colab": {
      "collapsed_sections": [],
      "name": "data_preprocessing_tools.ipynb",
      "provenance": [],
      "toc_visible": true
    },
    "kernelspec": {
      "display_name": ".venv",
      "language": "python",
      "name": "python3"
    },
    "language_info": {
      "codemirror_mode": {
        "name": "ipython",
        "version": 3
      },
      "file_extension": ".py",
      "mimetype": "text/x-python",
      "name": "python",
      "nbconvert_exporter": "python",
      "pygments_lexer": "ipython3",
      "version": "3.12.6"
    }
  },
  "nbformat": 4,
  "nbformat_minor": 0
}
